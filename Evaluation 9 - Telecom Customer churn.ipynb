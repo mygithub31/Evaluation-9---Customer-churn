{
 "cells": [
  {
   "cell_type": "code",
   "execution_count": 1,
   "metadata": {},
   "outputs": [],
   "source": [
    "# Importng important libraries\n",
    "import numpy as np\n",
    "import pandas as pd\n",
    "import seaborn as sns\n",
    "import matplotlib.pyplot as plt\n",
    "from sklearn.preprocessing import StandardScaler\n",
    "from sklearn.model_selection import train_test_split\n",
    "from sklearn.preprocessing import LabelEncoder\n",
    "\n",
    "import warnings\n",
    "warnings.filterwarnings('ignore')"
   ]
  },
  {
   "cell_type": "markdown",
   "metadata": {},
   "source": [
    "##### Importing Data"
   ]
  },
  {
   "cell_type": "code",
   "execution_count": 2,
   "metadata": {},
   "outputs": [],
   "source": [
    "pd. set_option(\"display.max_columns\", None)"
   ]
  },
  {
   "cell_type": "code",
   "execution_count": 124,
   "metadata": {
    "scrolled": true
   },
   "outputs": [
    {
     "data": {
      "text/html": [
       "<div>\n",
       "<style scoped>\n",
       "    .dataframe tbody tr th:only-of-type {\n",
       "        vertical-align: middle;\n",
       "    }\n",
       "\n",
       "    .dataframe tbody tr th {\n",
       "        vertical-align: top;\n",
       "    }\n",
       "\n",
       "    .dataframe thead th {\n",
       "        text-align: right;\n",
       "    }\n",
       "</style>\n",
       "<table border=\"1\" class=\"dataframe\">\n",
       "  <thead>\n",
       "    <tr style=\"text-align: right;\">\n",
       "      <th></th>\n",
       "      <th>customerID</th>\n",
       "      <th>gender</th>\n",
       "      <th>SeniorCitizen</th>\n",
       "      <th>Partner</th>\n",
       "      <th>Dependents</th>\n",
       "      <th>tenure</th>\n",
       "      <th>PhoneService</th>\n",
       "      <th>MultipleLines</th>\n",
       "      <th>InternetService</th>\n",
       "      <th>OnlineSecurity</th>\n",
       "      <th>OnlineBackup</th>\n",
       "      <th>DeviceProtection</th>\n",
       "      <th>TechSupport</th>\n",
       "      <th>StreamingTV</th>\n",
       "      <th>StreamingMovies</th>\n",
       "      <th>Contract</th>\n",
       "      <th>PaperlessBilling</th>\n",
       "      <th>PaymentMethod</th>\n",
       "      <th>MonthlyCharges</th>\n",
       "      <th>TotalCharges</th>\n",
       "      <th>Churn</th>\n",
       "    </tr>\n",
       "  </thead>\n",
       "  <tbody>\n",
       "    <tr>\n",
       "      <th>0</th>\n",
       "      <td>7590-VHVEG</td>\n",
       "      <td>Female</td>\n",
       "      <td>0</td>\n",
       "      <td>Yes</td>\n",
       "      <td>No</td>\n",
       "      <td>1</td>\n",
       "      <td>No</td>\n",
       "      <td>No phone service</td>\n",
       "      <td>DSL</td>\n",
       "      <td>No</td>\n",
       "      <td>Yes</td>\n",
       "      <td>No</td>\n",
       "      <td>No</td>\n",
       "      <td>No</td>\n",
       "      <td>No</td>\n",
       "      <td>Month-to-month</td>\n",
       "      <td>Yes</td>\n",
       "      <td>Electronic check</td>\n",
       "      <td>29.85</td>\n",
       "      <td>29.85</td>\n",
       "      <td>No</td>\n",
       "    </tr>\n",
       "    <tr>\n",
       "      <th>1</th>\n",
       "      <td>5575-GNVDE</td>\n",
       "      <td>Male</td>\n",
       "      <td>0</td>\n",
       "      <td>No</td>\n",
       "      <td>No</td>\n",
       "      <td>34</td>\n",
       "      <td>Yes</td>\n",
       "      <td>No</td>\n",
       "      <td>DSL</td>\n",
       "      <td>Yes</td>\n",
       "      <td>No</td>\n",
       "      <td>Yes</td>\n",
       "      <td>No</td>\n",
       "      <td>No</td>\n",
       "      <td>No</td>\n",
       "      <td>One year</td>\n",
       "      <td>No</td>\n",
       "      <td>Mailed check</td>\n",
       "      <td>56.95</td>\n",
       "      <td>1889.5</td>\n",
       "      <td>No</td>\n",
       "    </tr>\n",
       "    <tr>\n",
       "      <th>2</th>\n",
       "      <td>3668-QPYBK</td>\n",
       "      <td>Male</td>\n",
       "      <td>0</td>\n",
       "      <td>No</td>\n",
       "      <td>No</td>\n",
       "      <td>2</td>\n",
       "      <td>Yes</td>\n",
       "      <td>No</td>\n",
       "      <td>DSL</td>\n",
       "      <td>Yes</td>\n",
       "      <td>Yes</td>\n",
       "      <td>No</td>\n",
       "      <td>No</td>\n",
       "      <td>No</td>\n",
       "      <td>No</td>\n",
       "      <td>Month-to-month</td>\n",
       "      <td>Yes</td>\n",
       "      <td>Mailed check</td>\n",
       "      <td>53.85</td>\n",
       "      <td>108.15</td>\n",
       "      <td>Yes</td>\n",
       "    </tr>\n",
       "    <tr>\n",
       "      <th>3</th>\n",
       "      <td>7795-CFOCW</td>\n",
       "      <td>Male</td>\n",
       "      <td>0</td>\n",
       "      <td>No</td>\n",
       "      <td>No</td>\n",
       "      <td>45</td>\n",
       "      <td>No</td>\n",
       "      <td>No phone service</td>\n",
       "      <td>DSL</td>\n",
       "      <td>Yes</td>\n",
       "      <td>No</td>\n",
       "      <td>Yes</td>\n",
       "      <td>Yes</td>\n",
       "      <td>No</td>\n",
       "      <td>No</td>\n",
       "      <td>One year</td>\n",
       "      <td>No</td>\n",
       "      <td>Bank transfer (automatic)</td>\n",
       "      <td>42.30</td>\n",
       "      <td>1840.75</td>\n",
       "      <td>No</td>\n",
       "    </tr>\n",
       "    <tr>\n",
       "      <th>4</th>\n",
       "      <td>9237-HQITU</td>\n",
       "      <td>Female</td>\n",
       "      <td>0</td>\n",
       "      <td>No</td>\n",
       "      <td>No</td>\n",
       "      <td>2</td>\n",
       "      <td>Yes</td>\n",
       "      <td>No</td>\n",
       "      <td>Fiber optic</td>\n",
       "      <td>No</td>\n",
       "      <td>No</td>\n",
       "      <td>No</td>\n",
       "      <td>No</td>\n",
       "      <td>No</td>\n",
       "      <td>No</td>\n",
       "      <td>Month-to-month</td>\n",
       "      <td>Yes</td>\n",
       "      <td>Electronic check</td>\n",
       "      <td>70.70</td>\n",
       "      <td>151.65</td>\n",
       "      <td>Yes</td>\n",
       "    </tr>\n",
       "  </tbody>\n",
       "</table>\n",
       "</div>"
      ],
      "text/plain": [
       "   customerID  gender  SeniorCitizen Partner Dependents  tenure PhoneService  \\\n",
       "0  7590-VHVEG  Female              0     Yes         No       1           No   \n",
       "1  5575-GNVDE    Male              0      No         No      34          Yes   \n",
       "2  3668-QPYBK    Male              0      No         No       2          Yes   \n",
       "3  7795-CFOCW    Male              0      No         No      45           No   \n",
       "4  9237-HQITU  Female              0      No         No       2          Yes   \n",
       "\n",
       "      MultipleLines InternetService OnlineSecurity OnlineBackup  \\\n",
       "0  No phone service             DSL             No          Yes   \n",
       "1                No             DSL            Yes           No   \n",
       "2                No             DSL            Yes          Yes   \n",
       "3  No phone service             DSL            Yes           No   \n",
       "4                No     Fiber optic             No           No   \n",
       "\n",
       "  DeviceProtection TechSupport StreamingTV StreamingMovies        Contract  \\\n",
       "0               No          No          No              No  Month-to-month   \n",
       "1              Yes          No          No              No        One year   \n",
       "2               No          No          No              No  Month-to-month   \n",
       "3              Yes         Yes          No              No        One year   \n",
       "4               No          No          No              No  Month-to-month   \n",
       "\n",
       "  PaperlessBilling              PaymentMethod  MonthlyCharges TotalCharges  \\\n",
       "0              Yes           Electronic check           29.85        29.85   \n",
       "1               No               Mailed check           56.95       1889.5   \n",
       "2              Yes               Mailed check           53.85       108.15   \n",
       "3               No  Bank transfer (automatic)           42.30      1840.75   \n",
       "4              Yes           Electronic check           70.70       151.65   \n",
       "\n",
       "  Churn  \n",
       "0    No  \n",
       "1    No  \n",
       "2   Yes  \n",
       "3    No  \n",
       "4   Yes  "
      ]
     },
     "execution_count": 124,
     "metadata": {},
     "output_type": "execute_result"
    }
   ],
   "source": [
    "df = pd.read_csv(\"/Users/juhimishra/Downloads/Telecom_customer_churn.csv\")\n",
    "df.head()"
   ]
  },
  {
   "cell_type": "code",
   "execution_count": 4,
   "metadata": {},
   "outputs": [
    {
     "name": "stdout",
     "output_type": "stream",
     "text": [
      "No of rows: 7043\n",
      "no of columns: 21\n"
     ]
    }
   ],
   "source": [
    "print('No of rows:',df.shape[0])\n",
    "print('no of columns:',df.shape[1])"
   ]
  },
  {
   "cell_type": "code",
   "execution_count": 5,
   "metadata": {
    "scrolled": false
   },
   "outputs": [
    {
     "name": "stdout",
     "output_type": "stream",
     "text": [
      "<class 'pandas.core.frame.DataFrame'>\n",
      "RangeIndex: 7043 entries, 0 to 7042\n",
      "Data columns (total 21 columns):\n",
      " #   Column            Non-Null Count  Dtype  \n",
      "---  ------            --------------  -----  \n",
      " 0   customerID        7043 non-null   object \n",
      " 1   gender            7043 non-null   object \n",
      " 2   SeniorCitizen     7043 non-null   int64  \n",
      " 3   Partner           7043 non-null   object \n",
      " 4   Dependents        7043 non-null   object \n",
      " 5   tenure            7043 non-null   int64  \n",
      " 6   PhoneService      7043 non-null   object \n",
      " 7   MultipleLines     7043 non-null   object \n",
      " 8   InternetService   7043 non-null   object \n",
      " 9   OnlineSecurity    7043 non-null   object \n",
      " 10  OnlineBackup      7043 non-null   object \n",
      " 11  DeviceProtection  7043 non-null   object \n",
      " 12  TechSupport       7043 non-null   object \n",
      " 13  StreamingTV       7043 non-null   object \n",
      " 14  StreamingMovies   7043 non-null   object \n",
      " 15  Contract          7043 non-null   object \n",
      " 16  PaperlessBilling  7043 non-null   object \n",
      " 17  PaymentMethod     7043 non-null   object \n",
      " 18  MonthlyCharges    7043 non-null   float64\n",
      " 19  TotalCharges      7043 non-null   object \n",
      " 20  Churn             7043 non-null   object \n",
      "dtypes: float64(1), int64(2), object(18)\n",
      "memory usage: 1.1+ MB\n"
     ]
    }
   ],
   "source": [
    "# Finding null values, object and int/float in dataset\n",
    "df.info()"
   ]
  },
  {
   "cell_type": "markdown",
   "metadata": {},
   "source": [
    "only three colmns are in float or integer form rest all are in object and here we can't see any null values in any of the columns"
   ]
  },
  {
   "cell_type": "code",
   "execution_count": 6,
   "metadata": {
    "scrolled": false
   },
   "outputs": [
    {
     "data": {
      "text/html": [
       "<div>\n",
       "<style scoped>\n",
       "    .dataframe tbody tr th:only-of-type {\n",
       "        vertical-align: middle;\n",
       "    }\n",
       "\n",
       "    .dataframe tbody tr th {\n",
       "        vertical-align: top;\n",
       "    }\n",
       "\n",
       "    .dataframe thead th {\n",
       "        text-align: right;\n",
       "    }\n",
       "</style>\n",
       "<table border=\"1\" class=\"dataframe\">\n",
       "  <thead>\n",
       "    <tr style=\"text-align: right;\">\n",
       "      <th></th>\n",
       "      <th>SeniorCitizen</th>\n",
       "      <th>tenure</th>\n",
       "      <th>MonthlyCharges</th>\n",
       "    </tr>\n",
       "  </thead>\n",
       "  <tbody>\n",
       "    <tr>\n",
       "      <th>count</th>\n",
       "      <td>7043.000000</td>\n",
       "      <td>7043.000000</td>\n",
       "      <td>7043.000000</td>\n",
       "    </tr>\n",
       "    <tr>\n",
       "      <th>mean</th>\n",
       "      <td>0.162147</td>\n",
       "      <td>32.371149</td>\n",
       "      <td>64.761692</td>\n",
       "    </tr>\n",
       "    <tr>\n",
       "      <th>std</th>\n",
       "      <td>0.368612</td>\n",
       "      <td>24.559481</td>\n",
       "      <td>30.090047</td>\n",
       "    </tr>\n",
       "    <tr>\n",
       "      <th>min</th>\n",
       "      <td>0.000000</td>\n",
       "      <td>0.000000</td>\n",
       "      <td>18.250000</td>\n",
       "    </tr>\n",
       "    <tr>\n",
       "      <th>25%</th>\n",
       "      <td>0.000000</td>\n",
       "      <td>9.000000</td>\n",
       "      <td>35.500000</td>\n",
       "    </tr>\n",
       "    <tr>\n",
       "      <th>50%</th>\n",
       "      <td>0.000000</td>\n",
       "      <td>29.000000</td>\n",
       "      <td>70.350000</td>\n",
       "    </tr>\n",
       "    <tr>\n",
       "      <th>75%</th>\n",
       "      <td>0.000000</td>\n",
       "      <td>55.000000</td>\n",
       "      <td>89.850000</td>\n",
       "    </tr>\n",
       "    <tr>\n",
       "      <th>max</th>\n",
       "      <td>1.000000</td>\n",
       "      <td>72.000000</td>\n",
       "      <td>118.750000</td>\n",
       "    </tr>\n",
       "  </tbody>\n",
       "</table>\n",
       "</div>"
      ],
      "text/plain": [
       "       SeniorCitizen       tenure  MonthlyCharges\n",
       "count    7043.000000  7043.000000     7043.000000\n",
       "mean        0.162147    32.371149       64.761692\n",
       "std         0.368612    24.559481       30.090047\n",
       "min         0.000000     0.000000       18.250000\n",
       "25%         0.000000     9.000000       35.500000\n",
       "50%         0.000000    29.000000       70.350000\n",
       "75%         0.000000    55.000000       89.850000\n",
       "max         1.000000    72.000000      118.750000"
      ]
     },
     "execution_count": 6,
     "metadata": {},
     "output_type": "execute_result"
    }
   ],
   "source": [
    "# Checking static data using describe method\n",
    "df.describe()"
   ]
  },
  {
   "cell_type": "markdown",
   "metadata": {},
   "source": [
    "As describe data shows only continous / integer form column so we can see here only three columns and rest all are in object form "
   ]
  },
  {
   "cell_type": "markdown",
   "metadata": {},
   "source": [
    "From above static data following observations recorded:\n",
    "1. No null values \n",
    "2. there may be a less chance of skewness or outliers will see further using skew and outliers technique\n",
    "3. As we can see that senior citizen column are having two values i.e., 0 and 1 so we can consider it as categorical      column even tenure will also comes under categorical column only"
   ]
  },
  {
   "cell_type": "code",
   "execution_count": 7,
   "metadata": {
    "scrolled": false
   },
   "outputs": [
    {
     "data": {
      "text/plain": [
       "customerID          0\n",
       "gender              0\n",
       "SeniorCitizen       0\n",
       "Partner             0\n",
       "Dependents          0\n",
       "tenure              0\n",
       "PhoneService        0\n",
       "MultipleLines       0\n",
       "InternetService     0\n",
       "OnlineSecurity      0\n",
       "OnlineBackup        0\n",
       "DeviceProtection    0\n",
       "TechSupport         0\n",
       "StreamingTV         0\n",
       "StreamingMovies     0\n",
       "Contract            0\n",
       "PaperlessBilling    0\n",
       "PaymentMethod       0\n",
       "MonthlyCharges      0\n",
       "TotalCharges        0\n",
       "Churn               0\n",
       "dtype: int64"
      ]
     },
     "execution_count": 7,
     "metadata": {},
     "output_type": "execute_result"
    }
   ],
   "source": [
    "df.isna().sum()"
   ]
  },
  {
   "cell_type": "markdown",
   "metadata": {},
   "source": [
    "No null values even in categorical column too"
   ]
  },
  {
   "cell_type": "markdown",
   "metadata": {},
   "source": [
    "##### Any null values within the column"
   ]
  },
  {
   "cell_type": "code",
   "execution_count": 8,
   "metadata": {},
   "outputs": [
    {
     "data": {
      "text/plain": [
       "False"
      ]
     },
     "execution_count": 8,
     "metadata": {},
     "output_type": "execute_result"
    }
   ],
   "source": [
    "df['customerID'].isna().any()"
   ]
  },
  {
   "cell_type": "code",
   "execution_count": 9,
   "metadata": {},
   "outputs": [],
   "source": [
    "# dropping customer id column as not required for our prediction\n",
    "df.drop(columns=['customerID'],inplace=True)"
   ]
  },
  {
   "cell_type": "code",
   "execution_count": 10,
   "metadata": {
    "scrolled": true
   },
   "outputs": [
    {
     "data": {
      "text/plain": [
       "array(['Female', 'Male'], dtype=object)"
      ]
     },
     "execution_count": 10,
     "metadata": {},
     "output_type": "execute_result"
    }
   ],
   "source": [
    "df['gender'].unique()"
   ]
  },
  {
   "cell_type": "code",
   "execution_count": 11,
   "metadata": {
    "scrolled": true
   },
   "outputs": [
    {
     "data": {
      "text/plain": [
       "Male      3555\n",
       "Female    3488\n",
       "Name: gender, dtype: int64"
      ]
     },
     "execution_count": 11,
     "metadata": {},
     "output_type": "execute_result"
    }
   ],
   "source": [
    "df['gender'].value_counts()"
   ]
  },
  {
   "cell_type": "code",
   "execution_count": 12,
   "metadata": {
    "scrolled": false
   },
   "outputs": [
    {
     "data": {
      "text/plain": [
       "<AxesSubplot:xlabel='gender', ylabel='count'>"
      ]
     },
     "execution_count": 12,
     "metadata": {},
     "output_type": "execute_result"
    },
    {
     "data": {
      "image/png": "[encoded data removed]",
      "text/plain": [
       "<Figure size 432x288 with 1 Axes>"
      ]
     },
     "metadata": {
      "needs_background": "light"
     },
     "output_type": "display_data"
    }
   ],
   "source": [
    "sns.countplot('gender',data=df )"
   ]
  },
  {
   "cell_type": "code",
   "execution_count": 13,
   "metadata": {
    "scrolled": true
   },
   "outputs": [
    {
     "data": {
      "text/plain": [
       "1.8846694796061885"
      ]
     },
     "execution_count": 13,
     "metadata": {},
     "output_type": "execute_result"
    }
   ],
   "source": [
    "gender_per = ((3555-3488)/3555)*100\n",
    "gender_per"
   ]
  },
  {
   "cell_type": "markdown",
   "metadata": {},
   "source": [
    "Compare to male female are approx 1.9% less in industry so not much gap "
   ]
  },
  {
   "cell_type": "code",
   "execution_count": 14,
   "metadata": {},
   "outputs": [
    {
     "data": {
      "text/plain": [
       "array([0, 1])"
      ]
     },
     "execution_count": 14,
     "metadata": {},
     "output_type": "execute_result"
    }
   ],
   "source": [
    "df['SeniorCitizen'].unique()"
   ]
  },
  {
   "cell_type": "code",
   "execution_count": 15,
   "metadata": {},
   "outputs": [
    {
     "data": {
      "text/plain": [
       "<AxesSubplot:xlabel='SeniorCitizen', ylabel='count'>"
      ]
     },
     "execution_count": 15,
     "metadata": {},
     "output_type": "execute_result"
    },
    {
     "data": {
      "image/png": "[encoded data removed]",
      "text/plain": [
       "<Figure size 432x288 with 1 Axes>"
      ]
     },
     "metadata": {
      "needs_background": "light"
     },
     "output_type": "display_data"
    }
   ],
   "source": [
    "sns.countplot('SeniorCitizen',data=df)"
   ]
  },
  {
   "cell_type": "markdown",
   "metadata": {},
   "source": [
    "No. of seniourcitizen are less as we can see with the help of countplot here 0 stand for non senior citizen and 1 stands\n",
    "for senior citizen"
   ]
  },
  {
   "cell_type": "code",
   "execution_count": 16,
   "metadata": {
    "scrolled": true
   },
   "outputs": [
    {
     "data": {
      "text/plain": [
       "array(['Yes', 'No'], dtype=object)"
      ]
     },
     "execution_count": 16,
     "metadata": {},
     "output_type": "execute_result"
    }
   ],
   "source": [
    "df['Partner'].unique()"
   ]
  },
  {
   "cell_type": "code",
   "execution_count": 17,
   "metadata": {
    "scrolled": true
   },
   "outputs": [
    {
     "data": {
      "text/plain": [
       "<AxesSubplot:xlabel='Partner', ylabel='count'>"
      ]
     },
     "execution_count": 17,
     "metadata": {},
     "output_type": "execute_result"
    },
    {
     "data": {
      "image/png": "[encoded data removed]",
      "text/plain": [
       "<Figure size 432x288 with 1 Axes>"
      ]
     },
     "metadata": {
      "needs_background": "light"
     },
     "output_type": "display_data"
    }
   ],
   "source": [
    "sns.countplot('Partner',data=df)"
   ]
  },
  {
   "cell_type": "code",
   "execution_count": 18,
   "metadata": {},
   "outputs": [
    {
     "data": {
      "text/plain": [
       "No     3641\n",
       "Yes    3402\n",
       "Name: Partner, dtype: int64"
      ]
     },
     "execution_count": 18,
     "metadata": {},
     "output_type": "execute_result"
    }
   ],
   "source": [
    "df['Partner'].value_counts()"
   ]
  },
  {
   "cell_type": "code",
   "execution_count": 19,
   "metadata": {},
   "outputs": [
    {
     "data": {
      "text/plain": [
       "6.564130733315024"
      ]
     },
     "execution_count": 19,
     "metadata": {},
     "output_type": "execute_result"
    }
   ],
   "source": [
    "partner_per = ((3641-3402)/3641)*100\n",
    "partner_per"
   ]
  },
  {
   "cell_type": "markdown",
   "metadata": {},
   "source": [
    "As we can see above got only 6.56% of customers who are not in partnership that means most of the customers are doing along with partner \n",
    "Concept of partnership in telecom industry are higher."
   ]
  },
  {
   "cell_type": "code",
   "execution_count": 20,
   "metadata": {},
   "outputs": [
    {
     "data": {
      "text/plain": [
       "array(['No', 'Yes'], dtype=object)"
      ]
     },
     "execution_count": 20,
     "metadata": {},
     "output_type": "execute_result"
    }
   ],
   "source": [
    "df['Dependents'].unique()"
   ]
  },
  {
   "cell_type": "code",
   "execution_count": 21,
   "metadata": {
    "scrolled": true
   },
   "outputs": [
    {
     "data": {
      "text/plain": [
       "<AxesSubplot:xlabel='Dependents', ylabel='count'>"
      ]
     },
     "execution_count": 21,
     "metadata": {},
     "output_type": "execute_result"
    },
    {
     "data": {
      "image/png": "[encoded data removed]",
      "text/plain": [
       "<Figure size 432x288 with 1 Axes>"
      ]
     },
     "metadata": {
      "needs_background": "light"
     },
     "output_type": "display_data"
    }
   ],
   "source": [
    "sns.countplot('Dependents',data=df)"
   ]
  },
  {
   "cell_type": "code",
   "execution_count": 22,
   "metadata": {},
   "outputs": [
    {
     "data": {
      "text/plain": [
       "No     4933\n",
       "Yes    2110\n",
       "Name: Dependents, dtype: int64"
      ]
     },
     "execution_count": 22,
     "metadata": {},
     "output_type": "execute_result"
    }
   ],
   "source": [
    "df['Dependents'].value_counts()"
   ]
  },
  {
   "cell_type": "markdown",
   "metadata": {},
   "source": [
    "almost more than half of the customers are not having dependents"
   ]
  },
  {
   "cell_type": "code",
   "execution_count": 23,
   "metadata": {
    "scrolled": true
   },
   "outputs": [
    {
     "data": {
      "text/plain": [
       "array([ 1, 34,  2, 45,  8, 22, 10, 28, 62, 13, 16, 58, 49, 25, 69, 52, 71,\n",
       "       21, 12, 30, 47, 72, 17, 27,  5, 46, 11, 70, 63, 43, 15, 60, 18, 66,\n",
       "        9,  3, 31, 50, 64, 56,  7, 42, 35, 48, 29, 65, 38, 68, 32, 55, 37,\n",
       "       36, 41,  6,  4, 33, 67, 23, 57, 61, 14, 20, 53, 40, 59, 24, 44, 19,\n",
       "       54, 51, 26,  0, 39])"
      ]
     },
     "execution_count": 23,
     "metadata": {},
     "output_type": "execute_result"
    }
   ],
   "source": [
    "df['tenure'].unique()"
   ]
  },
  {
   "cell_type": "code",
   "execution_count": 24,
   "metadata": {
    "scrolled": false
   },
   "outputs": [
    {
     "data": {
      "text/plain": [
       "<AxesSubplot:xlabel='Churn', ylabel='tenure'>"
      ]
     },
     "execution_count": 24,
     "metadata": {},
     "output_type": "execute_result"
    },
    {
     "data": {
      "image/png": "[encoded data removed]",
      "text/plain": [
       "<Figure size 432x288 with 1 Axes>"
      ]
     },
     "metadata": {
      "needs_background": "light"
     },
     "output_type": "display_data"
    }
   ],
   "source": [
    "sns.barplot(x='Churn',y = 'tenure',hue = 'Churn',data=df)"
   ]
  },
  {
   "cell_type": "markdown",
   "metadata": {},
   "source": [
    "Customers with higher tenure stick more to the company"
   ]
  },
  {
   "cell_type": "code",
   "execution_count": 25,
   "metadata": {},
   "outputs": [
    {
     "data": {
      "text/plain": [
       "array(['No', 'Yes'], dtype=object)"
      ]
     },
     "execution_count": 25,
     "metadata": {},
     "output_type": "execute_result"
    }
   ],
   "source": [
    "df['PhoneService'].unique()"
   ]
  },
  {
   "cell_type": "code",
   "execution_count": 26,
   "metadata": {
    "scrolled": true
   },
   "outputs": [
    {
     "data": {
      "text/plain": [
       "<AxesSubplot:xlabel='PhoneService', ylabel='count'>"
      ]
     },
     "execution_count": 26,
     "metadata": {},
     "output_type": "execute_result"
    },
    {
     "data": {
      "image/png": "[encoded data removed]",
      "text/plain": [
       "<Figure size 432x288 with 1 Axes>"
      ]
     },
     "metadata": {
      "needs_background": "light"
     },
     "output_type": "display_data"
    }
   ],
   "source": [
    "sns.countplot('PhoneService',data=df)"
   ]
  },
  {
   "cell_type": "markdown",
   "metadata": {},
   "source": [
    "as we can see that most of the customers are getting phone services "
   ]
  },
  {
   "cell_type": "code",
   "execution_count": 27,
   "metadata": {},
   "outputs": [
    {
     "data": {
      "text/plain": [
       "Yes    6361\n",
       "No      682\n",
       "Name: PhoneService, dtype: int64"
      ]
     },
     "execution_count": 27,
     "metadata": {},
     "output_type": "execute_result"
    }
   ],
   "source": [
    "df['PhoneService'].value_counts()"
   ]
  },
  {
   "cell_type": "code",
   "execution_count": 28,
   "metadata": {},
   "outputs": [
    {
     "data": {
      "text/plain": [
       "89.27841534349945"
      ]
     },
     "execution_count": 28,
     "metadata": {},
     "output_type": "execute_result"
    }
   ],
   "source": [
    "ph_per = ((6361-682)/6361)*100\n",
    "ph_per"
   ]
  },
  {
   "cell_type": "markdown",
   "metadata": {},
   "source": [
    "Only 11% of the customers are not getting phone services from telecom industry"
   ]
  },
  {
   "cell_type": "code",
   "execution_count": 29,
   "metadata": {},
   "outputs": [
    {
     "data": {
      "text/plain": [
       "array(['No phone service', 'No', 'Yes'], dtype=object)"
      ]
     },
     "execution_count": 29,
     "metadata": {},
     "output_type": "execute_result"
    }
   ],
   "source": [
    "df['MultipleLines'].unique()"
   ]
  },
  {
   "cell_type": "code",
   "execution_count": 30,
   "metadata": {
    "scrolled": true
   },
   "outputs": [
    {
     "data": {
      "text/plain": [
       "<AxesSubplot:xlabel='MultipleLines', ylabel='count'>"
      ]
     },
     "execution_count": 30,
     "metadata": {},
     "output_type": "execute_result"
    },
    {
     "data": {
      "image/png": "[encoded data removed]",
      "text/plain": [
       "<Figure size 432x288 with 1 Axes>"
      ]
     },
     "metadata": {
      "needs_background": "light"
     },
     "output_type": "display_data"
    }
   ],
   "source": [
    "sns.countplot('MultipleLines',data=df)"
   ]
  },
  {
   "cell_type": "code",
   "execution_count": 31,
   "metadata": {
    "scrolled": true
   },
   "outputs": [
    {
     "data": {
      "text/plain": [
       "No                  3390\n",
       "Yes                 2971\n",
       "No phone service     682\n",
       "Name: MultipleLines, dtype: int64"
      ]
     },
     "execution_count": 31,
     "metadata": {},
     "output_type": "execute_result"
    }
   ],
   "source": [
    "df['MultipleLines'].value_counts()"
   ]
  },
  {
   "cell_type": "markdown",
   "metadata": {},
   "source": [
    "Multiple lines are given only to few customers almost only half of the customers are enjoying this service"
   ]
  },
  {
   "cell_type": "code",
   "execution_count": 32,
   "metadata": {},
   "outputs": [
    {
     "data": {
      "text/plain": [
       "array(['DSL', 'Fiber optic', 'No'], dtype=object)"
      ]
     },
     "execution_count": 32,
     "metadata": {},
     "output_type": "execute_result"
    }
   ],
   "source": [
    "df['InternetService'].unique()"
   ]
  },
  {
   "cell_type": "code",
   "execution_count": 33,
   "metadata": {},
   "outputs": [
    {
     "data": {
      "text/plain": [
       "<AxesSubplot:xlabel='InternetService', ylabel='count'>"
      ]
     },
     "execution_count": 33,
     "metadata": {},
     "output_type": "execute_result"
    },
    {
     "data": {
      "image/png": "[encoded data removed]",
      "text/plain": [
       "<Figure size 432x288 with 1 Axes>"
      ]
     },
     "metadata": {
      "needs_background": "light"
     },
     "output_type": "display_data"
    }
   ],
   "source": [
    "sns.countplot('InternetService',data=df)"
   ]
  },
  {
   "cell_type": "code",
   "execution_count": 34,
   "metadata": {},
   "outputs": [
    {
     "data": {
      "text/plain": [
       "Fiber optic    3096\n",
       "DSL            2421\n",
       "No             1526\n",
       "Name: InternetService, dtype: int64"
      ]
     },
     "execution_count": 34,
     "metadata": {},
     "output_type": "execute_result"
    }
   ],
   "source": [
    "df['InternetService'].value_counts()"
   ]
  },
  {
   "cell_type": "markdown",
   "metadata": {},
   "source": [
    "Most of the customers are getting Fiber optic internet service but there are 1526 customers who doesn't get any service from the industry"
   ]
  },
  {
   "cell_type": "code",
   "execution_count": 35,
   "metadata": {},
   "outputs": [
    {
     "data": {
      "text/plain": [
       "array(['No', 'Yes', 'No internet service'], dtype=object)"
      ]
     },
     "execution_count": 35,
     "metadata": {},
     "output_type": "execute_result"
    }
   ],
   "source": [
    "df['OnlineSecurity'].unique()"
   ]
  },
  {
   "cell_type": "code",
   "execution_count": 36,
   "metadata": {
    "scrolled": true
   },
   "outputs": [
    {
     "data": {
      "text/plain": [
       "<AxesSubplot:xlabel='OnlineSecurity', ylabel='count'>"
      ]
     },
     "execution_count": 36,
     "metadata": {},
     "output_type": "execute_result"
    },
    {
     "data": {
      "image/png": "[encoded data removed]",
      "text/plain": [
       "<Figure size 432x288 with 1 Axes>"
      ]
     },
     "metadata": {
      "needs_background": "light"
     },
     "output_type": "display_data"
    }
   ],
   "source": [
    "sns.countplot('OnlineSecurity',data=df)"
   ]
  },
  {
   "cell_type": "code",
   "execution_count": 37,
   "metadata": {
    "scrolled": true
   },
   "outputs": [
    {
     "data": {
      "text/plain": [
       "No                     3498\n",
       "Yes                    2019\n",
       "No internet service    1526\n",
       "Name: OnlineSecurity, dtype: int64"
      ]
     },
     "execution_count": 37,
     "metadata": {},
     "output_type": "execute_result"
    }
   ],
   "source": [
    "df['OnlineSecurity'].value_counts()"
   ]
  },
  {
   "cell_type": "markdown",
   "metadata": {},
   "source": [
    "Here also we can see that only 2019 customers are getting online securities and above we already got the data that 1526 \n",
    "customers are not getting internet services so online service will definately be not there for them"
   ]
  },
  {
   "cell_type": "code",
   "execution_count": 38,
   "metadata": {},
   "outputs": [
    {
     "data": {
      "text/plain": [
       "array(['Yes', 'No', 'No internet service'], dtype=object)"
      ]
     },
     "execution_count": 38,
     "metadata": {},
     "output_type": "execute_result"
    }
   ],
   "source": [
    "df['OnlineBackup'].unique()"
   ]
  },
  {
   "cell_type": "code",
   "execution_count": 39,
   "metadata": {},
   "outputs": [
    {
     "data": {
      "text/plain": [
       "<AxesSubplot:xlabel='OnlineBackup', ylabel='count'>"
      ]
     },
     "execution_count": 39,
     "metadata": {},
     "output_type": "execute_result"
    },
    {
     "data": {
      "image/png": "[encoded data removed]",
      "text/plain": [
       "<Figure size 432x288 with 1 Axes>"
      ]
     },
     "metadata": {
      "needs_background": "light"
     },
     "output_type": "display_data"
    }
   ],
   "source": [
    "sns.countplot('OnlineBackup',data=df)"
   ]
  },
  {
   "cell_type": "code",
   "execution_count": 40,
   "metadata": {},
   "outputs": [
    {
     "data": {
      "text/plain": [
       "No                     3088\n",
       "Yes                    2429\n",
       "No internet service    1526\n",
       "Name: OnlineBackup, dtype: int64"
      ]
     },
     "execution_count": 40,
     "metadata": {},
     "output_type": "execute_result"
    }
   ],
   "source": [
    "df['OnlineBackup'].value_counts()"
   ]
  },
  {
   "cell_type": "markdown",
   "metadata": {},
   "source": [
    "Even online backup are also given to few of the customers "
   ]
  },
  {
   "cell_type": "code",
   "execution_count": 41,
   "metadata": {},
   "outputs": [
    {
     "data": {
      "text/plain": [
       "array(['No', 'Yes', 'No internet service'], dtype=object)"
      ]
     },
     "execution_count": 41,
     "metadata": {},
     "output_type": "execute_result"
    }
   ],
   "source": [
    "df['DeviceProtection'].unique()"
   ]
  },
  {
   "cell_type": "code",
   "execution_count": 42,
   "metadata": {},
   "outputs": [
    {
     "data": {
      "text/plain": [
       "<AxesSubplot:xlabel='DeviceProtection', ylabel='count'>"
      ]
     },
     "execution_count": 42,
     "metadata": {},
     "output_type": "execute_result"
    },
    {
     "data": {
      "image/png": "[encoded data removed]",
      "text/plain": [
       "<Figure size 432x288 with 1 Axes>"
      ]
     },
     "metadata": {
      "needs_background": "light"
     },
     "output_type": "display_data"
    }
   ],
   "source": [
    "sns.countplot('DeviceProtection',data=df)"
   ]
  },
  {
   "cell_type": "code",
   "execution_count": 43,
   "metadata": {},
   "outputs": [
    {
     "data": {
      "text/plain": [
       "No                     3095\n",
       "Yes                    2422\n",
       "No internet service    1526\n",
       "Name: DeviceProtection, dtype: int64"
      ]
     },
     "execution_count": 43,
     "metadata": {},
     "output_type": "execute_result"
    }
   ],
   "source": [
    "df['DeviceProtection'].value_counts()"
   ]
  },
  {
   "cell_type": "markdown",
   "metadata": {},
   "source": [
    "Every online services we can see from above are interrelated to each other as here also we can see that only half of the customers \n",
    "are getting deviceprotection "
   ]
  },
  {
   "cell_type": "code",
   "execution_count": 44,
   "metadata": {},
   "outputs": [
    {
     "data": {
      "text/plain": [
       "array(['No', 'Yes', 'No internet service'], dtype=object)"
      ]
     },
     "execution_count": 44,
     "metadata": {},
     "output_type": "execute_result"
    }
   ],
   "source": [
    "df['TechSupport'].unique()"
   ]
  },
  {
   "cell_type": "code",
   "execution_count": 45,
   "metadata": {},
   "outputs": [
    {
     "data": {
      "text/plain": [
       "<AxesSubplot:xlabel='TechSupport', ylabel='count'>"
      ]
     },
     "execution_count": 45,
     "metadata": {},
     "output_type": "execute_result"
    },
    {
     "data": {
      "image/png": "[encoded data removed]",
      "text/plain": [
       "<Figure size 432x288 with 1 Axes>"
      ]
     },
     "metadata": {
      "needs_background": "light"
     },
     "output_type": "display_data"
    }
   ],
   "source": [
    "sns.countplot('TechSupport',data=df)"
   ]
  },
  {
   "cell_type": "code",
   "execution_count": 46,
   "metadata": {},
   "outputs": [
    {
     "data": {
      "text/plain": [
       "No                     3473\n",
       "Yes                    2044\n",
       "No internet service    1526\n",
       "Name: TechSupport, dtype: int64"
      ]
     },
     "execution_count": 46,
     "metadata": {},
     "output_type": "execute_result"
    }
   ],
   "source": [
    "df['TechSupport'].value_counts()"
   ]
  },
  {
   "cell_type": "markdown",
   "metadata": {},
   "source": [
    "From here we can analyse that from internet services to tech cupport are given to half of the customers by telecom industry. Which may be a reason for churn for many of the customers. will see further by some other visualization method"
   ]
  },
  {
   "cell_type": "code",
   "execution_count": 47,
   "metadata": {},
   "outputs": [
    {
     "data": {
      "text/plain": [
       "array(['No', 'Yes', 'No internet service'], dtype=object)"
      ]
     },
     "execution_count": 47,
     "metadata": {},
     "output_type": "execute_result"
    }
   ],
   "source": [
    "df['StreamingTV'].unique()"
   ]
  },
  {
   "cell_type": "code",
   "execution_count": 48,
   "metadata": {},
   "outputs": [
    {
     "data": {
      "text/plain": [
       "<AxesSubplot:xlabel='StreamingTV', ylabel='count'>"
      ]
     },
     "execution_count": 48,
     "metadata": {},
     "output_type": "execute_result"
    },
    {
     "data": {
      "image/png": "[encoded data removed]",
      "text/plain": [
       "<Figure size 432x288 with 1 Axes>"
      ]
     },
     "metadata": {
      "needs_background": "light"
     },
     "output_type": "display_data"
    }
   ],
   "source": [
    "sns.countplot('StreamingTV',data=df)"
   ]
  },
  {
   "cell_type": "code",
   "execution_count": 49,
   "metadata": {},
   "outputs": [
    {
     "data": {
      "text/plain": [
       "No                     2810\n",
       "Yes                    2707\n",
       "No internet service    1526\n",
       "Name: StreamingTV, dtype: int64"
      ]
     },
     "execution_count": 49,
     "metadata": {},
     "output_type": "execute_result"
    }
   ],
   "source": [
    "df['StreamingTV'].value_counts()"
   ]
  },
  {
   "cell_type": "markdown",
   "metadata": {},
   "source": [
    "Here also we analyze the same thing that half of the customers are enjyoing this service"
   ]
  },
  {
   "cell_type": "code",
   "execution_count": 50,
   "metadata": {},
   "outputs": [
    {
     "data": {
      "text/plain": [
       "array(['No', 'Yes', 'No internet service'], dtype=object)"
      ]
     },
     "execution_count": 50,
     "metadata": {},
     "output_type": "execute_result"
    }
   ],
   "source": [
    "df['StreamingMovies'].unique()"
   ]
  },
  {
   "cell_type": "code",
   "execution_count": 51,
   "metadata": {},
   "outputs": [
    {
     "data": {
      "text/plain": [
       "<AxesSubplot:xlabel='StreamingMovies', ylabel='count'>"
      ]
     },
     "execution_count": 51,
     "metadata": {},
     "output_type": "execute_result"
    },
    {
     "data": {
      "image/png": "[encoded data removed]",
      "text/plain": [
       "<Figure size 432x288 with 1 Axes>"
      ]
     },
     "metadata": {
      "needs_background": "light"
     },
     "output_type": "display_data"
    }
   ],
   "source": [
    "sns.countplot('StreamingMovies',data=df)"
   ]
  },
  {
   "cell_type": "code",
   "execution_count": 52,
   "metadata": {},
   "outputs": [
    {
     "data": {
      "text/plain": [
       "No                     2785\n",
       "Yes                    2732\n",
       "No internet service    1526\n",
       "Name: StreamingMovies, dtype: int64"
      ]
     },
     "execution_count": 52,
     "metadata": {},
     "output_type": "execute_result"
    }
   ],
   "source": [
    "df['StreamingMovies'].value_counts()"
   ]
  },
  {
   "cell_type": "markdown",
   "metadata": {},
   "source": [
    "same analysis as above .Industry are providing almost all the facilities to almost the same customers"
   ]
  },
  {
   "cell_type": "code",
   "execution_count": 53,
   "metadata": {},
   "outputs": [
    {
     "data": {
      "text/plain": [
       "array(['Month-to-month', 'One year', 'Two year'], dtype=object)"
      ]
     },
     "execution_count": 53,
     "metadata": {},
     "output_type": "execute_result"
    }
   ],
   "source": [
    "df['Contract'].unique()"
   ]
  },
  {
   "cell_type": "code",
   "execution_count": 54,
   "metadata": {},
   "outputs": [
    {
     "data": {
      "text/plain": [
       "<AxesSubplot:xlabel='Contract', ylabel='count'>"
      ]
     },
     "execution_count": 54,
     "metadata": {},
     "output_type": "execute_result"
    },
    {
     "data": {
      "image/png": "[encoded data removed]",
      "text/plain": [
       "<Figure size 432x288 with 1 Axes>"
      ]
     },
     "metadata": {
      "needs_background": "light"
     },
     "output_type": "display_data"
    }
   ],
   "source": [
    "sns.countplot('Contract',data=df)"
   ]
  },
  {
   "cell_type": "code",
   "execution_count": 55,
   "metadata": {},
   "outputs": [
    {
     "data": {
      "text/plain": [
       "Month-to-month    3875\n",
       "Two year          1695\n",
       "One year          1473\n",
       "Name: Contract, dtype: int64"
      ]
     },
     "execution_count": 55,
     "metadata": {},
     "output_type": "execute_result"
    }
   ],
   "source": [
    "df['Contract'].value_counts()"
   ]
  },
  {
   "cell_type": "markdown",
   "metadata": {},
   "source": [
    "Here we can see that monthly contract are higher than longer one that means most of the customers are doing contract for short period only\n",
    "And above we seen that one of the reason for churn was short term contract. As long term contract customers stays for longer period"
   ]
  },
  {
   "cell_type": "code",
   "execution_count": 56,
   "metadata": {},
   "outputs": [
    {
     "data": {
      "text/plain": [
       "array(['Yes', 'No'], dtype=object)"
      ]
     },
     "execution_count": 56,
     "metadata": {},
     "output_type": "execute_result"
    }
   ],
   "source": [
    "df['PaperlessBilling'].unique()"
   ]
  },
  {
   "cell_type": "code",
   "execution_count": 57,
   "metadata": {},
   "outputs": [
    {
     "data": {
      "text/plain": [
       "<AxesSubplot:xlabel='PaperlessBilling', ylabel='count'>"
      ]
     },
     "execution_count": 57,
     "metadata": {},
     "output_type": "execute_result"
    },
    {
     "data": {
      "image/png": "[encoded data removed]",
      "text/plain": [
       "<Figure size 432x288 with 1 Axes>"
      ]
     },
     "metadata": {
      "needs_background": "light"
     },
     "output_type": "display_data"
    }
   ],
   "source": [
    "sns.countplot('PaperlessBilling',data=df)"
   ]
  },
  {
   "cell_type": "code",
   "execution_count": 58,
   "metadata": {},
   "outputs": [
    {
     "data": {
      "text/plain": [
       "Yes    4171\n",
       "No     2872\n",
       "Name: PaperlessBilling, dtype: int64"
      ]
     },
     "execution_count": 58,
     "metadata": {},
     "output_type": "execute_result"
    }
   ],
   "source": [
    "df['PaperlessBilling'].value_counts()"
   ]
  },
  {
   "cell_type": "markdown",
   "metadata": {},
   "source": [
    "For most of the customers paperless billing protocol being followed "
   ]
  },
  {
   "cell_type": "code",
   "execution_count": 59,
   "metadata": {},
   "outputs": [
    {
     "data": {
      "text/plain": [
       "array(['Electronic check', 'Mailed check', 'Bank transfer (automatic)',\n",
       "       'Credit card (automatic)'], dtype=object)"
      ]
     },
     "execution_count": 59,
     "metadata": {},
     "output_type": "execute_result"
    }
   ],
   "source": [
    "df['PaymentMethod'].unique()"
   ]
  },
  {
   "cell_type": "code",
   "execution_count": 60,
   "metadata": {
    "scrolled": false
   },
   "outputs": [
    {
     "data": {
      "text/plain": [
       "<AxesSubplot:xlabel='PaymentMethod', ylabel='count'>"
      ]
     },
     "execution_count": 60,
     "metadata": {},
     "output_type": "execute_result"
    },
    {
     "data": {
      "image/png": "[encoded data removed]",
      "text/plain": [
       "<Figure size 720x432 with 1 Axes>"
      ]
     },
     "metadata": {
      "needs_background": "light"
     },
     "output_type": "display_data"
    }
   ],
   "source": [
    "plt.figure(figsize=(10,6))\n",
    "sns.countplot('PaymentMethod',data=df)"
   ]
  },
  {
   "cell_type": "code",
   "execution_count": 61,
   "metadata": {},
   "outputs": [
    {
     "data": {
      "text/plain": [
       "Electronic check             2365\n",
       "Mailed check                 1612\n",
       "Bank transfer (automatic)    1544\n",
       "Credit card (automatic)      1522\n",
       "Name: PaymentMethod, dtype: int64"
      ]
     },
     "execution_count": 61,
     "metadata": {},
     "output_type": "execute_result"
    }
   ],
   "source": [
    "df['PaymentMethod'].value_counts()"
   ]
  },
  {
   "cell_type": "markdown",
   "metadata": {},
   "source": [
    "Maximum customers are following electronic check method for payment. While credit card and bank transfer mode of payment\n",
    "having almost same no of customers and least followed by them."
   ]
  },
  {
   "cell_type": "code",
   "execution_count": 62,
   "metadata": {},
   "outputs": [
    {
     "data": {
      "text/plain": [
       "False"
      ]
     },
     "execution_count": 62,
     "metadata": {},
     "output_type": "execute_result"
    }
   ],
   "source": [
    "df['MonthlyCharges'].isna().any()"
   ]
  },
  {
   "cell_type": "code",
   "execution_count": 63,
   "metadata": {},
   "outputs": [
    {
     "data": {
      "text/plain": [
       "<AxesSubplot:xlabel='Churn', ylabel='MonthlyCharges'>"
      ]
     },
     "execution_count": 63,
     "metadata": {},
     "output_type": "execute_result"
    },
    {
     "data": {
      "image/png": "[encoded data removed]",
      "text/plain": [
       "<Figure size 432x288 with 1 Axes>"
      ]
     },
     "metadata": {
      "needs_background": "light"
     },
     "output_type": "display_data"
    }
   ],
   "source": [
    "sns.swarmplot(x = 'Churn',y='MonthlyCharges',data=df)"
   ]
  },
  {
   "cell_type": "markdown",
   "metadata": {},
   "source": [
    "Almost industry are charging monthly charges for half of their customers as we can see above that both yes and no are are almost on the same label.\n"
   ]
  },
  {
   "cell_type": "code",
   "execution_count": 64,
   "metadata": {},
   "outputs": [
    {
     "data": {
      "text/plain": [
       "False"
      ]
     },
     "execution_count": 64,
     "metadata": {},
     "output_type": "execute_result"
    }
   ],
   "source": [
    "df['TotalCharges'].isna().any()"
   ]
  },
  {
   "cell_type": "code",
   "execution_count": 65,
   "metadata": {
    "scrolled": true
   },
   "outputs": [
    {
     "data": {
      "text/plain": [
       "<AxesSubplot:xlabel='Churn', ylabel='TotalCharges'>"
      ]
     },
     "execution_count": 65,
     "metadata": {},
     "output_type": "execute_result"
    },
    {
     "data": {
      "image/png": "[encoded data removed]",
      "text/plain": [
       "<Figure size 432x288 with 1 Axes>"
      ]
     },
     "metadata": {
      "needs_background": "light"
     },
     "output_type": "display_data"
    }
   ],
   "source": [
    "sns.swarmplot(x = 'Churn',y='TotalCharges',data=df)"
   ]
  },
  {
   "cell_type": "markdown",
   "metadata": {},
   "source": [
    "Total charges also may be one of the reason for churn as we can see that total charges for customers are more even same case was with monthly charges .\n"
   ]
  },
  {
   "cell_type": "code",
   "execution_count": 66,
   "metadata": {},
   "outputs": [
    {
     "data": {
      "text/plain": [
       "array(['No', 'Yes'], dtype=object)"
      ]
     },
     "execution_count": 66,
     "metadata": {},
     "output_type": "execute_result"
    }
   ],
   "source": [
    "df['Churn'].unique()"
   ]
  },
  {
   "cell_type": "code",
   "execution_count": 67,
   "metadata": {
    "scrolled": true
   },
   "outputs": [
    {
     "data": {
      "text/plain": [
       "No     5174\n",
       "Yes    1869\n",
       "Name: Churn, dtype: int64"
      ]
     },
     "execution_count": 67,
     "metadata": {},
     "output_type": "execute_result"
    }
   ],
   "source": [
    "df['Churn'].value_counts()"
   ]
  },
  {
   "cell_type": "code",
   "execution_count": 68,
   "metadata": {
    "scrolled": true
   },
   "outputs": [
    {
     "data": {
      "text/plain": [
       "<AxesSubplot:xlabel='Churn', ylabel='count'>"
      ]
     },
     "execution_count": 68,
     "metadata": {},
     "output_type": "execute_result"
    },
    {
     "data": {
      "image/png": "[encoded data removed]",
      "text/plain": [
       "<Figure size 432x288 with 1 Axes>"
      ]
     },
     "metadata": {
      "needs_background": "light"
     },
     "output_type": "display_data"
    }
   ],
   "source": [
    "sns.countplot('Churn',data=df)"
   ]
  },
  {
   "cell_type": "markdown",
   "metadata": {},
   "source": [
    "We can see here the differnce between churn and non-churn data. Clearly it's a non-balanced data "
   ]
  },
  {
   "cell_type": "markdown",
   "metadata": {},
   "source": [
    "no null/missing values in any of the column."
   ]
  },
  {
   "cell_type": "markdown",
   "metadata": {},
   "source": [
    "### Bivariate Analysis"
   ]
  },
  {
   "cell_type": "code",
   "execution_count": 69,
   "metadata": {
    "scrolled": false
   },
   "outputs": [
    {
     "data": {
      "text/plain": [
       "<AxesSubplot:xlabel='gender', ylabel='count'>"
      ]
     },
     "execution_count": 69,
     "metadata": {},
     "output_type": "execute_result"
    },
    {
     "data": {
      "image/png": "[encoded data removed]",
      "text/plain": [
       "<Figure size 432x288 with 1 Axes>"
      ]
     },
     "metadata": {
      "needs_background": "light"
     },
     "output_type": "display_data"
    }
   ],
   "source": [
    "sns.countplot(x='gender',hue='Churn',data=df)"
   ]
  },
  {
   "cell_type": "markdown",
   "metadata": {},
   "source": [
    "As we can see churn for all the gender is equal either for male or female"
   ]
  },
  {
   "cell_type": "code",
   "execution_count": 70,
   "metadata": {
    "scrolled": true
   },
   "outputs": [
    {
     "data": {
      "text/plain": [
       "<AxesSubplot:xlabel='SeniorCitizen', ylabel='count'>"
      ]
     },
     "execution_count": 70,
     "metadata": {},
     "output_type": "execute_result"
    },
    {
     "data": {
      "image/png": "[encoded data removed]",
      "text/plain": [
       "<Figure size 432x288 with 1 Axes>"
      ]
     },
     "metadata": {
      "needs_background": "light"
     },
     "output_type": "display_data"
    }
   ],
   "source": [
    "sns.countplot(x='SeniorCitizen',hue='Churn',data=df)"
   ]
  },
  {
   "cell_type": "markdown",
   "metadata": {},
   "source": [
    "no of senior citizen are less churning compare to non senior citizen"
   ]
  },
  {
   "cell_type": "code",
   "execution_count": 71,
   "metadata": {
    "scrolled": true
   },
   "outputs": [
    {
     "data": {
      "text/plain": [
       "<AxesSubplot:xlabel='Partner', ylabel='count'>"
      ]
     },
     "execution_count": 71,
     "metadata": {},
     "output_type": "execute_result"
    },
    {
     "data": {
      "image/png": "[encoded data removed]",
      "text/plain": [
       "<Figure size 432x288 with 1 Axes>"
      ]
     },
     "metadata": {
      "needs_background": "light"
     },
     "output_type": "display_data"
    }
   ],
   "source": [
    "sns.countplot(x='Partner',hue = 'Churn',data=df)"
   ]
  },
  {
   "cell_type": "markdown",
   "metadata": {},
   "source": [
    "Those who are not in partnership are having more churn "
   ]
  },
  {
   "cell_type": "code",
   "execution_count": 72,
   "metadata": {},
   "outputs": [
    {
     "data": {
      "text/plain": [
       "<AxesSubplot:xlabel='Dependents', ylabel='count'>"
      ]
     },
     "execution_count": 72,
     "metadata": {},
     "output_type": "execute_result"
    },
    {
     "data": {
      "image/png": "[encoded data removed]",
      "text/plain": [
       "<Figure size 432x288 with 1 Axes>"
      ]
     },
     "metadata": {
      "needs_background": "light"
     },
     "output_type": "display_data"
    }
   ],
   "source": [
    "sns.countplot(x='Dependents',hue='Churn',data=df)"
   ]
  },
  {
   "cell_type": "markdown",
   "metadata": {},
   "source": [
    "Having dependents are not moving to other option compare to those who are independent"
   ]
  },
  {
   "cell_type": "code",
   "execution_count": 73,
   "metadata": {
    "scrolled": true
   },
   "outputs": [
    {
     "data": {
      "text/plain": [
       "<AxesSubplot:xlabel='PhoneService', ylabel='count'>"
      ]
     },
     "execution_count": 73,
     "metadata": {},
     "output_type": "execute_result"
    },
    {
     "data": {
      "image/png": "[encoded data removed]",
      "text/plain": [
       "<Figure size 432x288 with 1 Axes>"
      ]
     },
     "metadata": {
      "needs_background": "light"
     },
     "output_type": "display_data"
    }
   ],
   "source": [
    "sns.countplot(x='PhoneService',hue='Churn',data=df)"
   ]
  },
  {
   "cell_type": "markdown",
   "metadata": {},
   "source": [
    "providing ph services to customers are profitable for industry as we can see they are moving less"
   ]
  },
  {
   "cell_type": "code",
   "execution_count": 74,
   "metadata": {},
   "outputs": [
    {
     "data": {
      "text/plain": [
       "<AxesSubplot:xlabel='MultipleLines', ylabel='count'>"
      ]
     },
     "execution_count": 74,
     "metadata": {},
     "output_type": "execute_result"
    },
    {
     "data": {
      "image/png": "[encoded data removed]",
      "text/plain": [
       "<Figure size 432x288 with 1 Axes>"
      ]
     },
     "metadata": {
      "needs_background": "light"
     },
     "output_type": "display_data"
    }
   ],
   "source": [
    "sns.countplot(x='MultipleLines',hue='Churn',data=df)"
   ]
  },
  {
   "cell_type": "markdown",
   "metadata": {},
   "source": [
    "From above we can see that providing addtional services can attract customers and they stick to the particular client"
   ]
  },
  {
   "cell_type": "code",
   "execution_count": 75,
   "metadata": {},
   "outputs": [
    {
     "data": {
      "text/plain": [
       "<AxesSubplot:xlabel='InternetService', ylabel='count'>"
      ]
     },
     "execution_count": 75,
     "metadata": {},
     "output_type": "execute_result"
    },
    {
     "data": {
      "image/png": "[encoded data removed]",
      "text/plain": [
       "<Figure size 432x288 with 1 Axes>"
      ]
     },
     "metadata": {
      "needs_background": "light"
     },
     "output_type": "display_data"
    }
   ],
   "source": [
    "sns.countplot(x='InternetService',hue='Churn',data=df)"
   ]
  },
  {
   "cell_type": "markdown",
   "metadata": {},
   "source": [
    "DSL services provided more compare to others and as we observed above the same we can see here too"
   ]
  },
  {
   "cell_type": "code",
   "execution_count": 76,
   "metadata": {
    "scrolled": true
   },
   "outputs": [
    {
     "data": {
      "text/plain": [
       "<AxesSubplot:xlabel='OnlineSecurity', ylabel='count'>"
      ]
     },
     "execution_count": 76,
     "metadata": {},
     "output_type": "execute_result"
    },
    {
     "data": {
      "image/png": "[encoded data removed]",
      "text/plain": [
       "<Figure size 432x288 with 1 Axes>"
      ]
     },
     "metadata": {
      "needs_background": "light"
     },
     "output_type": "display_data"
    }
   ],
   "source": [
    "sns.countplot(x='OnlineSecurity',hue='Churn',data=df)"
   ]
  },
  {
   "cell_type": "markdown",
   "metadata": {},
   "source": [
    "Same observation providing additional services can retain customers to stick to one of the company"
   ]
  },
  {
   "cell_type": "code",
   "execution_count": 77,
   "metadata": {},
   "outputs": [
    {
     "data": {
      "text/plain": [
       "<AxesSubplot:xlabel='OnlineBackup', ylabel='count'>"
      ]
     },
     "execution_count": 77,
     "metadata": {},
     "output_type": "execute_result"
    },
    {
     "data": {
      "image/png": "[encoded data removed]",
      "text/plain": [
       "<Figure size 432x288 with 1 Axes>"
      ]
     },
     "metadata": {
      "needs_background": "light"
     },
     "output_type": "display_data"
    }
   ],
   "source": [
    "sns.countplot(x='OnlineBackup',hue='Churn',data=df)"
   ]
  },
  {
   "cell_type": "markdown",
   "metadata": {},
   "source": [
    "Same observed as above"
   ]
  },
  {
   "cell_type": "code",
   "execution_count": 78,
   "metadata": {},
   "outputs": [
    {
     "data": {
      "text/plain": [
       "<AxesSubplot:xlabel='DeviceProtection', ylabel='count'>"
      ]
     },
     "execution_count": 78,
     "metadata": {},
     "output_type": "execute_result"
    },
    {
     "data": {
      "image/png": "[encoded data removed]",
      "text/plain": [
       "<Figure size 432x288 with 1 Axes>"
      ]
     },
     "metadata": {
      "needs_background": "light"
     },
     "output_type": "display_data"
    }
   ],
   "source": [
    "sns.countplot(x='DeviceProtection',hue='Churn',data=df)"
   ]
  },
  {
   "cell_type": "markdown",
   "metadata": {},
   "source": [
    "Here we can see that only 50% of the customers are getting device protection service and as a result company is loosing more customers"
   ]
  },
  {
   "cell_type": "code",
   "execution_count": 79,
   "metadata": {},
   "outputs": [
    {
     "data": {
      "text/plain": [
       "<AxesSubplot:xlabel='TechSupport', ylabel='count'>"
      ]
     },
     "execution_count": 79,
     "metadata": {},
     "output_type": "execute_result"
    },
    {
     "data": {
      "image/png": "[encoded data removed]",
      "text/plain": [
       "<Figure size 432x288 with 1 Axes>"
      ]
     },
     "metadata": {
      "needs_background": "light"
     },
     "output_type": "display_data"
    }
   ],
   "source": [
    "sns.countplot(x='TechSupport',hue='Churn',data=df)"
   ]
  },
  {
   "cell_type": "markdown",
   "metadata": {},
   "source": [
    "Tech support is also given to less than 50% customers . So we can see that how much the customers are getting services really \n",
    "effective for the company"
   ]
  },
  {
   "cell_type": "code",
   "execution_count": 80,
   "metadata": {},
   "outputs": [
    {
     "data": {
      "text/plain": [
       "<AxesSubplot:xlabel='StreamingTV', ylabel='count'>"
      ]
     },
     "execution_count": 80,
     "metadata": {},
     "output_type": "execute_result"
    },
    {
     "data": {
      "image/png": "[encoded data removed]",
      "text/plain": [
       "<Figure size 432x288 with 1 Axes>"
      ]
     },
     "metadata": {
      "needs_background": "light"
     },
     "output_type": "display_data"
    }
   ],
   "source": [
    "sns.countplot(x='StreamingTV',hue='Churn',data=df)"
   ]
  },
  {
   "cell_type": "markdown",
   "metadata": {},
   "source": [
    "Same as above"
   ]
  },
  {
   "cell_type": "code",
   "execution_count": 81,
   "metadata": {},
   "outputs": [
    {
     "data": {
      "text/plain": [
       "<AxesSubplot:xlabel='StreamingMovies', ylabel='count'>"
      ]
     },
     "execution_count": 81,
     "metadata": {},
     "output_type": "execute_result"
    },
    {
     "data": {
      "image/png": "[encoded data removed]",
      "text/plain": [
       "<Figure size 432x288 with 1 Axes>"
      ]
     },
     "metadata": {
      "needs_background": "light"
     },
     "output_type": "display_data"
    }
   ],
   "source": [
    "sns.countplot(x='StreamingMovies',hue='Churn',data=df)"
   ]
  },
  {
   "cell_type": "markdown",
   "metadata": {},
   "source": [
    "Though this service is given to lil more customers compare to other services still result are same"
   ]
  },
  {
   "cell_type": "code",
   "execution_count": 82,
   "metadata": {
    "scrolled": true
   },
   "outputs": [
    {
     "data": {
      "text/plain": [
       "<AxesSubplot:xlabel='Contract', ylabel='count'>"
      ]
     },
     "execution_count": 82,
     "metadata": {},
     "output_type": "execute_result"
    },
    {
     "data": {
      "image/png": "[encoded data removed]",
      "text/plain": [
       "<Figure size 432x288 with 1 Axes>"
      ]
     },
     "metadata": {
      "needs_background": "light"
     },
     "output_type": "display_data"
    }
   ],
   "source": [
    "sns.countplot(x='Contract',hue='Churn',data=df)"
   ]
  },
  {
   "cell_type": "markdown",
   "metadata": {},
   "source": [
    "Here we can see that most of the customers are on a monthly basis contract so the attrition is more but those who are for \n",
    "longer period having less churn and this is definately profit for company. So they should look into this and try convert monthly\n",
    "customers for having longer period contract"
   ]
  },
  {
   "cell_type": "code",
   "execution_count": 83,
   "metadata": {
    "scrolled": true
   },
   "outputs": [
    {
     "data": {
      "text/plain": [
       "<AxesSubplot:xlabel='PaperlessBilling', ylabel='count'>"
      ]
     },
     "execution_count": 83,
     "metadata": {},
     "output_type": "execute_result"
    },
    {
     "data": {
      "image/png": "[encoded data removed]",
      "text/plain": [
       "<Figure size 432x288 with 1 Axes>"
      ]
     },
     "metadata": {
      "needs_background": "light"
     },
     "output_type": "display_data"
    }
   ],
   "source": [
    "sns.countplot(x='PaperlessBilling',hue='Churn',data=df)"
   ]
  },
  {
   "cell_type": "markdown",
   "metadata": {},
   "source": [
    "Paperless billing are not only economical but also easy to keep record which are also helpful to have less churn "
   ]
  },
  {
   "cell_type": "code",
   "execution_count": 84,
   "metadata": {
    "scrolled": false
   },
   "outputs": [
    {
     "data": {
      "text/plain": [
       "<AxesSubplot:xlabel='PaymentMethod', ylabel='count'>"
      ]
     },
     "execution_count": 84,
     "metadata": {},
     "output_type": "execute_result"
    },
    {
     "data": {
      "image/png": "[encoded data removed]",
      "text/plain": [
       "<Figure size 720x432 with 1 Axes>"
      ]
     },
     "metadata": {
      "needs_background": "light"
     },
     "output_type": "display_data"
    }
   ],
   "source": [
    "plt.figure(figsize=(10,6))\n",
    "sns.countplot(x='PaymentMethod',hue='Churn',data=df)"
   ]
  },
  {
   "cell_type": "markdown",
   "metadata": {},
   "source": [
    "Here we can see that almost all the customers are almost on same label for using payment mode but in electronic check no of loosing cutomers are more compare to others"
   ]
  },
  {
   "cell_type": "markdown",
   "metadata": {},
   "source": [
    "### Feature Engineering"
   ]
  },
  {
   "cell_type": "markdown",
   "metadata": {},
   "source": [
    "Applying labelencoder for all binary cases (ie.,yes/no)"
   ]
  },
  {
   "cell_type": "code",
   "execution_count": 85,
   "metadata": {},
   "outputs": [],
   "source": [
    "# Adding all the additional services \n",
    "df['AdditionalServices'] = (df[['OnlineSecurity','OnlineBackup','DeviceProtection','TechSupport','StreamingTV'\n",
    "                               ,'StreamingMovies']]=='Yes').sum(axis=1)"
   ]
  },
  {
   "cell_type": "code",
   "execution_count": 86,
   "metadata": {
    "scrolled": false
   },
   "outputs": [
    {
     "data": {
      "text/plain": [
       "<AxesSubplot:xlabel='AdditionalServices', ylabel='count'>"
      ]
     },
     "execution_count": 86,
     "metadata": {},
     "output_type": "execute_result"
    },
    {
     "data": {
      "image/png": "[encoded data removed]",
      "text/plain": [
       "<Figure size 432x288 with 1 Axes>"
      ]
     },
     "metadata": {
      "needs_background": "light"
     },
     "output_type": "display_data"
    }
   ],
   "source": [
    "sns.countplot(x='AdditionalServices',hue='Churn',data=df)"
   ]
  },
  {
   "cell_type": "markdown",
   "metadata": {},
   "source": [
    "Customers who are having high additional services are having less churning rate compare to those who gets less additional services"
   ]
  },
  {
   "cell_type": "code",
   "execution_count": 87,
   "metadata": {},
   "outputs": [],
   "source": [
    "features_le = ['gender','Partner','Dependents','PhoneService','PaperlessBilling']\n",
    "def Label_Encoding (features,df):\n",
    "    for i in features:\n",
    "        df[i]=df[i].map({'Yes':1,'No':1})\n",
    "    return\n",
    "Label_Encoding (['Partner','Dependents','PhoneService','PaperlessBilling',],df)\n",
    "df['gender'] = df['gender'].map({'Female':1,'Male':0})\n",
    "df['Churn']=df['Churn'].replace({'Yes':1,'No':0})"
   ]
  },
  {
   "cell_type": "code",
   "execution_count": 88,
   "metadata": {},
   "outputs": [],
   "source": [
    "le=LabelEncoder()\n",
    "df1 = le.fit_transform(df['TotalCharges'])\n",
    "pd.Series(df1)\n",
    "df['TotalCharges']=df1"
   ]
  },
  {
   "cell_type": "markdown",
   "metadata": {},
   "source": [
    "#### One Hot Encoding"
   ]
  },
  {
   "cell_type": "code",
   "execution_count": 89,
   "metadata": {},
   "outputs": [],
   "source": [
    "features_ohe = ['MultipleLines','InternetService','OnlineSecurity','OnlineBackup','DeviceProtection','TechSupport',\n",
    "               'StreamingTV','StreamingMovies','Contract','PaymentMethod','AdditionalServices']\n",
    "df = pd.get_dummies(df,columns=features_ohe)"
   ]
  },
  {
   "cell_type": "code",
   "execution_count": 90,
   "metadata": {},
   "outputs": [
    {
     "data": {
      "text/html": [
       "<div>\n",
       "<style scoped>\n",
       "    .dataframe tbody tr th:only-of-type {\n",
       "        vertical-align: middle;\n",
       "    }\n",
       "\n",
       "    .dataframe tbody tr th {\n",
       "        vertical-align: top;\n",
       "    }\n",
       "\n",
       "    .dataframe thead th {\n",
       "        text-align: right;\n",
       "    }\n",
       "</style>\n",
       "<table border=\"1\" class=\"dataframe\">\n",
       "  <thead>\n",
       "    <tr style=\"text-align: right;\">\n",
       "      <th></th>\n",
       "      <th>gender</th>\n",
       "      <th>SeniorCitizen</th>\n",
       "      <th>Partner</th>\n",
       "      <th>Dependents</th>\n",
       "      <th>tenure</th>\n",
       "      <th>PhoneService</th>\n",
       "      <th>PaperlessBilling</th>\n",
       "      <th>MonthlyCharges</th>\n",
       "      <th>TotalCharges</th>\n",
       "      <th>Churn</th>\n",
       "      <th>MultipleLines_No</th>\n",
       "      <th>MultipleLines_No phone service</th>\n",
       "      <th>MultipleLines_Yes</th>\n",
       "      <th>InternetService_DSL</th>\n",
       "      <th>InternetService_Fiber optic</th>\n",
       "      <th>InternetService_No</th>\n",
       "      <th>OnlineSecurity_No</th>\n",
       "      <th>OnlineSecurity_No internet service</th>\n",
       "      <th>OnlineSecurity_Yes</th>\n",
       "      <th>OnlineBackup_No</th>\n",
       "      <th>OnlineBackup_No internet service</th>\n",
       "      <th>OnlineBackup_Yes</th>\n",
       "      <th>DeviceProtection_No</th>\n",
       "      <th>DeviceProtection_No internet service</th>\n",
       "      <th>DeviceProtection_Yes</th>\n",
       "      <th>TechSupport_No</th>\n",
       "      <th>TechSupport_No internet service</th>\n",
       "      <th>TechSupport_Yes</th>\n",
       "      <th>StreamingTV_No</th>\n",
       "      <th>StreamingTV_No internet service</th>\n",
       "      <th>StreamingTV_Yes</th>\n",
       "      <th>StreamingMovies_No</th>\n",
       "      <th>StreamingMovies_No internet service</th>\n",
       "      <th>StreamingMovies_Yes</th>\n",
       "      <th>Contract_Month-to-month</th>\n",
       "      <th>Contract_One year</th>\n",
       "      <th>Contract_Two year</th>\n",
       "      <th>PaymentMethod_Bank transfer (automatic)</th>\n",
       "      <th>PaymentMethod_Credit card (automatic)</th>\n",
       "      <th>PaymentMethod_Electronic check</th>\n",
       "      <th>PaymentMethod_Mailed check</th>\n",
       "      <th>AdditionalServices_0</th>\n",
       "      <th>AdditionalServices_1</th>\n",
       "      <th>AdditionalServices_2</th>\n",
       "      <th>AdditionalServices_3</th>\n",
       "      <th>AdditionalServices_4</th>\n",
       "      <th>AdditionalServices_5</th>\n",
       "      <th>AdditionalServices_6</th>\n",
       "    </tr>\n",
       "  </thead>\n",
       "  <tbody>\n",
       "    <tr>\n",
       "      <th>0</th>\n",
       "      <td>1</td>\n",
       "      <td>0</td>\n",
       "      <td>1</td>\n",
       "      <td>1</td>\n",
       "      <td>1</td>\n",
       "      <td>1</td>\n",
       "      <td>1</td>\n",
       "      <td>29.85</td>\n",
       "      <td>2505</td>\n",
       "      <td>0</td>\n",
       "      <td>0</td>\n",
       "      <td>1</td>\n",
       "      <td>0</td>\n",
       "      <td>1</td>\n",
       "      <td>0</td>\n",
       "      <td>0</td>\n",
       "      <td>1</td>\n",
       "      <td>0</td>\n",
       "      <td>0</td>\n",
       "      <td>0</td>\n",
       "      <td>0</td>\n",
       "      <td>1</td>\n",
       "      <td>1</td>\n",
       "      <td>0</td>\n",
       "      <td>0</td>\n",
       "      <td>1</td>\n",
       "      <td>0</td>\n",
       "      <td>0</td>\n",
       "      <td>1</td>\n",
       "      <td>0</td>\n",
       "      <td>0</td>\n",
       "      <td>1</td>\n",
       "      <td>0</td>\n",
       "      <td>0</td>\n",
       "      <td>1</td>\n",
       "      <td>0</td>\n",
       "      <td>0</td>\n",
       "      <td>0</td>\n",
       "      <td>0</td>\n",
       "      <td>1</td>\n",
       "      <td>0</td>\n",
       "      <td>0</td>\n",
       "      <td>1</td>\n",
       "      <td>0</td>\n",
       "      <td>0</td>\n",
       "      <td>0</td>\n",
       "      <td>0</td>\n",
       "      <td>0</td>\n",
       "    </tr>\n",
       "    <tr>\n",
       "      <th>1</th>\n",
       "      <td>0</td>\n",
       "      <td>0</td>\n",
       "      <td>1</td>\n",
       "      <td>1</td>\n",
       "      <td>34</td>\n",
       "      <td>1</td>\n",
       "      <td>1</td>\n",
       "      <td>56.95</td>\n",
       "      <td>1466</td>\n",
       "      <td>0</td>\n",
       "      <td>1</td>\n",
       "      <td>0</td>\n",
       "      <td>0</td>\n",
       "      <td>1</td>\n",
       "      <td>0</td>\n",
       "      <td>0</td>\n",
       "      <td>0</td>\n",
       "      <td>0</td>\n",
       "      <td>1</td>\n",
       "      <td>1</td>\n",
       "      <td>0</td>\n",
       "      <td>0</td>\n",
       "      <td>0</td>\n",
       "      <td>0</td>\n",
       "      <td>1</td>\n",
       "      <td>1</td>\n",
       "      <td>0</td>\n",
       "      <td>0</td>\n",
       "      <td>1</td>\n",
       "      <td>0</td>\n",
       "      <td>0</td>\n",
       "      <td>1</td>\n",
       "      <td>0</td>\n",
       "      <td>0</td>\n",
       "      <td>0</td>\n",
       "      <td>1</td>\n",
       "      <td>0</td>\n",
       "      <td>0</td>\n",
       "      <td>0</td>\n",
       "      <td>0</td>\n",
       "      <td>1</td>\n",
       "      <td>0</td>\n",
       "      <td>0</td>\n",
       "      <td>1</td>\n",
       "      <td>0</td>\n",
       "      <td>0</td>\n",
       "      <td>0</td>\n",
       "      <td>0</td>\n",
       "    </tr>\n",
       "    <tr>\n",
       "      <th>2</th>\n",
       "      <td>0</td>\n",
       "      <td>0</td>\n",
       "      <td>1</td>\n",
       "      <td>1</td>\n",
       "      <td>2</td>\n",
       "      <td>1</td>\n",
       "      <td>1</td>\n",
       "      <td>53.85</td>\n",
       "      <td>157</td>\n",
       "      <td>1</td>\n",
       "      <td>1</td>\n",
       "      <td>0</td>\n",
       "      <td>0</td>\n",
       "      <td>1</td>\n",
       "      <td>0</td>\n",
       "      <td>0</td>\n",
       "      <td>0</td>\n",
       "      <td>0</td>\n",
       "      <td>1</td>\n",
       "      <td>0</td>\n",
       "      <td>0</td>\n",
       "      <td>1</td>\n",
       "      <td>1</td>\n",
       "      <td>0</td>\n",
       "      <td>0</td>\n",
       "      <td>1</td>\n",
       "      <td>0</td>\n",
       "      <td>0</td>\n",
       "      <td>1</td>\n",
       "      <td>0</td>\n",
       "      <td>0</td>\n",
       "      <td>1</td>\n",
       "      <td>0</td>\n",
       "      <td>0</td>\n",
       "      <td>1</td>\n",
       "      <td>0</td>\n",
       "      <td>0</td>\n",
       "      <td>0</td>\n",
       "      <td>0</td>\n",
       "      <td>0</td>\n",
       "      <td>1</td>\n",
       "      <td>0</td>\n",
       "      <td>0</td>\n",
       "      <td>1</td>\n",
       "      <td>0</td>\n",
       "      <td>0</td>\n",
       "      <td>0</td>\n",
       "      <td>0</td>\n",
       "    </tr>\n",
       "    <tr>\n",
       "      <th>3</th>\n",
       "      <td>0</td>\n",
       "      <td>0</td>\n",
       "      <td>1</td>\n",
       "      <td>1</td>\n",
       "      <td>45</td>\n",
       "      <td>1</td>\n",
       "      <td>1</td>\n",
       "      <td>42.30</td>\n",
       "      <td>1400</td>\n",
       "      <td>0</td>\n",
       "      <td>0</td>\n",
       "      <td>1</td>\n",
       "      <td>0</td>\n",
       "      <td>1</td>\n",
       "      <td>0</td>\n",
       "      <td>0</td>\n",
       "      <td>0</td>\n",
       "      <td>0</td>\n",
       "      <td>1</td>\n",
       "      <td>1</td>\n",
       "      <td>0</td>\n",
       "      <td>0</td>\n",
       "      <td>0</td>\n",
       "      <td>0</td>\n",
       "      <td>1</td>\n",
       "      <td>0</td>\n",
       "      <td>0</td>\n",
       "      <td>1</td>\n",
       "      <td>1</td>\n",
       "      <td>0</td>\n",
       "      <td>0</td>\n",
       "      <td>1</td>\n",
       "      <td>0</td>\n",
       "      <td>0</td>\n",
       "      <td>0</td>\n",
       "      <td>1</td>\n",
       "      <td>0</td>\n",
       "      <td>1</td>\n",
       "      <td>0</td>\n",
       "      <td>0</td>\n",
       "      <td>0</td>\n",
       "      <td>0</td>\n",
       "      <td>0</td>\n",
       "      <td>0</td>\n",
       "      <td>1</td>\n",
       "      <td>0</td>\n",
       "      <td>0</td>\n",
       "      <td>0</td>\n",
       "    </tr>\n",
       "    <tr>\n",
       "      <th>4</th>\n",
       "      <td>1</td>\n",
       "      <td>0</td>\n",
       "      <td>1</td>\n",
       "      <td>1</td>\n",
       "      <td>2</td>\n",
       "      <td>1</td>\n",
       "      <td>1</td>\n",
       "      <td>70.70</td>\n",
       "      <td>925</td>\n",
       "      <td>1</td>\n",
       "      <td>1</td>\n",
       "      <td>0</td>\n",
       "      <td>0</td>\n",
       "      <td>0</td>\n",
       "      <td>1</td>\n",
       "      <td>0</td>\n",
       "      <td>1</td>\n",
       "      <td>0</td>\n",
       "      <td>0</td>\n",
       "      <td>1</td>\n",
       "      <td>0</td>\n",
       "      <td>0</td>\n",
       "      <td>1</td>\n",
       "      <td>0</td>\n",
       "      <td>0</td>\n",
       "      <td>1</td>\n",
       "      <td>0</td>\n",
       "      <td>0</td>\n",
       "      <td>1</td>\n",
       "      <td>0</td>\n",
       "      <td>0</td>\n",
       "      <td>1</td>\n",
       "      <td>0</td>\n",
       "      <td>0</td>\n",
       "      <td>1</td>\n",
       "      <td>0</td>\n",
       "      <td>0</td>\n",
       "      <td>0</td>\n",
       "      <td>0</td>\n",
       "      <td>1</td>\n",
       "      <td>0</td>\n",
       "      <td>1</td>\n",
       "      <td>0</td>\n",
       "      <td>0</td>\n",
       "      <td>0</td>\n",
       "      <td>0</td>\n",
       "      <td>0</td>\n",
       "      <td>0</td>\n",
       "    </tr>\n",
       "  </tbody>\n",
       "</table>\n",
       "</div>"
      ],
      "text/plain": [
       "   gender  SeniorCitizen  Partner  Dependents  tenure  PhoneService  \\\n",
       "0       1              0        1           1       1             1   \n",
       "1       0              0        1           1      34             1   \n",
       "2       0              0        1           1       2             1   \n",
       "3       0              0        1           1      45             1   \n",
       "4       1              0        1           1       2             1   \n",
       "\n",
       "   PaperlessBilling  MonthlyCharges  TotalCharges  Churn  MultipleLines_No  \\\n",
       "0                 1           29.85          2505      0                 0   \n",
       "1                 1           56.95          1466      0                 1   \n",
       "2                 1           53.85           157      1                 1   \n",
       "3                 1           42.30          1400      0                 0   \n",
       "4                 1           70.70           925      1                 1   \n",
       "\n",
       "   MultipleLines_No phone service  MultipleLines_Yes  InternetService_DSL  \\\n",
       "0                               1                  0                    1   \n",
       "1                               0                  0                    1   \n",
       "2                               0                  0                    1   \n",
       "3                               1                  0                    1   \n",
       "4                               0                  0                    0   \n",
       "\n",
       "   InternetService_Fiber optic  InternetService_No  OnlineSecurity_No  \\\n",
       "0                            0                   0                  1   \n",
       "1                            0                   0                  0   \n",
       "2                            0                   0                  0   \n",
       "3                            0                   0                  0   \n",
       "4                            1                   0                  1   \n",
       "\n",
       "   OnlineSecurity_No internet service  OnlineSecurity_Yes  OnlineBackup_No  \\\n",
       "0                                   0                   0                0   \n",
       "1                                   0                   1                1   \n",
       "2                                   0                   1                0   \n",
       "3                                   0                   1                1   \n",
       "4                                   0                   0                1   \n",
       "\n",
       "   OnlineBackup_No internet service  OnlineBackup_Yes  DeviceProtection_No  \\\n",
       "0                                 0                 1                    1   \n",
       "1                                 0                 0                    0   \n",
       "2                                 0                 1                    1   \n",
       "3                                 0                 0                    0   \n",
       "4                                 0                 0                    1   \n",
       "\n",
       "   DeviceProtection_No internet service  DeviceProtection_Yes  TechSupport_No  \\\n",
       "0                                     0                     0               1   \n",
       "1                                     0                     1               1   \n",
       "2                                     0                     0               1   \n",
       "3                                     0                     1               0   \n",
       "4                                     0                     0               1   \n",
       "\n",
       "   TechSupport_No internet service  TechSupport_Yes  StreamingTV_No  \\\n",
       "0                                0                0               1   \n",
       "1                                0                0               1   \n",
       "2                                0                0               1   \n",
       "3                                0                1               1   \n",
       "4                                0                0               1   \n",
       "\n",
       "   StreamingTV_No internet service  StreamingTV_Yes  StreamingMovies_No  \\\n",
       "0                                0                0                   1   \n",
       "1                                0                0                   1   \n",
       "2                                0                0                   1   \n",
       "3                                0                0                   1   \n",
       "4                                0                0                   1   \n",
       "\n",
       "   StreamingMovies_No internet service  StreamingMovies_Yes  \\\n",
       "0                                    0                    0   \n",
       "1                                    0                    0   \n",
       "2                                    0                    0   \n",
       "3                                    0                    0   \n",
       "4                                    0                    0   \n",
       "\n",
       "   Contract_Month-to-month  Contract_One year  Contract_Two year  \\\n",
       "0                        1                  0                  0   \n",
       "1                        0                  1                  0   \n",
       "2                        1                  0                  0   \n",
       "3                        0                  1                  0   \n",
       "4                        1                  0                  0   \n",
       "\n",
       "   PaymentMethod_Bank transfer (automatic)  \\\n",
       "0                                        0   \n",
       "1                                        0   \n",
       "2                                        0   \n",
       "3                                        1   \n",
       "4                                        0   \n",
       "\n",
       "   PaymentMethod_Credit card (automatic)  PaymentMethod_Electronic check  \\\n",
       "0                                      0                               1   \n",
       "1                                      0                               0   \n",
       "2                                      0                               0   \n",
       "3                                      0                               0   \n",
       "4                                      0                               1   \n",
       "\n",
       "   PaymentMethod_Mailed check  AdditionalServices_0  AdditionalServices_1  \\\n",
       "0                           0                     0                     1   \n",
       "1                           1                     0                     0   \n",
       "2                           1                     0                     0   \n",
       "3                           0                     0                     0   \n",
       "4                           0                     1                     0   \n",
       "\n",
       "   AdditionalServices_2  AdditionalServices_3  AdditionalServices_4  \\\n",
       "0                     0                     0                     0   \n",
       "1                     1                     0                     0   \n",
       "2                     1                     0                     0   \n",
       "3                     0                     1                     0   \n",
       "4                     0                     0                     0   \n",
       "\n",
       "   AdditionalServices_5  AdditionalServices_6  \n",
       "0                     0                     0  \n",
       "1                     0                     0  \n",
       "2                     0                     0  \n",
       "3                     0                     0  \n",
       "4                     0                     0  "
      ]
     },
     "execution_count": 90,
     "metadata": {},
     "output_type": "execute_result"
    }
   ],
   "source": [
    "df.head()"
   ]
  },
  {
   "cell_type": "code",
   "execution_count": 91,
   "metadata": {
    "scrolled": true
   },
   "outputs": [
    {
     "data": {
      "text/plain": [
       "(7043, 48)"
      ]
     },
     "execution_count": 91,
     "metadata": {},
     "output_type": "execute_result"
    }
   ],
   "source": [
    "df.shape"
   ]
  },
  {
   "cell_type": "code",
   "execution_count": 92,
   "metadata": {
    "scrolled": true
   },
   "outputs": [
    {
     "data": {
      "text/plain": [
       "gender                                     0.019031\n",
       "SeniorCitizen                              1.833633\n",
       "Partner                                    0.000000\n",
       "Dependents                                 0.000000\n",
       "tenure                                     0.239540\n",
       "PhoneService                               0.000000\n",
       "PaperlessBilling                           0.000000\n",
       "MonthlyCharges                            -0.220524\n",
       "TotalCharges                               0.015857\n",
       "Churn                                      1.063031\n",
       "MultipleLines_No                           0.074752\n",
       "MultipleLines_No phone service             2.727153\n",
       "MultipleLines_Yes                          0.316610\n",
       "InternetService_DSL                        0.658113\n",
       "InternetService_Fiber optic                0.243494\n",
       "InternetService_No                         1.375769\n",
       "OnlineSecurity_No                          0.013350\n",
       "OnlineSecurity_No internet service         1.375769\n",
       "OnlineSecurity_Yes                         0.943722\n",
       "OnlineBackup_No                            0.248142\n",
       "OnlineBackup_No internet service           1.375769\n",
       "OnlineBackup_Yes                           0.652817\n",
       "DeviceProtection_No                        0.244075\n",
       "DeviceProtection_No internet service       1.375769\n",
       "DeviceProtection_Yes                       0.657450\n",
       "TechSupport_No                             0.027554\n",
       "TechSupport_No internet service            1.375769\n",
       "TechSupport_Yes                            0.924630\n",
       "StreamingTV_No                             0.412686\n",
       "StreamingTV_No internet service            1.375769\n",
       "StreamingTV_Yes                            0.475581\n",
       "StreamingMovies_No                         0.427838\n",
       "StreamingMovies_No internet service        1.375769\n",
       "StreamingMovies_Yes                        0.460199\n",
       "Contract_Month-to-month                   -0.201829\n",
       "Contract_One year                          1.430637\n",
       "Contract_Two year                          1.213561\n",
       "PaymentMethod_Bank transfer (automatic)    1.357605\n",
       "PaymentMethod_Credit card (automatic)      1.379837\n",
       "PaymentMethod_Electronic check             0.695541\n",
       "PaymentMethod_Mailed check                 1.290981\n",
       "AdditionalServices_0                       0.796376\n",
       "AdditionalServices_1                       2.109916\n",
       "AdditionalServices_2                       1.997895\n",
       "AdditionalServices_3                       1.868106\n",
       "AdditionalServices_4                       2.325157\n",
       "AdditionalServices_5                       3.070300\n",
       "AdditionalServices_6                       4.674465\n",
       "dtype: float64"
      ]
     },
     "execution_count": 92,
     "metadata": {},
     "output_type": "execute_result"
    }
   ],
   "source": [
    "df.skew()"
   ]
  },
  {
   "cell_type": "code",
   "execution_count": 93,
   "metadata": {},
   "outputs": [],
   "source": [
    "con_features=['MonthlyCharges','TotalCharges','tenure']"
   ]
  },
  {
   "cell_type": "markdown",
   "metadata": {},
   "source": [
    "No skewness in data"
   ]
  },
  {
   "cell_type": "code",
   "execution_count": 94,
   "metadata": {},
   "outputs": [
    {
     "data": {
      "text/plain": [
       "MonthlyCharges    False\n",
       "TotalCharges      False\n",
       "tenure            False\n",
       "dtype: bool"
      ]
     },
     "execution_count": 94,
     "metadata": {},
     "output_type": "execute_result"
    }
   ],
   "source": [
    "con_features = ['MonthlyCharges','TotalCharges','tenure']\n",
    "df_num = df[con_features]\n",
    "df_num.describe()\n",
    "Q1 = df_num.quantile(0.25)\n",
    "Q3 = df_num.quantile(0.75)\n",
    "IQR = Q3-Q1\n",
    "IQR\n",
    "((df_num <(Q1-1.5*IQR)) | (df_num > (Q3+1.5*IQR))).any()"
   ]
  },
  {
   "cell_type": "markdown",
   "metadata": {},
   "source": [
    "No outliers in any of the continous columns"
   ]
  },
  {
   "cell_type": "code",
   "execution_count": 95,
   "metadata": {},
   "outputs": [
    {
     "data": {
      "text/html": [
       "<div>\n",
       "<style scoped>\n",
       "    .dataframe tbody tr th:only-of-type {\n",
       "        vertical-align: middle;\n",
       "    }\n",
       "\n",
       "    .dataframe tbody tr th {\n",
       "        vertical-align: top;\n",
       "    }\n",
       "\n",
       "    .dataframe thead th {\n",
       "        text-align: right;\n",
       "    }\n",
       "</style>\n",
       "<table border=\"1\" class=\"dataframe\">\n",
       "  <thead>\n",
       "    <tr style=\"text-align: right;\">\n",
       "      <th></th>\n",
       "      <th>gender</th>\n",
       "      <th>SeniorCitizen</th>\n",
       "      <th>Partner</th>\n",
       "      <th>Dependents</th>\n",
       "      <th>tenure</th>\n",
       "      <th>PhoneService</th>\n",
       "      <th>PaperlessBilling</th>\n",
       "      <th>MonthlyCharges</th>\n",
       "      <th>TotalCharges</th>\n",
       "      <th>Churn</th>\n",
       "      <th>MultipleLines_No</th>\n",
       "      <th>MultipleLines_No phone service</th>\n",
       "      <th>MultipleLines_Yes</th>\n",
       "      <th>InternetService_DSL</th>\n",
       "      <th>InternetService_Fiber optic</th>\n",
       "      <th>InternetService_No</th>\n",
       "      <th>OnlineSecurity_No</th>\n",
       "      <th>OnlineSecurity_No internet service</th>\n",
       "      <th>OnlineSecurity_Yes</th>\n",
       "      <th>OnlineBackup_No</th>\n",
       "      <th>OnlineBackup_No internet service</th>\n",
       "      <th>OnlineBackup_Yes</th>\n",
       "      <th>DeviceProtection_No</th>\n",
       "      <th>DeviceProtection_No internet service</th>\n",
       "      <th>DeviceProtection_Yes</th>\n",
       "      <th>TechSupport_No</th>\n",
       "      <th>TechSupport_No internet service</th>\n",
       "      <th>TechSupport_Yes</th>\n",
       "      <th>StreamingTV_No</th>\n",
       "      <th>StreamingTV_No internet service</th>\n",
       "      <th>StreamingTV_Yes</th>\n",
       "      <th>StreamingMovies_No</th>\n",
       "      <th>StreamingMovies_No internet service</th>\n",
       "      <th>StreamingMovies_Yes</th>\n",
       "      <th>Contract_Month-to-month</th>\n",
       "      <th>Contract_One year</th>\n",
       "      <th>Contract_Two year</th>\n",
       "      <th>PaymentMethod_Bank transfer (automatic)</th>\n",
       "      <th>PaymentMethod_Credit card (automatic)</th>\n",
       "      <th>PaymentMethod_Electronic check</th>\n",
       "      <th>PaymentMethod_Mailed check</th>\n",
       "      <th>AdditionalServices_0</th>\n",
       "      <th>AdditionalServices_1</th>\n",
       "      <th>AdditionalServices_2</th>\n",
       "      <th>AdditionalServices_3</th>\n",
       "      <th>AdditionalServices_4</th>\n",
       "      <th>AdditionalServices_5</th>\n",
       "      <th>AdditionalServices_6</th>\n",
       "    </tr>\n",
       "  </thead>\n",
       "  <tbody>\n",
       "    <tr>\n",
       "      <th>gender</th>\n",
       "      <td>1.000000</td>\n",
       "      <td>0.001874</td>\n",
       "      <td>NaN</td>\n",
       "      <td>NaN</td>\n",
       "      <td>-0.005106</td>\n",
       "      <td>NaN</td>\n",
       "      <td>NaN</td>\n",
       "      <td>0.014569</td>\n",
       "      <td>0.005291</td>\n",
       "      <td>0.008612</td>\n",
       "      <td>-0.004476</td>\n",
       "      <td>-0.006488</td>\n",
       "      <td>0.008414</td>\n",
       "      <td>-0.006568</td>\n",
       "      <td>0.011286</td>\n",
       "      <td>-0.006026</td>\n",
       "      <td>-0.010429</td>\n",
       "      <td>-0.006026</td>\n",
       "      <td>0.017021</td>\n",
       "      <td>-0.008191</td>\n",
       "      <td>-0.006026</td>\n",
       "      <td>0.013773</td>\n",
       "      <td>0.002988</td>\n",
       "      <td>-0.006026</td>\n",
       "      <td>0.002105</td>\n",
       "      <td>-0.003397</td>\n",
       "      <td>-0.006026</td>\n",
       "      <td>0.009212</td>\n",
       "      <td>-0.003267</td>\n",
       "      <td>-0.006026</td>\n",
       "      <td>0.008393</td>\n",
       "      <td>-0.005374</td>\n",
       "      <td>-0.006026</td>\n",
       "      <td>0.010487</td>\n",
       "      <td>0.003386</td>\n",
       "      <td>-0.008026</td>\n",
       "      <td>0.003695</td>\n",
       "      <td>0.016024</td>\n",
       "      <td>-0.001215</td>\n",
       "      <td>-0.000752</td>\n",
       "      <td>-0.013744</td>\n",
       "      <td>-0.012193</td>\n",
       "      <td>0.006269</td>\n",
       "      <td>0.002740</td>\n",
       "      <td>-0.012187</td>\n",
       "      <td>-0.002567</td>\n",
       "      <td>0.021033</td>\n",
       "      <td>0.010612</td>\n",
       "    </tr>\n",
       "    <tr>\n",
       "      <th>SeniorCitizen</th>\n",
       "      <td>0.001874</td>\n",
       "      <td>1.000000</td>\n",
       "      <td>NaN</td>\n",
       "      <td>NaN</td>\n",
       "      <td>0.016567</td>\n",
       "      <td>NaN</td>\n",
       "      <td>NaN</td>\n",
       "      <td>0.220173</td>\n",
       "      <td>0.037653</td>\n",
       "      <td>0.150889</td>\n",
       "      <td>-0.136213</td>\n",
       "      <td>-0.008576</td>\n",
       "      <td>0.142948</td>\n",
       "      <td>-0.108322</td>\n",
       "      <td>0.255338</td>\n",
       "      <td>-0.182742</td>\n",
       "      <td>0.185532</td>\n",
       "      <td>-0.182742</td>\n",
       "      <td>-0.038653</td>\n",
       "      <td>0.087952</td>\n",
       "      <td>-0.182742</td>\n",
       "      <td>0.066572</td>\n",
       "      <td>0.094810</td>\n",
       "      <td>-0.182742</td>\n",
       "      <td>0.059428</td>\n",
       "      <td>0.205620</td>\n",
       "      <td>-0.182742</td>\n",
       "      <td>-0.060625</td>\n",
       "      <td>0.049062</td>\n",
       "      <td>-0.182742</td>\n",
       "      <td>0.105378</td>\n",
       "      <td>0.034210</td>\n",
       "      <td>-0.182742</td>\n",
       "      <td>0.120176</td>\n",
       "      <td>0.138360</td>\n",
       "      <td>-0.046262</td>\n",
       "      <td>-0.117000</td>\n",
       "      <td>-0.016159</td>\n",
       "      <td>-0.024135</td>\n",
       "      <td>0.171718</td>\n",
       "      <td>-0.153477</td>\n",
       "      <td>-0.125052</td>\n",
       "      <td>0.045201</td>\n",
       "      <td>0.052813</td>\n",
       "      <td>0.042924</td>\n",
       "      <td>0.041170</td>\n",
       "      <td>-0.009295</td>\n",
       "      <td>-0.013805</td>\n",
       "    </tr>\n",
       "    <tr>\n",
       "      <th>Partner</th>\n",
       "      <td>NaN</td>\n",
       "      <td>NaN</td>\n",
       "      <td>NaN</td>\n",
       "      <td>NaN</td>\n",
       "      <td>NaN</td>\n",
       "      <td>NaN</td>\n",
       "      <td>NaN</td>\n",
       "      <td>NaN</td>\n",
       "      <td>NaN</td>\n",
       "      <td>NaN</td>\n",
       "      <td>NaN</td>\n",
       "      <td>NaN</td>\n",
       "      <td>NaN</td>\n",
       "      <td>NaN</td>\n",
       "      <td>NaN</td>\n",
       "      <td>NaN</td>\n",
       "      <td>NaN</td>\n",
       "      <td>NaN</td>\n",
       "      <td>NaN</td>\n",
       "      <td>NaN</td>\n",
       "      <td>NaN</td>\n",
       "      <td>NaN</td>\n",
       "      <td>NaN</td>\n",
       "      <td>NaN</td>\n",
       "      <td>NaN</td>\n",
       "      <td>NaN</td>\n",
       "      <td>NaN</td>\n",
       "      <td>NaN</td>\n",
       "      <td>NaN</td>\n",
       "      <td>NaN</td>\n",
       "      <td>NaN</td>\n",
       "      <td>NaN</td>\n",
       "      <td>NaN</td>\n",
       "      <td>NaN</td>\n",
       "      <td>NaN</td>\n",
       "      <td>NaN</td>\n",
       "      <td>NaN</td>\n",
       "      <td>NaN</td>\n",
       "      <td>NaN</td>\n",
       "      <td>NaN</td>\n",
       "      <td>NaN</td>\n",
       "      <td>NaN</td>\n",
       "      <td>NaN</td>\n",
       "      <td>NaN</td>\n",
       "      <td>NaN</td>\n",
       "      <td>NaN</td>\n",
       "      <td>NaN</td>\n",
       "      <td>NaN</td>\n",
       "    </tr>\n",
       "    <tr>\n",
       "      <th>Dependents</th>\n",
       "      <td>NaN</td>\n",
       "      <td>NaN</td>\n",
       "      <td>NaN</td>\n",
       "      <td>NaN</td>\n",
       "      <td>NaN</td>\n",
       "      <td>NaN</td>\n",
       "      <td>NaN</td>\n",
       "      <td>NaN</td>\n",
       "      <td>NaN</td>\n",
       "      <td>NaN</td>\n",
       "      <td>NaN</td>\n",
       "      <td>NaN</td>\n",
       "      <td>NaN</td>\n",
       "      <td>NaN</td>\n",
       "      <td>NaN</td>\n",
       "      <td>NaN</td>\n",
       "      <td>NaN</td>\n",
       "      <td>NaN</td>\n",
       "      <td>NaN</td>\n",
       "      <td>NaN</td>\n",
       "      <td>NaN</td>\n",
       "      <td>NaN</td>\n",
       "      <td>NaN</td>\n",
       "      <td>NaN</td>\n",
       "      <td>NaN</td>\n",
       "      <td>NaN</td>\n",
       "      <td>NaN</td>\n",
       "      <td>NaN</td>\n",
       "      <td>NaN</td>\n",
       "      <td>NaN</td>\n",
       "      <td>NaN</td>\n",
       "      <td>NaN</td>\n",
       "      <td>NaN</td>\n",
       "      <td>NaN</td>\n",
       "      <td>NaN</td>\n",
       "      <td>NaN</td>\n",
       "      <td>NaN</td>\n",
       "      <td>NaN</td>\n",
       "      <td>NaN</td>\n",
       "      <td>NaN</td>\n",
       "      <td>NaN</td>\n",
       "      <td>NaN</td>\n",
       "      <td>NaN</td>\n",
       "      <td>NaN</td>\n",
       "      <td>NaN</td>\n",
       "      <td>NaN</td>\n",
       "      <td>NaN</td>\n",
       "      <td>NaN</td>\n",
       "    </tr>\n",
       "    <tr>\n",
       "      <th>tenure</th>\n",
       "      <td>-0.005106</td>\n",
       "      <td>0.016567</td>\n",
       "      <td>NaN</td>\n",
       "      <td>NaN</td>\n",
       "      <td>1.000000</td>\n",
       "      <td>NaN</td>\n",
       "      <td>NaN</td>\n",
       "      <td>0.247900</td>\n",
       "      <td>0.158523</td>\n",
       "      <td>-0.352229</td>\n",
       "      <td>-0.323088</td>\n",
       "      <td>-0.008448</td>\n",
       "      <td>0.331941</td>\n",
       "      <td>0.013274</td>\n",
       "      <td>0.019720</td>\n",
       "      <td>-0.039062</td>\n",
       "      <td>-0.263746</td>\n",
       "      <td>-0.039062</td>\n",
       "      <td>0.327203</td>\n",
       "      <td>-0.312694</td>\n",
       "      <td>-0.039062</td>\n",
       "      <td>0.360277</td>\n",
       "      <td>-0.312740</td>\n",
       "      <td>-0.039062</td>\n",
       "      <td>0.360653</td>\n",
       "      <td>-0.262143</td>\n",
       "      <td>-0.039062</td>\n",
       "      <td>0.324221</td>\n",
       "      <td>-0.245039</td>\n",
       "      <td>-0.039062</td>\n",
       "      <td>0.279756</td>\n",
       "      <td>-0.252220</td>\n",
       "      <td>-0.039062</td>\n",
       "      <td>0.286111</td>\n",
       "      <td>-0.645561</td>\n",
       "      <td>0.202570</td>\n",
       "      <td>0.558533</td>\n",
       "      <td>0.243510</td>\n",
       "      <td>0.233006</td>\n",
       "      <td>-0.208363</td>\n",
       "      <td>-0.233852</td>\n",
       "      <td>-0.227570</td>\n",
       "      <td>-0.251687</td>\n",
       "      <td>-0.106839</td>\n",
       "      <td>0.076070</td>\n",
       "      <td>0.224247</td>\n",
       "      <td>0.276897</td>\n",
       "      <td>0.272441</td>\n",
       "    </tr>\n",
       "    <tr>\n",
       "      <th>PhoneService</th>\n",
       "      <td>NaN</td>\n",
       "      <td>NaN</td>\n",
       "      <td>NaN</td>\n",
       "      <td>NaN</td>\n",
       "      <td>NaN</td>\n",
       "      <td>NaN</td>\n",
       "      <td>NaN</td>\n",
       "      <td>NaN</td>\n",
       "      <td>NaN</td>\n",
       "      <td>NaN</td>\n",
       "      <td>NaN</td>\n",
       "      <td>NaN</td>\n",
       "      <td>NaN</td>\n",
       "      <td>NaN</td>\n",
       "      <td>NaN</td>\n",
       "      <td>NaN</td>\n",
       "      <td>NaN</td>\n",
       "      <td>NaN</td>\n",
       "      <td>NaN</td>\n",
       "      <td>NaN</td>\n",
       "      <td>NaN</td>\n",
       "      <td>NaN</td>\n",
       "      <td>NaN</td>\n",
       "      <td>NaN</td>\n",
       "      <td>NaN</td>\n",
       "      <td>NaN</td>\n",
       "      <td>NaN</td>\n",
       "      <td>NaN</td>\n",
       "      <td>NaN</td>\n",
       "      <td>NaN</td>\n",
       "      <td>NaN</td>\n",
       "      <td>NaN</td>\n",
       "      <td>NaN</td>\n",
       "      <td>NaN</td>\n",
       "      <td>NaN</td>\n",
       "      <td>NaN</td>\n",
       "      <td>NaN</td>\n",
       "      <td>NaN</td>\n",
       "      <td>NaN</td>\n",
       "      <td>NaN</td>\n",
       "      <td>NaN</td>\n",
       "      <td>NaN</td>\n",
       "      <td>NaN</td>\n",
       "      <td>NaN</td>\n",
       "      <td>NaN</td>\n",
       "      <td>NaN</td>\n",
       "      <td>NaN</td>\n",
       "      <td>NaN</td>\n",
       "    </tr>\n",
       "    <tr>\n",
       "      <th>PaperlessBilling</th>\n",
       "      <td>NaN</td>\n",
       "      <td>NaN</td>\n",
       "      <td>NaN</td>\n",
       "      <td>NaN</td>\n",
       "      <td>NaN</td>\n",
       "      <td>NaN</td>\n",
       "      <td>NaN</td>\n",
       "      <td>NaN</td>\n",
       "      <td>NaN</td>\n",
       "      <td>NaN</td>\n",
       "      <td>NaN</td>\n",
       "      <td>NaN</td>\n",
       "      <td>NaN</td>\n",
       "      <td>NaN</td>\n",
       "      <td>NaN</td>\n",
       "      <td>NaN</td>\n",
       "      <td>NaN</td>\n",
       "      <td>NaN</td>\n",
       "      <td>NaN</td>\n",
       "      <td>NaN</td>\n",
       "      <td>NaN</td>\n",
       "      <td>NaN</td>\n",
       "      <td>NaN</td>\n",
       "      <td>NaN</td>\n",
       "      <td>NaN</td>\n",
       "      <td>NaN</td>\n",
       "      <td>NaN</td>\n",
       "      <td>NaN</td>\n",
       "      <td>NaN</td>\n",
       "      <td>NaN</td>\n",
       "      <td>NaN</td>\n",
       "      <td>NaN</td>\n",
       "      <td>NaN</td>\n",
       "      <td>NaN</td>\n",
       "      <td>NaN</td>\n",
       "      <td>NaN</td>\n",
       "      <td>NaN</td>\n",
       "      <td>NaN</td>\n",
       "      <td>NaN</td>\n",
       "      <td>NaN</td>\n",
       "      <td>NaN</td>\n",
       "      <td>NaN</td>\n",
       "      <td>NaN</td>\n",
       "      <td>NaN</td>\n",
       "      <td>NaN</td>\n",
       "      <td>NaN</td>\n",
       "      <td>NaN</td>\n",
       "      <td>NaN</td>\n",
       "    </tr>\n",
       "    <tr>\n",
       "      <th>MonthlyCharges</th>\n",
       "      <td>0.014569</td>\n",
       "      <td>0.220173</td>\n",
       "      <td>NaN</td>\n",
       "      <td>NaN</td>\n",
       "      <td>0.247900</td>\n",
       "      <td>NaN</td>\n",
       "      <td>NaN</td>\n",
       "      <td>1.000000</td>\n",
       "      <td>0.279875</td>\n",
       "      <td>0.193356</td>\n",
       "      <td>-0.338314</td>\n",
       "      <td>-0.247398</td>\n",
       "      <td>0.490434</td>\n",
       "      <td>-0.160189</td>\n",
       "      <td>0.787066</td>\n",
       "      <td>-0.763557</td>\n",
       "      <td>0.360898</td>\n",
       "      <td>-0.763557</td>\n",
       "      <td>0.296594</td>\n",
       "      <td>0.210753</td>\n",
       "      <td>-0.763557</td>\n",
       "      <td>0.441780</td>\n",
       "      <td>0.171836</td>\n",
       "      <td>-0.763557</td>\n",
       "      <td>0.482692</td>\n",
       "      <td>0.322076</td>\n",
       "      <td>-0.763557</td>\n",
       "      <td>0.338304</td>\n",
       "      <td>0.016951</td>\n",
       "      <td>-0.763557</td>\n",
       "      <td>0.629603</td>\n",
       "      <td>0.018075</td>\n",
       "      <td>-0.763557</td>\n",
       "      <td>0.627429</td>\n",
       "      <td>0.060165</td>\n",
       "      <td>0.004904</td>\n",
       "      <td>-0.074681</td>\n",
       "      <td>0.042812</td>\n",
       "      <td>0.030550</td>\n",
       "      <td>0.271625</td>\n",
       "      <td>-0.377437</td>\n",
       "      <td>-0.720625</td>\n",
       "      <td>0.010768</td>\n",
       "      <td>0.105490</td>\n",
       "      <td>0.221595</td>\n",
       "      <td>0.283701</td>\n",
       "      <td>0.270635</td>\n",
       "      <td>0.235748</td>\n",
       "    </tr>\n",
       "    <tr>\n",
       "      <th>TotalCharges</th>\n",
       "      <td>0.005291</td>\n",
       "      <td>0.037653</td>\n",
       "      <td>NaN</td>\n",
       "      <td>NaN</td>\n",
       "      <td>0.158523</td>\n",
       "      <td>NaN</td>\n",
       "      <td>NaN</td>\n",
       "      <td>0.279875</td>\n",
       "      <td>1.000000</td>\n",
       "      <td>0.014479</td>\n",
       "      <td>-0.084489</td>\n",
       "      <td>-0.083195</td>\n",
       "      <td>0.135300</td>\n",
       "      <td>-0.062411</td>\n",
       "      <td>0.202272</td>\n",
       "      <td>-0.171740</td>\n",
       "      <td>0.034335</td>\n",
       "      <td>-0.171740</td>\n",
       "      <td>0.118498</td>\n",
       "      <td>-0.009192</td>\n",
       "      <td>-0.171740</td>\n",
       "      <td>0.158445</td>\n",
       "      <td>-0.022598</td>\n",
       "      <td>-0.171740</td>\n",
       "      <td>0.172564</td>\n",
       "      <td>0.021230</td>\n",
       "      <td>-0.171740</td>\n",
       "      <td>0.132505</td>\n",
       "      <td>-0.052607</td>\n",
       "      <td>-0.171740</td>\n",
       "      <td>0.198408</td>\n",
       "      <td>-0.059210</td>\n",
       "      <td>-0.171740</td>\n",
       "      <td>0.204614</td>\n",
       "      <td>-0.106009</td>\n",
       "      <td>0.041687</td>\n",
       "      <td>0.083705</td>\n",
       "      <td>0.025206</td>\n",
       "      <td>0.025894</td>\n",
       "      <td>0.041220</td>\n",
       "      <td>-0.096529</td>\n",
       "      <td>-0.136388</td>\n",
       "      <td>-0.023312</td>\n",
       "      <td>-0.080653</td>\n",
       "      <td>-0.032225</td>\n",
       "      <td>0.091158</td>\n",
       "      <td>0.157659</td>\n",
       "      <td>0.197890</td>\n",
       "    </tr>\n",
       "    <tr>\n",
       "      <th>Churn</th>\n",
       "      <td>0.008612</td>\n",
       "      <td>0.150889</td>\n",
       "      <td>NaN</td>\n",
       "      <td>NaN</td>\n",
       "      <td>-0.352229</td>\n",
       "      <td>NaN</td>\n",
       "      <td>NaN</td>\n",
       "      <td>0.193356</td>\n",
       "      <td>0.014479</td>\n",
       "      <td>1.000000</td>\n",
       "      <td>-0.032569</td>\n",
       "      <td>-0.011942</td>\n",
       "      <td>0.040102</td>\n",
       "      <td>-0.124214</td>\n",
       "      <td>0.308020</td>\n",
       "      <td>-0.227890</td>\n",
       "      <td>0.342637</td>\n",
       "      <td>-0.227890</td>\n",
       "      <td>-0.171226</td>\n",
       "      <td>0.268005</td>\n",
       "      <td>-0.227890</td>\n",
       "      <td>-0.082255</td>\n",
       "      <td>0.252481</td>\n",
       "      <td>-0.227890</td>\n",
       "      <td>-0.066160</td>\n",
       "      <td>0.337281</td>\n",
       "      <td>-0.227890</td>\n",
       "      <td>-0.164674</td>\n",
       "      <td>0.128916</td>\n",
       "      <td>-0.227890</td>\n",
       "      <td>0.063228</td>\n",
       "      <td>0.130845</td>\n",
       "      <td>-0.227890</td>\n",
       "      <td>0.061382</td>\n",
       "      <td>0.405103</td>\n",
       "      <td>-0.177820</td>\n",
       "      <td>-0.302253</td>\n",
       "      <td>-0.117937</td>\n",
       "      <td>-0.134302</td>\n",
       "      <td>0.301919</td>\n",
       "      <td>-0.091683</td>\n",
       "      <td>-0.078816</td>\n",
       "      <td>0.173543</td>\n",
       "      <td>0.087146</td>\n",
       "      <td>0.008198</td>\n",
       "      <td>-0.035595</td>\n",
       "      <td>-0.094872</td>\n",
       "      <td>-0.098679</td>\n",
       "    </tr>\n",
       "    <tr>\n",
       "      <th>MultipleLines_No</th>\n",
       "      <td>-0.004476</td>\n",
       "      <td>-0.136213</td>\n",
       "      <td>NaN</td>\n",
       "      <td>NaN</td>\n",
       "      <td>-0.323088</td>\n",
       "      <td>NaN</td>\n",
       "      <td>NaN</td>\n",
       "      <td>-0.338314</td>\n",
       "      <td>-0.084489</td>\n",
       "      <td>-0.032569</td>\n",
       "      <td>1.000000</td>\n",
       "      <td>-0.315431</td>\n",
       "      <td>-0.822853</td>\n",
       "      <td>-0.070179</td>\n",
       "      <td>-0.190192</td>\n",
       "      <td>0.310046</td>\n",
       "      <td>-0.118040</td>\n",
       "      <td>0.310046</td>\n",
       "      <td>-0.151950</td>\n",
       "      <td>-0.036277</td>\n",
       "      <td>0.310046</td>\n",
       "      <td>-0.230852</td>\n",
       "      <td>-0.026746</td>\n",
       "      <td>0.310046</td>\n",
       "      <td>-0.240960</td>\n",
       "      <td>-0.113482</td>\n",
       "      <td>0.310046</td>\n",
       "      <td>-0.156425</td>\n",
       "      <td>0.004913</td>\n",
       "      <td>0.310046</td>\n",
       "      <td>-0.267528</td>\n",
       "      <td>0.013076</td>\n",
       "      <td>0.310046</td>\n",
       "      <td>-0.275256</td>\n",
       "      <td>0.086740</td>\n",
       "      <td>0.002098</td>\n",
       "      <td>-0.102937</td>\n",
       "      <td>-0.070178</td>\n",
       "      <td>-0.063921</td>\n",
       "      <td>-0.080836</td>\n",
       "      <td>0.222605</td>\n",
       "      <td>0.317439</td>\n",
       "      <td>0.022333</td>\n",
       "      <td>-0.035514</td>\n",
       "      <td>-0.115186</td>\n",
       "      <td>-0.129924</td>\n",
       "      <td>-0.123724</td>\n",
       "      <td>-0.123794</td>\n",
       "    </tr>\n",
       "    <tr>\n",
       "      <th>MultipleLines_No phone service</th>\n",
       "      <td>-0.006488</td>\n",
       "      <td>-0.008576</td>\n",
       "      <td>NaN</td>\n",
       "      <td>NaN</td>\n",
       "      <td>-0.008448</td>\n",
       "      <td>NaN</td>\n",
       "      <td>NaN</td>\n",
       "      <td>-0.247398</td>\n",
       "      <td>-0.083195</td>\n",
       "      <td>-0.011942</td>\n",
       "      <td>-0.315431</td>\n",
       "      <td>1.000000</td>\n",
       "      <td>-0.279690</td>\n",
       "      <td>0.452425</td>\n",
       "      <td>-0.289999</td>\n",
       "      <td>-0.172209</td>\n",
       "      <td>0.057880</td>\n",
       "      <td>-0.172209</td>\n",
       "      <td>0.092893</td>\n",
       "      <td>0.092867</td>\n",
       "      <td>-0.172209</td>\n",
       "      <td>0.052312</td>\n",
       "      <td>0.074776</td>\n",
       "      <td>-0.172209</td>\n",
       "      <td>0.071227</td>\n",
       "      <td>0.054447</td>\n",
       "      <td>-0.172209</td>\n",
       "      <td>0.096340</td>\n",
       "      <td>0.122455</td>\n",
       "      <td>-0.172209</td>\n",
       "      <td>0.022574</td>\n",
       "      <td>0.112254</td>\n",
       "      <td>-0.172209</td>\n",
       "      <td>0.032959</td>\n",
       "      <td>0.000742</td>\n",
       "      <td>0.002791</td>\n",
       "      <td>-0.003519</td>\n",
       "      <td>-0.007556</td>\n",
       "      <td>0.007721</td>\n",
       "      <td>-0.003062</td>\n",
       "      <td>0.003319</td>\n",
       "      <td>-0.139396</td>\n",
       "      <td>0.028553</td>\n",
       "      <td>0.059673</td>\n",
       "      <td>0.057467</td>\n",
       "      <td>0.019873</td>\n",
       "      <td>0.027630</td>\n",
       "      <td>-0.006103</td>\n",
       "    </tr>\n",
       "    <tr>\n",
       "      <th>MultipleLines_Yes</th>\n",
       "      <td>0.008414</td>\n",
       "      <td>0.142948</td>\n",
       "      <td>NaN</td>\n",
       "      <td>NaN</td>\n",
       "      <td>0.331941</td>\n",
       "      <td>NaN</td>\n",
       "      <td>NaN</td>\n",
       "      <td>0.490434</td>\n",
       "      <td>0.135300</td>\n",
       "      <td>0.040102</td>\n",
       "      <td>-0.822853</td>\n",
       "      <td>-0.279690</td>\n",
       "      <td>1.000000</td>\n",
       "      <td>-0.199920</td>\n",
       "      <td>0.366083</td>\n",
       "      <td>-0.210564</td>\n",
       "      <td>0.084766</td>\n",
       "      <td>-0.210564</td>\n",
       "      <td>0.098108</td>\n",
       "      <td>-0.018908</td>\n",
       "      <td>-0.210564</td>\n",
       "      <td>0.202237</td>\n",
       "      <td>-0.017718</td>\n",
       "      <td>-0.210564</td>\n",
       "      <td>0.201137</td>\n",
       "      <td>0.082211</td>\n",
       "      <td>-0.210564</td>\n",
       "      <td>0.100571</td>\n",
       "      <td>-0.078300</td>\n",
       "      <td>-0.210564</td>\n",
       "      <td>0.257152</td>\n",
       "      <td>-0.080450</td>\n",
       "      <td>-0.210564</td>\n",
       "      <td>0.258751</td>\n",
       "      <td>-0.088203</td>\n",
       "      <td>-0.003794</td>\n",
       "      <td>0.106253</td>\n",
       "      <td>0.075527</td>\n",
       "      <td>0.060048</td>\n",
       "      <td>0.083618</td>\n",
       "      <td>-0.227206</td>\n",
       "      <td>-0.237693</td>\n",
       "      <td>-0.039693</td>\n",
       "      <td>0.000197</td>\n",
       "      <td>0.082126</td>\n",
       "      <td>0.119549</td>\n",
       "      <td>0.108631</td>\n",
       "      <td>0.128903</td>\n",
       "    </tr>\n",
       "    <tr>\n",
       "      <th>InternetService_DSL</th>\n",
       "      <td>-0.006568</td>\n",
       "      <td>-0.108322</td>\n",
       "      <td>NaN</td>\n",
       "      <td>NaN</td>\n",
       "      <td>0.013274</td>\n",
       "      <td>NaN</td>\n",
       "      <td>NaN</td>\n",
       "      <td>-0.160189</td>\n",
       "      <td>-0.062411</td>\n",
       "      <td>-0.124214</td>\n",
       "      <td>-0.070179</td>\n",
       "      <td>0.452425</td>\n",
       "      <td>-0.199920</td>\n",
       "      <td>1.000000</td>\n",
       "      <td>-0.640987</td>\n",
       "      <td>-0.380635</td>\n",
       "      <td>0.023066</td>\n",
       "      <td>-0.380635</td>\n",
       "      <td>0.321269</td>\n",
       "      <td>0.164783</td>\n",
       "      <td>-0.380635</td>\n",
       "      <td>0.157884</td>\n",
       "      <td>0.175942</td>\n",
       "      <td>-0.380635</td>\n",
       "      <td>0.146291</td>\n",
       "      <td>0.029402</td>\n",
       "      <td>-0.380635</td>\n",
       "      <td>0.313118</td>\n",
       "      <td>0.304062</td>\n",
       "      <td>-0.380635</td>\n",
       "      <td>0.016274</td>\n",
       "      <td>0.295107</td>\n",
       "      <td>-0.380635</td>\n",
       "      <td>0.025698</td>\n",
       "      <td>-0.065509</td>\n",
       "      <td>0.046795</td>\n",
       "      <td>0.031714</td>\n",
       "      <td>0.025476</td>\n",
       "      <td>0.051438</td>\n",
       "      <td>-0.104418</td>\n",
       "      <td>0.041899</td>\n",
       "      <td>-0.301664</td>\n",
       "      <td>0.072075</td>\n",
       "      <td>0.083580</td>\n",
       "      <td>0.074191</td>\n",
       "      <td>0.060623</td>\n",
       "      <td>0.092790</td>\n",
       "      <td>0.068956</td>\n",
       "    </tr>\n",
       "    <tr>\n",
       "      <th>InternetService_Fiber optic</th>\n",
       "      <td>0.011286</td>\n",
       "      <td>0.255338</td>\n",
       "      <td>NaN</td>\n",
       "      <td>NaN</td>\n",
       "      <td>0.019720</td>\n",
       "      <td>NaN</td>\n",
       "      <td>NaN</td>\n",
       "      <td>0.787066</td>\n",
       "      <td>0.202272</td>\n",
       "      <td>0.308020</td>\n",
       "      <td>-0.190192</td>\n",
       "      <td>-0.289999</td>\n",
       "      <td>0.366083</td>\n",
       "      <td>-0.640987</td>\n",
       "      <td>1.000000</td>\n",
       "      <td>-0.465793</td>\n",
       "      <td>0.411561</td>\n",
       "      <td>-0.465793</td>\n",
       "      <td>-0.030696</td>\n",
       "      <td>0.228047</td>\n",
       "      <td>-0.465793</td>\n",
       "      <td>0.165651</td>\n",
       "      <td>0.218148</td>\n",
       "      <td>-0.465793</td>\n",
       "      <td>0.176049</td>\n",
       "      <td>0.402430</td>\n",
       "      <td>-0.465793</td>\n",
       "      <td>-0.020492</td>\n",
       "      <td>0.064707</td>\n",
       "      <td>-0.465793</td>\n",
       "      <td>0.329349</td>\n",
       "      <td>0.070650</td>\n",
       "      <td>-0.465793</td>\n",
       "      <td>0.322923</td>\n",
       "      <td>0.244164</td>\n",
       "      <td>-0.076324</td>\n",
       "      <td>-0.211526</td>\n",
       "      <td>-0.022624</td>\n",
       "      <td>-0.050077</td>\n",
       "      <td>0.336410</td>\n",
       "      <td>-0.306834</td>\n",
       "      <td>-0.354973</td>\n",
       "      <td>0.105076</td>\n",
       "      <td>0.101001</td>\n",
       "      <td>0.118630</td>\n",
       "      <td>0.103931</td>\n",
       "      <td>0.040871</td>\n",
       "      <td>0.023497</td>\n",
       "    </tr>\n",
       "    <tr>\n",
       "      <th>InternetService_No</th>\n",
       "      <td>-0.006026</td>\n",
       "      <td>-0.182742</td>\n",
       "      <td>NaN</td>\n",
       "      <td>NaN</td>\n",
       "      <td>-0.039062</td>\n",
       "      <td>NaN</td>\n",
       "      <td>NaN</td>\n",
       "      <td>-0.763557</td>\n",
       "      <td>-0.171740</td>\n",
       "      <td>-0.227890</td>\n",
       "      <td>0.310046</td>\n",
       "      <td>-0.172209</td>\n",
       "      <td>-0.210564</td>\n",
       "      <td>-0.380635</td>\n",
       "      <td>-0.465793</td>\n",
       "      <td>1.000000</td>\n",
       "      <td>-0.522429</td>\n",
       "      <td>1.000000</td>\n",
       "      <td>-0.333403</td>\n",
       "      <td>-0.464720</td>\n",
       "      <td>1.000000</td>\n",
       "      <td>-0.381593</td>\n",
       "      <td>-0.465658</td>\n",
       "      <td>1.000000</td>\n",
       "      <td>-0.380754</td>\n",
       "      <td>-0.518733</td>\n",
       "      <td>1.000000</td>\n",
       "      <td>-0.336298</td>\n",
       "      <td>-0.428504</td>\n",
       "      <td>1.000000</td>\n",
       "      <td>-0.415552</td>\n",
       "      <td>-0.425339</td>\n",
       "      <td>1.000000</td>\n",
       "      <td>-0.418675</td>\n",
       "      <td>-0.218639</td>\n",
       "      <td>0.038004</td>\n",
       "      <td>0.218278</td>\n",
       "      <td>-0.002113</td>\n",
       "      <td>0.001030</td>\n",
       "      <td>-0.284917</td>\n",
       "      <td>0.321361</td>\n",
       "      <td>0.775445</td>\n",
       "      <td>-0.209686</td>\n",
       "      <td>-0.218041</td>\n",
       "      <td>-0.228456</td>\n",
       "      <td>-0.195104</td>\n",
       "      <td>-0.156216</td>\n",
       "      <td>-0.107806</td>\n",
       "    </tr>\n",
       "    <tr>\n",
       "      <th>OnlineSecurity_No</th>\n",
       "      <td>-0.010429</td>\n",
       "      <td>0.185532</td>\n",
       "      <td>NaN</td>\n",
       "      <td>NaN</td>\n",
       "      <td>-0.263746</td>\n",
       "      <td>NaN</td>\n",
       "      <td>NaN</td>\n",
       "      <td>0.360898</td>\n",
       "      <td>0.034335</td>\n",
       "      <td>0.342637</td>\n",
       "      <td>-0.118040</td>\n",
       "      <td>0.057880</td>\n",
       "      <td>0.084766</td>\n",
       "      <td>0.023066</td>\n",
       "      <td>0.411561</td>\n",
       "      <td>-0.522429</td>\n",
       "      <td>1.000000</td>\n",
       "      <td>-0.522429</td>\n",
       "      <td>-0.629717</td>\n",
       "      <td>0.378468</td>\n",
       "      <td>-0.522429</td>\n",
       "      <td>0.057715</td>\n",
       "      <td>0.371808</td>\n",
       "      <td>-0.522429</td>\n",
       "      <td>0.064615</td>\n",
       "      <td>0.470359</td>\n",
       "      <td>-0.522429</td>\n",
       "      <td>-0.043911</td>\n",
       "      <td>0.257699</td>\n",
       "      <td>-0.522429</td>\n",
       "      <td>0.183035</td>\n",
       "      <td>0.265304</td>\n",
       "      <td>-0.522429</td>\n",
       "      <td>0.175487</td>\n",
       "      <td>0.403255</td>\n",
       "      <td>-0.121904</td>\n",
       "      <td>-0.353300</td>\n",
       "      <td>-0.084322</td>\n",
       "      <td>-0.105510</td>\n",
       "      <td>0.336364</td>\n",
       "      <td>-0.191715</td>\n",
       "      <td>-0.250082</td>\n",
       "      <td>0.256908</td>\n",
       "      <td>0.180564</td>\n",
       "      <td>0.085271</td>\n",
       "      <td>0.016409</td>\n",
       "      <td>-0.119225</td>\n",
       "      <td>-0.203620</td>\n",
       "    </tr>\n",
       "    <tr>\n",
       "      <th>OnlineSecurity_No internet service</th>\n",
       "      <td>-0.006026</td>\n",
       "      <td>-0.182742</td>\n",
       "      <td>NaN</td>\n",
       "      <td>NaN</td>\n",
       "      <td>-0.039062</td>\n",
       "      <td>NaN</td>\n",
       "      <td>NaN</td>\n",
       "      <td>-0.763557</td>\n",
       "      <td>-0.171740</td>\n",
       "      <td>-0.227890</td>\n",
       "      <td>0.310046</td>\n",
       "      <td>-0.172209</td>\n",
       "      <td>-0.210564</td>\n",
       "      <td>-0.380635</td>\n",
       "      <td>-0.465793</td>\n",
       "      <td>1.000000</td>\n",
       "      <td>-0.522429</td>\n",
       "      <td>1.000000</td>\n",
       "      <td>-0.333403</td>\n",
       "      <td>-0.464720</td>\n",
       "      <td>1.000000</td>\n",
       "      <td>-0.381593</td>\n",
       "      <td>-0.465658</td>\n",
       "      <td>1.000000</td>\n",
       "      <td>-0.380754</td>\n",
       "      <td>-0.518733</td>\n",
       "      <td>1.000000</td>\n",
       "      <td>-0.336298</td>\n",
       "      <td>-0.428504</td>\n",
       "      <td>1.000000</td>\n",
       "      <td>-0.415552</td>\n",
       "      <td>-0.425339</td>\n",
       "      <td>1.000000</td>\n",
       "      <td>-0.418675</td>\n",
       "      <td>-0.218639</td>\n",
       "      <td>0.038004</td>\n",
       "      <td>0.218278</td>\n",
       "      <td>-0.002113</td>\n",
       "      <td>0.001030</td>\n",
       "      <td>-0.284917</td>\n",
       "      <td>0.321361</td>\n",
       "      <td>0.775445</td>\n",
       "      <td>-0.209686</td>\n",
       "      <td>-0.218041</td>\n",
       "      <td>-0.228456</td>\n",
       "      <td>-0.195104</td>\n",
       "      <td>-0.156216</td>\n",
       "      <td>-0.107806</td>\n",
       "    </tr>\n",
       "    <tr>\n",
       "      <th>OnlineSecurity_Yes</th>\n",
       "      <td>0.017021</td>\n",
       "      <td>-0.038653</td>\n",
       "      <td>NaN</td>\n",
       "      <td>NaN</td>\n",
       "      <td>0.327203</td>\n",
       "      <td>NaN</td>\n",
       "      <td>NaN</td>\n",
       "      <td>0.296594</td>\n",
       "      <td>0.118498</td>\n",
       "      <td>-0.171226</td>\n",
       "      <td>-0.151950</td>\n",
       "      <td>0.092893</td>\n",
       "      <td>0.098108</td>\n",
       "      <td>0.321269</td>\n",
       "      <td>-0.030696</td>\n",
       "      <td>-0.333403</td>\n",
       "      <td>-0.629717</td>\n",
       "      <td>-0.333403</td>\n",
       "      <td>1.000000</td>\n",
       "      <td>0.004917</td>\n",
       "      <td>-0.333403</td>\n",
       "      <td>0.283832</td>\n",
       "      <td>0.013136</td>\n",
       "      <td>-0.333403</td>\n",
       "      <td>0.275438</td>\n",
       "      <td>-0.047477</td>\n",
       "      <td>-0.333403</td>\n",
       "      <td>0.354931</td>\n",
       "      <td>0.105453</td>\n",
       "      <td>-0.333403</td>\n",
       "      <td>0.176207</td>\n",
       "      <td>0.094162</td>\n",
       "      <td>-0.333403</td>\n",
       "      <td>0.187398</td>\n",
       "      <td>-0.246679</td>\n",
       "      <td>0.100162</td>\n",
       "      <td>0.191773</td>\n",
       "      <td>0.095158</td>\n",
       "      <td>0.115721</td>\n",
       "      <td>-0.112338</td>\n",
       "      <td>-0.080798</td>\n",
       "      <td>-0.429950</td>\n",
       "      <td>-0.093024</td>\n",
       "      <td>-0.001001</td>\n",
       "      <td>0.113850</td>\n",
       "      <td>0.159603</td>\n",
       "      <td>0.274141</td>\n",
       "      <td>0.323351</td>\n",
       "    </tr>\n",
       "    <tr>\n",
       "      <th>OnlineBackup_No</th>\n",
       "      <td>-0.008191</td>\n",
       "      <td>0.087952</td>\n",
       "      <td>NaN</td>\n",
       "      <td>NaN</td>\n",
       "      <td>-0.312694</td>\n",
       "      <td>NaN</td>\n",
       "      <td>NaN</td>\n",
       "      <td>0.210753</td>\n",
       "      <td>-0.009192</td>\n",
       "      <td>0.268005</td>\n",
       "      <td>-0.036277</td>\n",
       "      <td>0.092867</td>\n",
       "      <td>-0.018908</td>\n",
       "      <td>0.164783</td>\n",
       "      <td>0.228047</td>\n",
       "      <td>-0.464720</td>\n",
       "      <td>0.378468</td>\n",
       "      <td>-0.464720</td>\n",
       "      <td>0.004917</td>\n",
       "      <td>1.000000</td>\n",
       "      <td>-0.464720</td>\n",
       "      <td>-0.641122</td>\n",
       "      <td>0.361488</td>\n",
       "      <td>-0.464720</td>\n",
       "      <td>0.025346</td>\n",
       "      <td>0.385341</td>\n",
       "      <td>-0.464720</td>\n",
       "      <td>-0.002642</td>\n",
       "      <td>0.316689</td>\n",
       "      <td>-0.464720</td>\n",
       "      <td>0.074776</td>\n",
       "      <td>0.307200</td>\n",
       "      <td>-0.464720</td>\n",
       "      <td>0.084654</td>\n",
       "      <td>0.338796</td>\n",
       "      <td>-0.111755</td>\n",
       "      <td>-0.287944</td>\n",
       "      <td>-0.081590</td>\n",
       "      <td>-0.087822</td>\n",
       "      <td>0.236947</td>\n",
       "      <td>-0.099975</td>\n",
       "      <td>-0.172424</td>\n",
       "      <td>0.277366</td>\n",
       "      <td>0.183671</td>\n",
       "      <td>0.035090</td>\n",
       "      <td>-0.071568</td>\n",
       "      <td>-0.125126</td>\n",
       "      <td>-0.181127</td>\n",
       "    </tr>\n",
       "    <tr>\n",
       "      <th>OnlineBackup_No internet service</th>\n",
       "      <td>-0.006026</td>\n",
       "      <td>-0.182742</td>\n",
       "      <td>NaN</td>\n",
       "      <td>NaN</td>\n",
       "      <td>-0.039062</td>\n",
       "      <td>NaN</td>\n",
       "      <td>NaN</td>\n",
       "      <td>-0.763557</td>\n",
       "      <td>-0.171740</td>\n",
       "      <td>-0.227890</td>\n",
       "      <td>0.310046</td>\n",
       "      <td>-0.172209</td>\n",
       "      <td>-0.210564</td>\n",
       "      <td>-0.380635</td>\n",
       "      <td>-0.465793</td>\n",
       "      <td>1.000000</td>\n",
       "      <td>-0.522429</td>\n",
       "      <td>1.000000</td>\n",
       "      <td>-0.333403</td>\n",
       "      <td>-0.464720</td>\n",
       "      <td>1.000000</td>\n",
       "      <td>-0.381593</td>\n",
       "      <td>-0.465658</td>\n",
       "      <td>1.000000</td>\n",
       "      <td>-0.380754</td>\n",
       "      <td>-0.518733</td>\n",
       "      <td>1.000000</td>\n",
       "      <td>-0.336298</td>\n",
       "      <td>-0.428504</td>\n",
       "      <td>1.000000</td>\n",
       "      <td>-0.415552</td>\n",
       "      <td>-0.425339</td>\n",
       "      <td>1.000000</td>\n",
       "      <td>-0.418675</td>\n",
       "      <td>-0.218639</td>\n",
       "      <td>0.038004</td>\n",
       "      <td>0.218278</td>\n",
       "      <td>-0.002113</td>\n",
       "      <td>0.001030</td>\n",
       "      <td>-0.284917</td>\n",
       "      <td>0.321361</td>\n",
       "      <td>0.775445</td>\n",
       "      <td>-0.209686</td>\n",
       "      <td>-0.218041</td>\n",
       "      <td>-0.228456</td>\n",
       "      <td>-0.195104</td>\n",
       "      <td>-0.156216</td>\n",
       "      <td>-0.107806</td>\n",
       "    </tr>\n",
       "    <tr>\n",
       "      <th>OnlineBackup_Yes</th>\n",
       "      <td>0.013773</td>\n",
       "      <td>0.066572</td>\n",
       "      <td>NaN</td>\n",
       "      <td>NaN</td>\n",
       "      <td>0.360277</td>\n",
       "      <td>NaN</td>\n",
       "      <td>NaN</td>\n",
       "      <td>0.441780</td>\n",
       "      <td>0.158445</td>\n",
       "      <td>-0.082255</td>\n",
       "      <td>-0.230852</td>\n",
       "      <td>0.052312</td>\n",
       "      <td>0.202237</td>\n",
       "      <td>0.157884</td>\n",
       "      <td>0.165651</td>\n",
       "      <td>-0.381593</td>\n",
       "      <td>0.057715</td>\n",
       "      <td>-0.381593</td>\n",
       "      <td>0.283832</td>\n",
       "      <td>-0.641122</td>\n",
       "      <td>-0.381593</td>\n",
       "      <td>1.000000</td>\n",
       "      <td>0.026236</td>\n",
       "      <td>-0.381593</td>\n",
       "      <td>0.303546</td>\n",
       "      <td>0.047336</td>\n",
       "      <td>-0.381593</td>\n",
       "      <td>0.294233</td>\n",
       "      <td>0.040799</td>\n",
       "      <td>-0.381593</td>\n",
       "      <td>0.282106</td>\n",
       "      <td>0.047961</td>\n",
       "      <td>-0.381593</td>\n",
       "      <td>0.274501</td>\n",
       "      <td>-0.164172</td>\n",
       "      <td>0.083722</td>\n",
       "      <td>0.111400</td>\n",
       "      <td>0.087004</td>\n",
       "      <td>0.090785</td>\n",
       "      <td>-0.000408</td>\n",
       "      <td>-0.174164</td>\n",
       "      <td>-0.492096</td>\n",
       "      <td>-0.107805</td>\n",
       "      <td>-0.002755</td>\n",
       "      <td>0.161375</td>\n",
       "      <td>0.243809</td>\n",
       "      <td>0.266014</td>\n",
       "      <td>0.282516</td>\n",
       "    </tr>\n",
       "    <tr>\n",
       "      <th>DeviceProtection_No</th>\n",
       "      <td>0.002988</td>\n",
       "      <td>0.094810</td>\n",
       "      <td>NaN</td>\n",
       "      <td>NaN</td>\n",
       "      <td>-0.312740</td>\n",
       "      <td>NaN</td>\n",
       "      <td>NaN</td>\n",
       "      <td>0.171836</td>\n",
       "      <td>-0.022598</td>\n",
       "      <td>0.252481</td>\n",
       "      <td>-0.026746</td>\n",
       "      <td>0.074776</td>\n",
       "      <td>-0.017718</td>\n",
       "      <td>0.175942</td>\n",
       "      <td>0.218148</td>\n",
       "      <td>-0.465658</td>\n",
       "      <td>0.371808</td>\n",
       "      <td>-0.465658</td>\n",
       "      <td>0.013136</td>\n",
       "      <td>0.361488</td>\n",
       "      <td>-0.465658</td>\n",
       "      <td>0.026236</td>\n",
       "      <td>1.000000</td>\n",
       "      <td>-0.465658</td>\n",
       "      <td>-0.641004</td>\n",
       "      <td>0.419892</td>\n",
       "      <td>-0.465658</td>\n",
       "      <td>-0.039850</td>\n",
       "      <td>0.420720</td>\n",
       "      <td>-0.465658</td>\n",
       "      <td>-0.029154</td>\n",
       "      <td>0.429545</td>\n",
       "      <td>-0.465658</td>\n",
       "      <td>-0.037316</td>\n",
       "      <td>0.397454</td>\n",
       "      <td>-0.129639</td>\n",
       "      <td>-0.339190</td>\n",
       "      <td>-0.077791</td>\n",
       "      <td>-0.107618</td>\n",
       "      <td>0.239705</td>\n",
       "      <td>-0.087422</td>\n",
       "      <td>-0.173739</td>\n",
       "      <td>0.347184</td>\n",
       "      <td>0.221610</td>\n",
       "      <td>0.049086</td>\n",
       "      <td>-0.136335</td>\n",
       "      <td>-0.201153</td>\n",
       "      <td>-0.181493</td>\n",
       "    </tr>\n",
       "    <tr>\n",
       "      <th>DeviceProtection_No internet service</th>\n",
       "      <td>-0.006026</td>\n",
       "      <td>-0.182742</td>\n",
       "      <td>NaN</td>\n",
       "      <td>NaN</td>\n",
       "      <td>-0.039062</td>\n",
       "      <td>NaN</td>\n",
       "      <td>NaN</td>\n",
       "      <td>-0.763557</td>\n",
       "      <td>-0.171740</td>\n",
       "      <td>-0.227890</td>\n",
       "      <td>0.310046</td>\n",
       "      <td>-0.172209</td>\n",
       "      <td>-0.210564</td>\n",
       "      <td>-0.380635</td>\n",
       "      <td>-0.465793</td>\n",
       "      <td>1.000000</td>\n",
       "      <td>-0.522429</td>\n",
       "      <td>1.000000</td>\n",
       "      <td>-0.333403</td>\n",
       "      <td>-0.464720</td>\n",
       "      <td>1.000000</td>\n",
       "      <td>-0.381593</td>\n",
       "      <td>-0.465658</td>\n",
       "      <td>1.000000</td>\n",
       "      <td>-0.380754</td>\n",
       "      <td>-0.518733</td>\n",
       "      <td>1.000000</td>\n",
       "      <td>-0.336298</td>\n",
       "      <td>-0.428504</td>\n",
       "      <td>1.000000</td>\n",
       "      <td>-0.415552</td>\n",
       "      <td>-0.425339</td>\n",
       "      <td>1.000000</td>\n",
       "      <td>-0.418675</td>\n",
       "      <td>-0.218639</td>\n",
       "      <td>0.038004</td>\n",
       "      <td>0.218278</td>\n",
       "      <td>-0.002113</td>\n",
       "      <td>0.001030</td>\n",
       "      <td>-0.284917</td>\n",
       "      <td>0.321361</td>\n",
       "      <td>0.775445</td>\n",
       "      <td>-0.209686</td>\n",
       "      <td>-0.218041</td>\n",
       "      <td>-0.228456</td>\n",
       "      <td>-0.195104</td>\n",
       "      <td>-0.156216</td>\n",
       "      <td>-0.107806</td>\n",
       "    </tr>\n",
       "    <tr>\n",
       "      <th>DeviceProtection_Yes</th>\n",
       "      <td>0.002105</td>\n",
       "      <td>0.059428</td>\n",
       "      <td>NaN</td>\n",
       "      <td>NaN</td>\n",
       "      <td>0.360653</td>\n",
       "      <td>NaN</td>\n",
       "      <td>NaN</td>\n",
       "      <td>0.482692</td>\n",
       "      <td>0.172564</td>\n",
       "      <td>-0.066160</td>\n",
       "      <td>-0.240960</td>\n",
       "      <td>0.071227</td>\n",
       "      <td>0.201137</td>\n",
       "      <td>0.146291</td>\n",
       "      <td>0.176049</td>\n",
       "      <td>-0.380754</td>\n",
       "      <td>0.064615</td>\n",
       "      <td>-0.380754</td>\n",
       "      <td>0.275438</td>\n",
       "      <td>0.025346</td>\n",
       "      <td>-0.380754</td>\n",
       "      <td>0.303546</td>\n",
       "      <td>-0.641004</td>\n",
       "      <td>-0.380754</td>\n",
       "      <td>1.000000</td>\n",
       "      <td>0.011168</td>\n",
       "      <td>-0.380754</td>\n",
       "      <td>0.333313</td>\n",
       "      <td>-0.067954</td>\n",
       "      <td>-0.380754</td>\n",
       "      <td>0.390874</td>\n",
       "      <td>-0.079919</td>\n",
       "      <td>-0.380754</td>\n",
       "      <td>0.402111</td>\n",
       "      <td>-0.225662</td>\n",
       "      <td>0.102495</td>\n",
       "      <td>0.165096</td>\n",
       "      <td>0.083115</td>\n",
       "      <td>0.111554</td>\n",
       "      <td>-0.003351</td>\n",
       "      <td>-0.187373</td>\n",
       "      <td>-0.491014</td>\n",
       "      <td>-0.180901</td>\n",
       "      <td>-0.042445</td>\n",
       "      <td>0.146853</td>\n",
       "      <td>0.311667</td>\n",
       "      <td>0.345667</td>\n",
       "      <td>0.283138</td>\n",
       "    </tr>\n",
       "    <tr>\n",
       "      <th>TechSupport_No</th>\n",
       "      <td>-0.003397</td>\n",
       "      <td>0.205620</td>\n",
       "      <td>NaN</td>\n",
       "      <td>NaN</td>\n",
       "      <td>-0.262143</td>\n",
       "      <td>NaN</td>\n",
       "      <td>NaN</td>\n",
       "      <td>0.322076</td>\n",
       "      <td>0.021230</td>\n",
       "      <td>0.337281</td>\n",
       "      <td>-0.113482</td>\n",
       "      <td>0.054447</td>\n",
       "      <td>0.082211</td>\n",
       "      <td>0.029402</td>\n",
       "      <td>0.402430</td>\n",
       "      <td>-0.518733</td>\n",
       "      <td>0.470359</td>\n",
       "      <td>-0.518733</td>\n",
       "      <td>-0.047477</td>\n",
       "      <td>0.385341</td>\n",
       "      <td>-0.518733</td>\n",
       "      <td>0.047336</td>\n",
       "      <td>0.419892</td>\n",
       "      <td>-0.518733</td>\n",
       "      <td>0.011168</td>\n",
       "      <td>1.000000</td>\n",
       "      <td>-0.518733</td>\n",
       "      <td>-0.630692</td>\n",
       "      <td>0.347016</td>\n",
       "      <td>-0.518733</td>\n",
       "      <td>0.089991</td>\n",
       "      <td>0.345993</td>\n",
       "      <td>-0.518733</td>\n",
       "      <td>0.091395</td>\n",
       "      <td>0.439110</td>\n",
       "      <td>-0.118262</td>\n",
       "      <td>-0.398490</td>\n",
       "      <td>-0.090177</td>\n",
       "      <td>-0.107310</td>\n",
       "      <td>0.339031</td>\n",
       "      <td>-0.187185</td>\n",
       "      <td>-0.245285</td>\n",
       "      <td>0.320022</td>\n",
       "      <td>0.207604</td>\n",
       "      <td>0.100796</td>\n",
       "      <td>-0.039306</td>\n",
       "      <td>-0.197242</td>\n",
       "      <td>-0.202179</td>\n",
       "    </tr>\n",
       "    <tr>\n",
       "      <th>TechSupport_No internet service</th>\n",
       "      <td>-0.006026</td>\n",
       "      <td>-0.182742</td>\n",
       "      <td>NaN</td>\n",
       "      <td>NaN</td>\n",
       "      <td>-0.039062</td>\n",
       "      <td>NaN</td>\n",
       "      <td>NaN</td>\n",
       "      <td>-0.763557</td>\n",
       "      <td>-0.171740</td>\n",
       "      <td>-0.227890</td>\n",
       "      <td>0.310046</td>\n",
       "      <td>-0.172209</td>\n",
       "      <td>-0.210564</td>\n",
       "      <td>-0.380635</td>\n",
       "      <td>-0.465793</td>\n",
       "      <td>1.000000</td>\n",
       "      <td>-0.522429</td>\n",
       "      <td>1.000000</td>\n",
       "      <td>-0.333403</td>\n",
       "      <td>-0.464720</td>\n",
       "      <td>1.000000</td>\n",
       "      <td>-0.381593</td>\n",
       "      <td>-0.465658</td>\n",
       "      <td>1.000000</td>\n",
       "      <td>-0.380754</td>\n",
       "      <td>-0.518733</td>\n",
       "      <td>1.000000</td>\n",
       "      <td>-0.336298</td>\n",
       "      <td>-0.428504</td>\n",
       "      <td>1.000000</td>\n",
       "      <td>-0.415552</td>\n",
       "      <td>-0.425339</td>\n",
       "      <td>1.000000</td>\n",
       "      <td>-0.418675</td>\n",
       "      <td>-0.218639</td>\n",
       "      <td>0.038004</td>\n",
       "      <td>0.218278</td>\n",
       "      <td>-0.002113</td>\n",
       "      <td>0.001030</td>\n",
       "      <td>-0.284917</td>\n",
       "      <td>0.321361</td>\n",
       "      <td>0.775445</td>\n",
       "      <td>-0.209686</td>\n",
       "      <td>-0.218041</td>\n",
       "      <td>-0.228456</td>\n",
       "      <td>-0.195104</td>\n",
       "      <td>-0.156216</td>\n",
       "      <td>-0.107806</td>\n",
       "    </tr>\n",
       "    <tr>\n",
       "      <th>TechSupport_Yes</th>\n",
       "      <td>0.009212</td>\n",
       "      <td>-0.060625</td>\n",
       "      <td>NaN</td>\n",
       "      <td>NaN</td>\n",
       "      <td>0.324221</td>\n",
       "      <td>NaN</td>\n",
       "      <td>NaN</td>\n",
       "      <td>0.338304</td>\n",
       "      <td>0.132505</td>\n",
       "      <td>-0.164674</td>\n",
       "      <td>-0.156425</td>\n",
       "      <td>0.096340</td>\n",
       "      <td>0.100571</td>\n",
       "      <td>0.313118</td>\n",
       "      <td>-0.020492</td>\n",
       "      <td>-0.336298</td>\n",
       "      <td>-0.043911</td>\n",
       "      <td>-0.336298</td>\n",
       "      <td>0.354931</td>\n",
       "      <td>-0.002642</td>\n",
       "      <td>-0.336298</td>\n",
       "      <td>0.294233</td>\n",
       "      <td>-0.039850</td>\n",
       "      <td>-0.336298</td>\n",
       "      <td>0.333313</td>\n",
       "      <td>-0.630692</td>\n",
       "      <td>-0.336298</td>\n",
       "      <td>1.000000</td>\n",
       "      <td>0.006701</td>\n",
       "      <td>-0.336298</td>\n",
       "      <td>0.278070</td>\n",
       "      <td>0.004955</td>\n",
       "      <td>-0.336298</td>\n",
       "      <td>0.279358</td>\n",
       "      <td>-0.285241</td>\n",
       "      <td>0.095775</td>\n",
       "      <td>0.240824</td>\n",
       "      <td>0.101252</td>\n",
       "      <td>0.117272</td>\n",
       "      <td>-0.114839</td>\n",
       "      <td>-0.085509</td>\n",
       "      <td>-0.433684</td>\n",
       "      <td>-0.162187</td>\n",
       "      <td>-0.030768</td>\n",
       "      <td>0.096340</td>\n",
       "      <td>0.220395</td>\n",
       "      <td>0.359070</td>\n",
       "      <td>0.320567</td>\n",
       "    </tr>\n",
       "    <tr>\n",
       "      <th>StreamingTV_No</th>\n",
       "      <td>-0.003267</td>\n",
       "      <td>0.049062</td>\n",
       "      <td>NaN</td>\n",
       "      <td>NaN</td>\n",
       "      <td>-0.245039</td>\n",
       "      <td>NaN</td>\n",
       "      <td>NaN</td>\n",
       "      <td>0.016951</td>\n",
       "      <td>-0.052607</td>\n",
       "      <td>0.128916</td>\n",
       "      <td>0.004913</td>\n",
       "      <td>0.122455</td>\n",
       "      <td>-0.078300</td>\n",
       "      <td>0.304062</td>\n",
       "      <td>0.064707</td>\n",
       "      <td>-0.428504</td>\n",
       "      <td>0.257699</td>\n",
       "      <td>-0.428504</td>\n",
       "      <td>0.105453</td>\n",
       "      <td>0.316689</td>\n",
       "      <td>-0.428504</td>\n",
       "      <td>0.040799</td>\n",
       "      <td>0.420720</td>\n",
       "      <td>-0.428504</td>\n",
       "      <td>-0.067954</td>\n",
       "      <td>0.347016</td>\n",
       "      <td>-0.428504</td>\n",
       "      <td>0.006701</td>\n",
       "      <td>1.000000</td>\n",
       "      <td>-0.428504</td>\n",
       "      <td>-0.643767</td>\n",
       "      <td>0.537773</td>\n",
       "      <td>-0.428504</td>\n",
       "      <td>-0.177328</td>\n",
       "      <td>0.295479</td>\n",
       "      <td>-0.093177</td>\n",
       "      <td>-0.255209</td>\n",
       "      <td>-0.044168</td>\n",
       "      <td>-0.041031</td>\n",
       "      <td>0.096033</td>\n",
       "      <td>-0.024261</td>\n",
       "      <td>-0.120046</td>\n",
       "      <td>0.345218</td>\n",
       "      <td>0.152324</td>\n",
       "      <td>0.019791</td>\n",
       "      <td>-0.133311</td>\n",
       "      <td>-0.175083</td>\n",
       "      <td>-0.167012</td>\n",
       "    </tr>\n",
       "    <tr>\n",
       "      <th>StreamingTV_No internet service</th>\n",
       "      <td>-0.006026</td>\n",
       "      <td>-0.182742</td>\n",
       "      <td>NaN</td>\n",
       "      <td>NaN</td>\n",
       "      <td>-0.039062</td>\n",
       "      <td>NaN</td>\n",
       "      <td>NaN</td>\n",
       "      <td>-0.763557</td>\n",
       "      <td>-0.171740</td>\n",
       "      <td>-0.227890</td>\n",
       "      <td>0.310046</td>\n",
       "      <td>-0.172209</td>\n",
       "      <td>-0.210564</td>\n",
       "      <td>-0.380635</td>\n",
       "      <td>-0.465793</td>\n",
       "      <td>1.000000</td>\n",
       "      <td>-0.522429</td>\n",
       "      <td>1.000000</td>\n",
       "      <td>-0.333403</td>\n",
       "      <td>-0.464720</td>\n",
       "      <td>1.000000</td>\n",
       "      <td>-0.381593</td>\n",
       "      <td>-0.465658</td>\n",
       "      <td>1.000000</td>\n",
       "      <td>-0.380754</td>\n",
       "      <td>-0.518733</td>\n",
       "      <td>1.000000</td>\n",
       "      <td>-0.336298</td>\n",
       "      <td>-0.428504</td>\n",
       "      <td>1.000000</td>\n",
       "      <td>-0.415552</td>\n",
       "      <td>-0.425339</td>\n",
       "      <td>1.000000</td>\n",
       "      <td>-0.418675</td>\n",
       "      <td>-0.218639</td>\n",
       "      <td>0.038004</td>\n",
       "      <td>0.218278</td>\n",
       "      <td>-0.002113</td>\n",
       "      <td>0.001030</td>\n",
       "      <td>-0.284917</td>\n",
       "      <td>0.321361</td>\n",
       "      <td>0.775445</td>\n",
       "      <td>-0.209686</td>\n",
       "      <td>-0.218041</td>\n",
       "      <td>-0.228456</td>\n",
       "      <td>-0.195104</td>\n",
       "      <td>-0.156216</td>\n",
       "      <td>-0.107806</td>\n",
       "    </tr>\n",
       "    <tr>\n",
       "      <th>StreamingTV_Yes</th>\n",
       "      <td>0.008393</td>\n",
       "      <td>0.105378</td>\n",
       "      <td>NaN</td>\n",
       "      <td>NaN</td>\n",
       "      <td>0.279756</td>\n",
       "      <td>NaN</td>\n",
       "      <td>NaN</td>\n",
       "      <td>0.629603</td>\n",
       "      <td>0.198408</td>\n",
       "      <td>0.063228</td>\n",
       "      <td>-0.267528</td>\n",
       "      <td>0.022574</td>\n",
       "      <td>0.257152</td>\n",
       "      <td>0.016274</td>\n",
       "      <td>0.329349</td>\n",
       "      <td>-0.415552</td>\n",
       "      <td>0.183035</td>\n",
       "      <td>-0.415552</td>\n",
       "      <td>0.176207</td>\n",
       "      <td>0.074776</td>\n",
       "      <td>-0.415552</td>\n",
       "      <td>0.282106</td>\n",
       "      <td>-0.029154</td>\n",
       "      <td>-0.415552</td>\n",
       "      <td>0.390874</td>\n",
       "      <td>0.089991</td>\n",
       "      <td>-0.415552</td>\n",
       "      <td>0.278070</td>\n",
       "      <td>-0.643767</td>\n",
       "      <td>-0.415552</td>\n",
       "      <td>1.000000</td>\n",
       "      <td>-0.181135</td>\n",
       "      <td>-0.415552</td>\n",
       "      <td>0.533094</td>\n",
       "      <td>-0.112282</td>\n",
       "      <td>0.061612</td>\n",
       "      <td>0.072049</td>\n",
       "      <td>0.046252</td>\n",
       "      <td>0.040433</td>\n",
       "      <td>0.144626</td>\n",
       "      <td>-0.247742</td>\n",
       "      <td>-0.535889</td>\n",
       "      <td>-0.169936</td>\n",
       "      <td>0.031322</td>\n",
       "      <td>0.173560</td>\n",
       "      <td>0.299437</td>\n",
       "      <td>0.308552</td>\n",
       "      <td>0.259429</td>\n",
       "    </tr>\n",
       "    <tr>\n",
       "      <th>StreamingMovies_No</th>\n",
       "      <td>-0.005374</td>\n",
       "      <td>0.034210</td>\n",
       "      <td>NaN</td>\n",
       "      <td>NaN</td>\n",
       "      <td>-0.252220</td>\n",
       "      <td>NaN</td>\n",
       "      <td>NaN</td>\n",
       "      <td>0.018075</td>\n",
       "      <td>-0.059210</td>\n",
       "      <td>0.130845</td>\n",
       "      <td>0.013076</td>\n",
       "      <td>0.112254</td>\n",
       "      <td>-0.080450</td>\n",
       "      <td>0.295107</td>\n",
       "      <td>0.070650</td>\n",
       "      <td>-0.425339</td>\n",
       "      <td>0.265304</td>\n",
       "      <td>-0.425339</td>\n",
       "      <td>0.094162</td>\n",
       "      <td>0.307200</td>\n",
       "      <td>-0.425339</td>\n",
       "      <td>0.047961</td>\n",
       "      <td>0.429545</td>\n",
       "      <td>-0.425339</td>\n",
       "      <td>-0.079919</td>\n",
       "      <td>0.345993</td>\n",
       "      <td>-0.425339</td>\n",
       "      <td>0.004955</td>\n",
       "      <td>0.537773</td>\n",
       "      <td>-0.425339</td>\n",
       "      <td>-0.181135</td>\n",
       "      <td>1.000000</td>\n",
       "      <td>-0.425339</td>\n",
       "      <td>-0.643815</td>\n",
       "      <td>0.300457</td>\n",
       "      <td>-0.096726</td>\n",
       "      <td>-0.257625</td>\n",
       "      <td>-0.046705</td>\n",
       "      <td>-0.049277</td>\n",
       "      <td>0.102571</td>\n",
       "      <td>-0.021034</td>\n",
       "      <td>-0.115306</td>\n",
       "      <td>0.336822</td>\n",
       "      <td>0.173625</td>\n",
       "      <td>0.004698</td>\n",
       "      <td>-0.134383</td>\n",
       "      <td>-0.179577</td>\n",
       "      <td>-0.165778</td>\n",
       "    </tr>\n",
       "    <tr>\n",
       "      <th>StreamingMovies_No internet service</th>\n",
       "      <td>-0.006026</td>\n",
       "      <td>-0.182742</td>\n",
       "      <td>NaN</td>\n",
       "      <td>NaN</td>\n",
       "      <td>-0.039062</td>\n",
       "      <td>NaN</td>\n",
       "      <td>NaN</td>\n",
       "      <td>-0.763557</td>\n",
       "      <td>-0.171740</td>\n",
       "      <td>-0.227890</td>\n",
       "      <td>0.310046</td>\n",
       "      <td>-0.172209</td>\n",
       "      <td>-0.210564</td>\n",
       "      <td>-0.380635</td>\n",
       "      <td>-0.465793</td>\n",
       "      <td>1.000000</td>\n",
       "      <td>-0.522429</td>\n",
       "      <td>1.000000</td>\n",
       "      <td>-0.333403</td>\n",
       "      <td>-0.464720</td>\n",
       "      <td>1.000000</td>\n",
       "      <td>-0.381593</td>\n",
       "      <td>-0.465658</td>\n",
       "      <td>1.000000</td>\n",
       "      <td>-0.380754</td>\n",
       "      <td>-0.518733</td>\n",
       "      <td>1.000000</td>\n",
       "      <td>-0.336298</td>\n",
       "      <td>-0.428504</td>\n",
       "      <td>1.000000</td>\n",
       "      <td>-0.415552</td>\n",
       "      <td>-0.425339</td>\n",
       "      <td>1.000000</td>\n",
       "      <td>-0.418675</td>\n",
       "      <td>-0.218639</td>\n",
       "      <td>0.038004</td>\n",
       "      <td>0.218278</td>\n",
       "      <td>-0.002113</td>\n",
       "      <td>0.001030</td>\n",
       "      <td>-0.284917</td>\n",
       "      <td>0.321361</td>\n",
       "      <td>0.775445</td>\n",
       "      <td>-0.209686</td>\n",
       "      <td>-0.218041</td>\n",
       "      <td>-0.228456</td>\n",
       "      <td>-0.195104</td>\n",
       "      <td>-0.156216</td>\n",
       "      <td>-0.107806</td>\n",
       "    </tr>\n",
       "    <tr>\n",
       "      <th>StreamingMovies_Yes</th>\n",
       "      <td>0.010487</td>\n",
       "      <td>0.120176</td>\n",
       "      <td>NaN</td>\n",
       "      <td>NaN</td>\n",
       "      <td>0.286111</td>\n",
       "      <td>NaN</td>\n",
       "      <td>NaN</td>\n",
       "      <td>0.627429</td>\n",
       "      <td>0.204614</td>\n",
       "      <td>0.061382</td>\n",
       "      <td>-0.275256</td>\n",
       "      <td>0.032959</td>\n",
       "      <td>0.258751</td>\n",
       "      <td>0.025698</td>\n",
       "      <td>0.322923</td>\n",
       "      <td>-0.418675</td>\n",
       "      <td>0.175487</td>\n",
       "      <td>-0.418675</td>\n",
       "      <td>0.187398</td>\n",
       "      <td>0.084654</td>\n",
       "      <td>-0.418675</td>\n",
       "      <td>0.274501</td>\n",
       "      <td>-0.037316</td>\n",
       "      <td>-0.418675</td>\n",
       "      <td>0.402111</td>\n",
       "      <td>0.091395</td>\n",
       "      <td>-0.418675</td>\n",
       "      <td>0.279358</td>\n",
       "      <td>-0.177328</td>\n",
       "      <td>-0.418675</td>\n",
       "      <td>0.533094</td>\n",
       "      <td>-0.643815</td>\n",
       "      <td>-0.418675</td>\n",
       "      <td>1.000000</td>\n",
       "      <td>-0.116633</td>\n",
       "      <td>0.064926</td>\n",
       "      <td>0.073960</td>\n",
       "      <td>0.048652</td>\n",
       "      <td>0.048575</td>\n",
       "      <td>0.137966</td>\n",
       "      <td>-0.250595</td>\n",
       "      <td>-0.539916</td>\n",
       "      <td>-0.160692</td>\n",
       "      <td>0.010128</td>\n",
       "      <td>0.188440</td>\n",
       "      <td>0.299798</td>\n",
       "      <td>0.312268</td>\n",
       "      <td>0.257494</td>\n",
       "    </tr>\n",
       "    <tr>\n",
       "      <th>Contract_Month-to-month</th>\n",
       "      <td>0.003386</td>\n",
       "      <td>0.138360</td>\n",
       "      <td>NaN</td>\n",
       "      <td>NaN</td>\n",
       "      <td>-0.645561</td>\n",
       "      <td>NaN</td>\n",
       "      <td>NaN</td>\n",
       "      <td>0.060165</td>\n",
       "      <td>-0.106009</td>\n",
       "      <td>0.405103</td>\n",
       "      <td>0.086740</td>\n",
       "      <td>0.000742</td>\n",
       "      <td>-0.088203</td>\n",
       "      <td>-0.065509</td>\n",
       "      <td>0.244164</td>\n",
       "      <td>-0.218639</td>\n",
       "      <td>0.403255</td>\n",
       "      <td>-0.218639</td>\n",
       "      <td>-0.246679</td>\n",
       "      <td>0.338796</td>\n",
       "      <td>-0.218639</td>\n",
       "      <td>-0.164172</td>\n",
       "      <td>0.397454</td>\n",
       "      <td>-0.218639</td>\n",
       "      <td>-0.225662</td>\n",
       "      <td>0.439110</td>\n",
       "      <td>-0.218639</td>\n",
       "      <td>-0.285241</td>\n",
       "      <td>0.295479</td>\n",
       "      <td>-0.218639</td>\n",
       "      <td>-0.112282</td>\n",
       "      <td>0.300457</td>\n",
       "      <td>-0.218639</td>\n",
       "      <td>-0.116633</td>\n",
       "      <td>1.000000</td>\n",
       "      <td>-0.568744</td>\n",
       "      <td>-0.622633</td>\n",
       "      <td>-0.179707</td>\n",
       "      <td>-0.204145</td>\n",
       "      <td>0.331661</td>\n",
       "      <td>0.004138</td>\n",
       "      <td>-0.016512</td>\n",
       "      <td>0.286657</td>\n",
       "      <td>0.173978</td>\n",
       "      <td>0.009283</td>\n",
       "      <td>-0.159087</td>\n",
       "      <td>-0.227076</td>\n",
       "      <td>-0.213647</td>\n",
       "    </tr>\n",
       "    <tr>\n",
       "      <th>Contract_One year</th>\n",
       "      <td>-0.008026</td>\n",
       "      <td>-0.046262</td>\n",
       "      <td>NaN</td>\n",
       "      <td>NaN</td>\n",
       "      <td>0.202570</td>\n",
       "      <td>NaN</td>\n",
       "      <td>NaN</td>\n",
       "      <td>0.004904</td>\n",
       "      <td>0.041687</td>\n",
       "      <td>-0.177820</td>\n",
       "      <td>0.002098</td>\n",
       "      <td>0.002791</td>\n",
       "      <td>-0.003794</td>\n",
       "      <td>0.046795</td>\n",
       "      <td>-0.076324</td>\n",
       "      <td>0.038004</td>\n",
       "      <td>-0.121904</td>\n",
       "      <td>0.038004</td>\n",
       "      <td>0.100162</td>\n",
       "      <td>-0.111755</td>\n",
       "      <td>0.038004</td>\n",
       "      <td>0.083722</td>\n",
       "      <td>-0.129639</td>\n",
       "      <td>0.038004</td>\n",
       "      <td>0.102495</td>\n",
       "      <td>-0.118262</td>\n",
       "      <td>0.038004</td>\n",
       "      <td>0.095775</td>\n",
       "      <td>-0.093177</td>\n",
       "      <td>0.038004</td>\n",
       "      <td>0.061612</td>\n",
       "      <td>-0.096726</td>\n",
       "      <td>0.038004</td>\n",
       "      <td>0.064926</td>\n",
       "      <td>-0.568744</td>\n",
       "      <td>1.000000</td>\n",
       "      <td>-0.289510</td>\n",
       "      <td>0.057451</td>\n",
       "      <td>0.067589</td>\n",
       "      <td>-0.109130</td>\n",
       "      <td>-0.000116</td>\n",
       "      <td>-0.060190</td>\n",
       "      <td>-0.135007</td>\n",
       "      <td>-0.022742</td>\n",
       "      <td>0.082330</td>\n",
       "      <td>0.131480</td>\n",
       "      <td>0.063414</td>\n",
       "      <td>-0.039748</td>\n",
       "    </tr>\n",
       "    <tr>\n",
       "      <th>Contract_Two year</th>\n",
       "      <td>0.003695</td>\n",
       "      <td>-0.117000</td>\n",
       "      <td>NaN</td>\n",
       "      <td>NaN</td>\n",
       "      <td>0.558533</td>\n",
       "      <td>NaN</td>\n",
       "      <td>NaN</td>\n",
       "      <td>-0.074681</td>\n",
       "      <td>0.083705</td>\n",
       "      <td>-0.302253</td>\n",
       "      <td>-0.102937</td>\n",
       "      <td>-0.003519</td>\n",
       "      <td>0.106253</td>\n",
       "      <td>0.031714</td>\n",
       "      <td>-0.211526</td>\n",
       "      <td>0.218278</td>\n",
       "      <td>-0.353300</td>\n",
       "      <td>0.218278</td>\n",
       "      <td>0.191773</td>\n",
       "      <td>-0.287944</td>\n",
       "      <td>0.218278</td>\n",
       "      <td>0.111400</td>\n",
       "      <td>-0.339190</td>\n",
       "      <td>0.218278</td>\n",
       "      <td>0.165096</td>\n",
       "      <td>-0.398490</td>\n",
       "      <td>0.218278</td>\n",
       "      <td>0.240824</td>\n",
       "      <td>-0.255209</td>\n",
       "      <td>0.218278</td>\n",
       "      <td>0.072049</td>\n",
       "      <td>-0.257625</td>\n",
       "      <td>0.218278</td>\n",
       "      <td>0.073960</td>\n",
       "      <td>-0.622633</td>\n",
       "      <td>-0.289510</td>\n",
       "      <td>1.000000</td>\n",
       "      <td>0.154471</td>\n",
       "      <td>0.173265</td>\n",
       "      <td>-0.282138</td>\n",
       "      <td>-0.004705</td>\n",
       "      <td>0.076478</td>\n",
       "      <td>-0.205147</td>\n",
       "      <td>-0.180826</td>\n",
       "      <td>-0.089129</td>\n",
       "      <td>0.060047</td>\n",
       "      <td>0.203922</td>\n",
       "      <td>0.286440</td>\n",
       "    </tr>\n",
       "    <tr>\n",
       "      <th>PaymentMethod_Bank transfer (automatic)</th>\n",
       "      <td>0.016024</td>\n",
       "      <td>-0.016159</td>\n",
       "      <td>NaN</td>\n",
       "      <td>NaN</td>\n",
       "      <td>0.243510</td>\n",
       "      <td>NaN</td>\n",
       "      <td>NaN</td>\n",
       "      <td>0.042812</td>\n",
       "      <td>0.025206</td>\n",
       "      <td>-0.117937</td>\n",
       "      <td>-0.070178</td>\n",
       "      <td>-0.007556</td>\n",
       "      <td>0.075527</td>\n",
       "      <td>0.025476</td>\n",
       "      <td>-0.022624</td>\n",
       "      <td>-0.002113</td>\n",
       "      <td>-0.084322</td>\n",
       "      <td>-0.002113</td>\n",
       "      <td>0.095158</td>\n",
       "      <td>-0.081590</td>\n",
       "      <td>-0.002113</td>\n",
       "      <td>0.087004</td>\n",
       "      <td>-0.077791</td>\n",
       "      <td>-0.002113</td>\n",
       "      <td>0.083115</td>\n",
       "      <td>-0.090177</td>\n",
       "      <td>-0.002113</td>\n",
       "      <td>0.101252</td>\n",
       "      <td>-0.044168</td>\n",
       "      <td>-0.002113</td>\n",
       "      <td>0.046252</td>\n",
       "      <td>-0.046705</td>\n",
       "      <td>-0.002113</td>\n",
       "      <td>0.048652</td>\n",
       "      <td>-0.179707</td>\n",
       "      <td>0.057451</td>\n",
       "      <td>0.154471</td>\n",
       "      <td>1.000000</td>\n",
       "      <td>-0.278215</td>\n",
       "      <td>-0.376762</td>\n",
       "      <td>-0.288685</td>\n",
       "      <td>-0.047621</td>\n",
       "      <td>-0.058630</td>\n",
       "      <td>-0.036338</td>\n",
       "      <td>0.010243</td>\n",
       "      <td>0.064430</td>\n",
       "      <td>0.057615</td>\n",
       "      <td>0.074564</td>\n",
       "    </tr>\n",
       "    <tr>\n",
       "      <th>PaymentMethod_Credit card (automatic)</th>\n",
       "      <td>-0.001215</td>\n",
       "      <td>-0.024135</td>\n",
       "      <td>NaN</td>\n",
       "      <td>NaN</td>\n",
       "      <td>0.233006</td>\n",
       "      <td>NaN</td>\n",
       "      <td>NaN</td>\n",
       "      <td>0.030550</td>\n",
       "      <td>0.025894</td>\n",
       "      <td>-0.134302</td>\n",
       "      <td>-0.063921</td>\n",
       "      <td>0.007721</td>\n",
       "      <td>0.060048</td>\n",
       "      <td>0.051438</td>\n",
       "      <td>-0.050077</td>\n",
       "      <td>0.001030</td>\n",
       "      <td>-0.105510</td>\n",
       "      <td>0.001030</td>\n",
       "      <td>0.115721</td>\n",
       "      <td>-0.087822</td>\n",
       "      <td>0.001030</td>\n",
       "      <td>0.090785</td>\n",
       "      <td>-0.107618</td>\n",
       "      <td>0.001030</td>\n",
       "      <td>0.111554</td>\n",
       "      <td>-0.107310</td>\n",
       "      <td>0.001030</td>\n",
       "      <td>0.117272</td>\n",
       "      <td>-0.041031</td>\n",
       "      <td>0.001030</td>\n",
       "      <td>0.040433</td>\n",
       "      <td>-0.049277</td>\n",
       "      <td>0.001030</td>\n",
       "      <td>0.048575</td>\n",
       "      <td>-0.204145</td>\n",
       "      <td>0.067589</td>\n",
       "      <td>0.173265</td>\n",
       "      <td>-0.278215</td>\n",
       "      <td>1.000000</td>\n",
       "      <td>-0.373322</td>\n",
       "      <td>-0.286049</td>\n",
       "      <td>-0.052375</td>\n",
       "      <td>-0.062928</td>\n",
       "      <td>-0.033380</td>\n",
       "      <td>0.006041</td>\n",
       "      <td>0.036901</td>\n",
       "      <td>0.094293</td>\n",
       "      <td>0.090536</td>\n",
       "    </tr>\n",
       "    <tr>\n",
       "      <th>PaymentMethod_Electronic check</th>\n",
       "      <td>-0.000752</td>\n",
       "      <td>0.171718</td>\n",
       "      <td>NaN</td>\n",
       "      <td>NaN</td>\n",
       "      <td>-0.208363</td>\n",
       "      <td>NaN</td>\n",
       "      <td>NaN</td>\n",
       "      <td>0.271625</td>\n",
       "      <td>0.041220</td>\n",
       "      <td>0.301919</td>\n",
       "      <td>-0.080836</td>\n",
       "      <td>-0.003062</td>\n",
       "      <td>0.083618</td>\n",
       "      <td>-0.104418</td>\n",
       "      <td>0.336410</td>\n",
       "      <td>-0.284917</td>\n",
       "      <td>0.336364</td>\n",
       "      <td>-0.284917</td>\n",
       "      <td>-0.112338</td>\n",
       "      <td>0.236947</td>\n",
       "      <td>-0.284917</td>\n",
       "      <td>-0.000408</td>\n",
       "      <td>0.239705</td>\n",
       "      <td>-0.284917</td>\n",
       "      <td>-0.003351</td>\n",
       "      <td>0.339031</td>\n",
       "      <td>-0.284917</td>\n",
       "      <td>-0.114839</td>\n",
       "      <td>0.096033</td>\n",
       "      <td>-0.284917</td>\n",
       "      <td>0.144626</td>\n",
       "      <td>0.102571</td>\n",
       "      <td>-0.284917</td>\n",
       "      <td>0.137966</td>\n",
       "      <td>0.331661</td>\n",
       "      <td>-0.109130</td>\n",
       "      <td>-0.282138</td>\n",
       "      <td>-0.376762</td>\n",
       "      <td>-0.373322</td>\n",
       "      <td>1.000000</td>\n",
       "      <td>-0.387372</td>\n",
       "      <td>-0.177412</td>\n",
       "      <td>0.142121</td>\n",
       "      <td>0.107182</td>\n",
       "      <td>0.071232</td>\n",
       "      <td>0.000833</td>\n",
       "      <td>-0.048177</td>\n",
       "      <td>-0.089201</td>\n",
       "    </tr>\n",
       "    <tr>\n",
       "      <th>PaymentMethod_Mailed check</th>\n",
       "      <td>-0.013744</td>\n",
       "      <td>-0.153477</td>\n",
       "      <td>NaN</td>\n",
       "      <td>NaN</td>\n",
       "      <td>-0.233852</td>\n",
       "      <td>NaN</td>\n",
       "      <td>NaN</td>\n",
       "      <td>-0.377437</td>\n",
       "      <td>-0.096529</td>\n",
       "      <td>-0.091683</td>\n",
       "      <td>0.222605</td>\n",
       "      <td>0.003319</td>\n",
       "      <td>-0.227206</td>\n",
       "      <td>0.041899</td>\n",
       "      <td>-0.306834</td>\n",
       "      <td>0.321361</td>\n",
       "      <td>-0.191715</td>\n",
       "      <td>0.321361</td>\n",
       "      <td>-0.080798</td>\n",
       "      <td>-0.099975</td>\n",
       "      <td>0.321361</td>\n",
       "      <td>-0.174164</td>\n",
       "      <td>-0.087422</td>\n",
       "      <td>0.321361</td>\n",
       "      <td>-0.187373</td>\n",
       "      <td>-0.187185</td>\n",
       "      <td>0.321361</td>\n",
       "      <td>-0.085509</td>\n",
       "      <td>-0.024261</td>\n",
       "      <td>0.321361</td>\n",
       "      <td>-0.247742</td>\n",
       "      <td>-0.021034</td>\n",
       "      <td>0.321361</td>\n",
       "      <td>-0.250595</td>\n",
       "      <td>0.004138</td>\n",
       "      <td>-0.000116</td>\n",
       "      <td>-0.004705</td>\n",
       "      <td>-0.288685</td>\n",
       "      <td>-0.286049</td>\n",
       "      <td>-0.387372</td>\n",
       "      <td>1.000000</td>\n",
       "      <td>0.297645</td>\n",
       "      <td>-0.040376</td>\n",
       "      <td>-0.052001</td>\n",
       "      <td>-0.096080</td>\n",
       "      <td>-0.100538</td>\n",
       "      <td>-0.094960</td>\n",
       "      <td>-0.061853</td>\n",
       "    </tr>\n",
       "    <tr>\n",
       "      <th>AdditionalServices_0</th>\n",
       "      <td>-0.012193</td>\n",
       "      <td>-0.125052</td>\n",
       "      <td>NaN</td>\n",
       "      <td>NaN</td>\n",
       "      <td>-0.227570</td>\n",
       "      <td>NaN</td>\n",
       "      <td>NaN</td>\n",
       "      <td>-0.720625</td>\n",
       "      <td>-0.136388</td>\n",
       "      <td>-0.078816</td>\n",
       "      <td>0.317439</td>\n",
       "      <td>-0.139396</td>\n",
       "      <td>-0.237693</td>\n",
       "      <td>-0.301664</td>\n",
       "      <td>-0.354973</td>\n",
       "      <td>0.775445</td>\n",
       "      <td>-0.250082</td>\n",
       "      <td>0.775445</td>\n",
       "      <td>-0.429950</td>\n",
       "      <td>-0.172424</td>\n",
       "      <td>0.775445</td>\n",
       "      <td>-0.492096</td>\n",
       "      <td>-0.173739</td>\n",
       "      <td>0.775445</td>\n",
       "      <td>-0.491014</td>\n",
       "      <td>-0.245285</td>\n",
       "      <td>0.775445</td>\n",
       "      <td>-0.433684</td>\n",
       "      <td>-0.120046</td>\n",
       "      <td>0.775445</td>\n",
       "      <td>-0.535889</td>\n",
       "      <td>-0.115306</td>\n",
       "      <td>0.775445</td>\n",
       "      <td>-0.539916</td>\n",
       "      <td>-0.016512</td>\n",
       "      <td>-0.060190</td>\n",
       "      <td>0.076478</td>\n",
       "      <td>-0.047621</td>\n",
       "      <td>-0.052375</td>\n",
       "      <td>-0.177412</td>\n",
       "      <td>0.297645</td>\n",
       "      <td>1.000000</td>\n",
       "      <td>-0.270408</td>\n",
       "      <td>-0.281182</td>\n",
       "      <td>-0.294613</td>\n",
       "      <td>-0.251602</td>\n",
       "      <td>-0.201453</td>\n",
       "      <td>-0.139025</td>\n",
       "    </tr>\n",
       "    <tr>\n",
       "      <th>AdditionalServices_1</th>\n",
       "      <td>0.006269</td>\n",
       "      <td>0.045201</td>\n",
       "      <td>NaN</td>\n",
       "      <td>NaN</td>\n",
       "      <td>-0.251687</td>\n",
       "      <td>NaN</td>\n",
       "      <td>NaN</td>\n",
       "      <td>0.010768</td>\n",
       "      <td>-0.023312</td>\n",
       "      <td>0.173543</td>\n",
       "      <td>0.022333</td>\n",
       "      <td>0.028553</td>\n",
       "      <td>-0.039693</td>\n",
       "      <td>0.072075</td>\n",
       "      <td>0.105076</td>\n",
       "      <td>-0.209686</td>\n",
       "      <td>0.256908</td>\n",
       "      <td>-0.209686</td>\n",
       "      <td>-0.093024</td>\n",
       "      <td>0.277366</td>\n",
       "      <td>-0.209686</td>\n",
       "      <td>-0.107805</td>\n",
       "      <td>0.347184</td>\n",
       "      <td>-0.209686</td>\n",
       "      <td>-0.180901</td>\n",
       "      <td>0.320022</td>\n",
       "      <td>-0.209686</td>\n",
       "      <td>-0.162187</td>\n",
       "      <td>0.345218</td>\n",
       "      <td>-0.209686</td>\n",
       "      <td>-0.169936</td>\n",
       "      <td>0.336822</td>\n",
       "      <td>-0.209686</td>\n",
       "      <td>-0.160692</td>\n",
       "      <td>0.286657</td>\n",
       "      <td>-0.135007</td>\n",
       "      <td>-0.205147</td>\n",
       "      <td>-0.058630</td>\n",
       "      <td>-0.062928</td>\n",
       "      <td>0.142121</td>\n",
       "      <td>-0.040376</td>\n",
       "      <td>-0.270408</td>\n",
       "      <td>1.000000</td>\n",
       "      <td>-0.165294</td>\n",
       "      <td>-0.173189</td>\n",
       "      <td>-0.147905</td>\n",
       "      <td>-0.118425</td>\n",
       "      <td>-0.081726</td>\n",
       "    </tr>\n",
       "    <tr>\n",
       "      <th>AdditionalServices_2</th>\n",
       "      <td>0.002740</td>\n",
       "      <td>0.052813</td>\n",
       "      <td>NaN</td>\n",
       "      <td>NaN</td>\n",
       "      <td>-0.106839</td>\n",
       "      <td>NaN</td>\n",
       "      <td>NaN</td>\n",
       "      <td>0.105490</td>\n",
       "      <td>-0.080653</td>\n",
       "      <td>0.087146</td>\n",
       "      <td>-0.035514</td>\n",
       "      <td>0.059673</td>\n",
       "      <td>0.000197</td>\n",
       "      <td>0.083580</td>\n",
       "      <td>0.101001</td>\n",
       "      <td>-0.218041</td>\n",
       "      <td>0.180564</td>\n",
       "      <td>-0.218041</td>\n",
       "      <td>-0.001001</td>\n",
       "      <td>0.183671</td>\n",
       "      <td>-0.218041</td>\n",
       "      <td>-0.002755</td>\n",
       "      <td>0.221610</td>\n",
       "      <td>-0.218041</td>\n",
       "      <td>-0.042445</td>\n",
       "      <td>0.207604</td>\n",
       "      <td>-0.218041</td>\n",
       "      <td>-0.030768</td>\n",
       "      <td>0.152324</td>\n",
       "      <td>-0.218041</td>\n",
       "      <td>0.031322</td>\n",
       "      <td>0.173625</td>\n",
       "      <td>-0.218041</td>\n",
       "      <td>0.010128</td>\n",
       "      <td>0.173978</td>\n",
       "      <td>-0.022742</td>\n",
       "      <td>-0.180826</td>\n",
       "      <td>-0.036338</td>\n",
       "      <td>-0.033380</td>\n",
       "      <td>0.107182</td>\n",
       "      <td>-0.052001</td>\n",
       "      <td>-0.281182</td>\n",
       "      <td>-0.165294</td>\n",
       "      <td>1.000000</td>\n",
       "      <td>-0.180090</td>\n",
       "      <td>-0.153799</td>\n",
       "      <td>-0.123144</td>\n",
       "      <td>-0.084983</td>\n",
       "    </tr>\n",
       "    <tr>\n",
       "      <th>AdditionalServices_3</th>\n",
       "      <td>-0.012187</td>\n",
       "      <td>0.042924</td>\n",
       "      <td>NaN</td>\n",
       "      <td>NaN</td>\n",
       "      <td>0.076070</td>\n",
       "      <td>NaN</td>\n",
       "      <td>NaN</td>\n",
       "      <td>0.221595</td>\n",
       "      <td>-0.032225</td>\n",
       "      <td>0.008198</td>\n",
       "      <td>-0.115186</td>\n",
       "      <td>0.057467</td>\n",
       "      <td>0.082126</td>\n",
       "      <td>0.074191</td>\n",
       "      <td>0.118630</td>\n",
       "      <td>-0.228456</td>\n",
       "      <td>0.085271</td>\n",
       "      <td>-0.228456</td>\n",
       "      <td>0.113850</td>\n",
       "      <td>0.035090</td>\n",
       "      <td>-0.228456</td>\n",
       "      <td>0.161375</td>\n",
       "      <td>0.049086</td>\n",
       "      <td>-0.228456</td>\n",
       "      <td>0.146853</td>\n",
       "      <td>0.100796</td>\n",
       "      <td>-0.228456</td>\n",
       "      <td>0.096340</td>\n",
       "      <td>0.019791</td>\n",
       "      <td>-0.228456</td>\n",
       "      <td>0.173560</td>\n",
       "      <td>0.004698</td>\n",
       "      <td>-0.228456</td>\n",
       "      <td>0.188440</td>\n",
       "      <td>0.009283</td>\n",
       "      <td>0.082330</td>\n",
       "      <td>-0.089129</td>\n",
       "      <td>0.010243</td>\n",
       "      <td>0.006041</td>\n",
       "      <td>0.071232</td>\n",
       "      <td>-0.096080</td>\n",
       "      <td>-0.294613</td>\n",
       "      <td>-0.173189</td>\n",
       "      <td>-0.180090</td>\n",
       "      <td>1.000000</td>\n",
       "      <td>-0.161145</td>\n",
       "      <td>-0.129025</td>\n",
       "      <td>-0.089042</td>\n",
       "    </tr>\n",
       "    <tr>\n",
       "      <th>AdditionalServices_4</th>\n",
       "      <td>-0.002567</td>\n",
       "      <td>0.041170</td>\n",
       "      <td>NaN</td>\n",
       "      <td>NaN</td>\n",
       "      <td>0.224247</td>\n",
       "      <td>NaN</td>\n",
       "      <td>NaN</td>\n",
       "      <td>0.283701</td>\n",
       "      <td>0.091158</td>\n",
       "      <td>-0.035595</td>\n",
       "      <td>-0.129924</td>\n",
       "      <td>0.019873</td>\n",
       "      <td>0.119549</td>\n",
       "      <td>0.060623</td>\n",
       "      <td>0.103931</td>\n",
       "      <td>-0.195104</td>\n",
       "      <td>0.016409</td>\n",
       "      <td>-0.195104</td>\n",
       "      <td>0.159603</td>\n",
       "      <td>-0.071568</td>\n",
       "      <td>-0.195104</td>\n",
       "      <td>0.243809</td>\n",
       "      <td>-0.136335</td>\n",
       "      <td>-0.195104</td>\n",
       "      <td>0.311667</td>\n",
       "      <td>-0.039306</td>\n",
       "      <td>-0.195104</td>\n",
       "      <td>0.220395</td>\n",
       "      <td>-0.133311</td>\n",
       "      <td>-0.195104</td>\n",
       "      <td>0.299437</td>\n",
       "      <td>-0.134383</td>\n",
       "      <td>-0.195104</td>\n",
       "      <td>0.299798</td>\n",
       "      <td>-0.159087</td>\n",
       "      <td>0.131480</td>\n",
       "      <td>0.060047</td>\n",
       "      <td>0.064430</td>\n",
       "      <td>0.036901</td>\n",
       "      <td>0.000833</td>\n",
       "      <td>-0.100538</td>\n",
       "      <td>-0.251602</td>\n",
       "      <td>-0.147905</td>\n",
       "      <td>-0.153799</td>\n",
       "      <td>-0.161145</td>\n",
       "      <td>1.000000</td>\n",
       "      <td>-0.110189</td>\n",
       "      <td>-0.076043</td>\n",
       "    </tr>\n",
       "    <tr>\n",
       "      <th>AdditionalServices_5</th>\n",
       "      <td>0.021033</td>\n",
       "      <td>-0.009295</td>\n",
       "      <td>NaN</td>\n",
       "      <td>NaN</td>\n",
       "      <td>0.276897</td>\n",
       "      <td>NaN</td>\n",
       "      <td>NaN</td>\n",
       "      <td>0.270635</td>\n",
       "      <td>0.157659</td>\n",
       "      <td>-0.094872</td>\n",
       "      <td>-0.123724</td>\n",
       "      <td>0.027630</td>\n",
       "      <td>0.108631</td>\n",
       "      <td>0.092790</td>\n",
       "      <td>0.040871</td>\n",
       "      <td>-0.156216</td>\n",
       "      <td>-0.119225</td>\n",
       "      <td>-0.156216</td>\n",
       "      <td>0.274141</td>\n",
       "      <td>-0.125126</td>\n",
       "      <td>-0.156216</td>\n",
       "      <td>0.266014</td>\n",
       "      <td>-0.201153</td>\n",
       "      <td>-0.156216</td>\n",
       "      <td>0.345667</td>\n",
       "      <td>-0.197242</td>\n",
       "      <td>-0.156216</td>\n",
       "      <td>0.359070</td>\n",
       "      <td>-0.175083</td>\n",
       "      <td>-0.156216</td>\n",
       "      <td>0.308552</td>\n",
       "      <td>-0.179577</td>\n",
       "      <td>-0.156216</td>\n",
       "      <td>0.312268</td>\n",
       "      <td>-0.227076</td>\n",
       "      <td>0.063414</td>\n",
       "      <td>0.203922</td>\n",
       "      <td>0.057615</td>\n",
       "      <td>0.094293</td>\n",
       "      <td>-0.048177</td>\n",
       "      <td>-0.094960</td>\n",
       "      <td>-0.201453</td>\n",
       "      <td>-0.118425</td>\n",
       "      <td>-0.123144</td>\n",
       "      <td>-0.129025</td>\n",
       "      <td>-0.110189</td>\n",
       "      <td>1.000000</td>\n",
       "      <td>-0.060886</td>\n",
       "    </tr>\n",
       "    <tr>\n",
       "      <th>AdditionalServices_6</th>\n",
       "      <td>0.010612</td>\n",
       "      <td>-0.013805</td>\n",
       "      <td>NaN</td>\n",
       "      <td>NaN</td>\n",
       "      <td>0.272441</td>\n",
       "      <td>NaN</td>\n",
       "      <td>NaN</td>\n",
       "      <td>0.235748</td>\n",
       "      <td>0.197890</td>\n",
       "      <td>-0.098679</td>\n",
       "      <td>-0.123794</td>\n",
       "      <td>-0.006103</td>\n",
       "      <td>0.128903</td>\n",
       "      <td>0.068956</td>\n",
       "      <td>0.023497</td>\n",
       "      <td>-0.107806</td>\n",
       "      <td>-0.203620</td>\n",
       "      <td>-0.107806</td>\n",
       "      <td>0.323351</td>\n",
       "      <td>-0.181127</td>\n",
       "      <td>-0.107806</td>\n",
       "      <td>0.282516</td>\n",
       "      <td>-0.181493</td>\n",
       "      <td>-0.107806</td>\n",
       "      <td>0.283138</td>\n",
       "      <td>-0.202179</td>\n",
       "      <td>-0.107806</td>\n",
       "      <td>0.320567</td>\n",
       "      <td>-0.167012</td>\n",
       "      <td>-0.107806</td>\n",
       "      <td>0.259429</td>\n",
       "      <td>-0.165778</td>\n",
       "      <td>-0.107806</td>\n",
       "      <td>0.257494</td>\n",
       "      <td>-0.213647</td>\n",
       "      <td>-0.039748</td>\n",
       "      <td>0.286440</td>\n",
       "      <td>0.074564</td>\n",
       "      <td>0.090536</td>\n",
       "      <td>-0.089201</td>\n",
       "      <td>-0.061853</td>\n",
       "      <td>-0.139025</td>\n",
       "      <td>-0.081726</td>\n",
       "      <td>-0.084983</td>\n",
       "      <td>-0.089042</td>\n",
       "      <td>-0.076043</td>\n",
       "      <td>-0.060886</td>\n",
       "      <td>1.000000</td>\n",
       "    </tr>\n",
       "  </tbody>\n",
       "</table>\n",
       "</div>"
      ],
      "text/plain": [
       "                                           gender  SeniorCitizen  Partner  \\\n",
       "gender                                   1.000000       0.001874      NaN   \n",
       "SeniorCitizen                            0.001874       1.000000      NaN   \n",
       "Partner                                       NaN            NaN      NaN   \n",
       "Dependents                                    NaN            NaN      NaN   \n",
       "tenure                                  -0.005106       0.016567      NaN   \n",
       "PhoneService                                  NaN            NaN      NaN   \n",
       "PaperlessBilling                              NaN            NaN      NaN   \n",
       "MonthlyCharges                           0.014569       0.220173      NaN   \n",
       "TotalCharges                             0.005291       0.037653      NaN   \n",
       "Churn                                    0.008612       0.150889      NaN   \n",
       "MultipleLines_No                        -0.004476      -0.136213      NaN   \n",
       "MultipleLines_No phone service          -0.006488      -0.008576      NaN   \n",
       "MultipleLines_Yes                        0.008414       0.142948      NaN   \n",
       "InternetService_DSL                     -0.006568      -0.108322      NaN   \n",
       "InternetService_Fiber optic              0.011286       0.255338      NaN   \n",
       "InternetService_No                      -0.006026      -0.182742      NaN   \n",
       "OnlineSecurity_No                       -0.010429       0.185532      NaN   \n",
       "OnlineSecurity_No internet service      -0.006026      -0.182742      NaN   \n",
       "OnlineSecurity_Yes                       0.017021      -0.038653      NaN   \n",
       "OnlineBackup_No                         -0.008191       0.087952      NaN   \n",
       "OnlineBackup_No internet service        -0.006026      -0.182742      NaN   \n",
       "OnlineBackup_Yes                         0.013773       0.066572      NaN   \n",
       "DeviceProtection_No                      0.002988       0.094810      NaN   \n",
       "DeviceProtection_No internet service    -0.006026      -0.182742      NaN   \n",
       "DeviceProtection_Yes                     0.002105       0.059428      NaN   \n",
       "TechSupport_No                          -0.003397       0.205620      NaN   \n",
       "TechSupport_No internet service         -0.006026      -0.182742      NaN   \n",
       "TechSupport_Yes                          0.009212      -0.060625      NaN   \n",
       "StreamingTV_No                          -0.003267       0.049062      NaN   \n",
       "StreamingTV_No internet service         -0.006026      -0.182742      NaN   \n",
       "StreamingTV_Yes                          0.008393       0.105378      NaN   \n",
       "StreamingMovies_No                      -0.005374       0.034210      NaN   \n",
       "StreamingMovies_No internet service     -0.006026      -0.182742      NaN   \n",
       "StreamingMovies_Yes                      0.010487       0.120176      NaN   \n",
       "Contract_Month-to-month                  0.003386       0.138360      NaN   \n",
       "Contract_One year                       -0.008026      -0.046262      NaN   \n",
       "Contract_Two year                        0.003695      -0.117000      NaN   \n",
       "PaymentMethod_Bank transfer (automatic)  0.016024      -0.016159      NaN   \n",
       "PaymentMethod_Credit card (automatic)   -0.001215      -0.024135      NaN   \n",
       "PaymentMethod_Electronic check          -0.000752       0.171718      NaN   \n",
       "PaymentMethod_Mailed check              -0.013744      -0.153477      NaN   \n",
       "AdditionalServices_0                    -0.012193      -0.125052      NaN   \n",
       "AdditionalServices_1                     0.006269       0.045201      NaN   \n",
       "AdditionalServices_2                     0.002740       0.052813      NaN   \n",
       "AdditionalServices_3                    -0.012187       0.042924      NaN   \n",
       "AdditionalServices_4                    -0.002567       0.041170      NaN   \n",
       "AdditionalServices_5                     0.021033      -0.009295      NaN   \n",
       "AdditionalServices_6                     0.010612      -0.013805      NaN   \n",
       "\n",
       "                                         Dependents    tenure  PhoneService  \\\n",
       "gender                                          NaN -0.005106           NaN   \n",
       "SeniorCitizen                                   NaN  0.016567           NaN   \n",
       "Partner                                         NaN       NaN           NaN   \n",
       "Dependents                                      NaN       NaN           NaN   \n",
       "tenure                                          NaN  1.000000           NaN   \n",
       "PhoneService                                    NaN       NaN           NaN   \n",
       "PaperlessBilling                                NaN       NaN           NaN   \n",
       "MonthlyCharges                                  NaN  0.247900           NaN   \n",
       "TotalCharges                                    NaN  0.158523           NaN   \n",
       "Churn                                           NaN -0.352229           NaN   \n",
       "MultipleLines_No                                NaN -0.323088           NaN   \n",
       "MultipleLines_No phone service                  NaN -0.008448           NaN   \n",
       "MultipleLines_Yes                               NaN  0.331941           NaN   \n",
       "InternetService_DSL                             NaN  0.013274           NaN   \n",
       "InternetService_Fiber optic                     NaN  0.019720           NaN   \n",
       "InternetService_No                              NaN -0.039062           NaN   \n",
       "OnlineSecurity_No                               NaN -0.263746           NaN   \n",
       "OnlineSecurity_No internet service              NaN -0.039062           NaN   \n",
       "OnlineSecurity_Yes                              NaN  0.327203           NaN   \n",
       "OnlineBackup_No                                 NaN -0.312694           NaN   \n",
       "OnlineBackup_No internet service                NaN -0.039062           NaN   \n",
       "OnlineBackup_Yes                                NaN  0.360277           NaN   \n",
       "DeviceProtection_No                             NaN -0.312740           NaN   \n",
       "DeviceProtection_No internet service            NaN -0.039062           NaN   \n",
       "DeviceProtection_Yes                            NaN  0.360653           NaN   \n",
       "TechSupport_No                                  NaN -0.262143           NaN   \n",
       "TechSupport_No internet service                 NaN -0.039062           NaN   \n",
       "TechSupport_Yes                                 NaN  0.324221           NaN   \n",
       "StreamingTV_No                                  NaN -0.245039           NaN   \n",
       "StreamingTV_No internet service                 NaN -0.039062           NaN   \n",
       "StreamingTV_Yes                                 NaN  0.279756           NaN   \n",
       "StreamingMovies_No                              NaN -0.252220           NaN   \n",
       "StreamingMovies_No internet service             NaN -0.039062           NaN   \n",
       "StreamingMovies_Yes                             NaN  0.286111           NaN   \n",
       "Contract_Month-to-month                         NaN -0.645561           NaN   \n",
       "Contract_One year                               NaN  0.202570           NaN   \n",
       "Contract_Two year                               NaN  0.558533           NaN   \n",
       "PaymentMethod_Bank transfer (automatic)         NaN  0.243510           NaN   \n",
       "PaymentMethod_Credit card (automatic)           NaN  0.233006           NaN   \n",
       "PaymentMethod_Electronic check                  NaN -0.208363           NaN   \n",
       "PaymentMethod_Mailed check                      NaN -0.233852           NaN   \n",
       "AdditionalServices_0                            NaN -0.227570           NaN   \n",
       "AdditionalServices_1                            NaN -0.251687           NaN   \n",
       "AdditionalServices_2                            NaN -0.106839           NaN   \n",
       "AdditionalServices_3                            NaN  0.076070           NaN   \n",
       "AdditionalServices_4                            NaN  0.224247           NaN   \n",
       "AdditionalServices_5                            NaN  0.276897           NaN   \n",
       "AdditionalServices_6                            NaN  0.272441           NaN   \n",
       "\n",
       "                                         PaperlessBilling  MonthlyCharges  \\\n",
       "gender                                                NaN        0.014569   \n",
       "SeniorCitizen                                         NaN        0.220173   \n",
       "Partner                                               NaN             NaN   \n",
       "Dependents                                            NaN             NaN   \n",
       "tenure                                                NaN        0.247900   \n",
       "PhoneService                                          NaN             NaN   \n",
       "PaperlessBilling                                      NaN             NaN   \n",
       "MonthlyCharges                                        NaN        1.000000   \n",
       "TotalCharges                                          NaN        0.279875   \n",
       "Churn                                                 NaN        0.193356   \n",
       "MultipleLines_No                                      NaN       -0.338314   \n",
       "MultipleLines_No phone service                        NaN       -0.247398   \n",
       "MultipleLines_Yes                                     NaN        0.490434   \n",
       "InternetService_DSL                                   NaN       -0.160189   \n",
       "InternetService_Fiber optic                           NaN        0.787066   \n",
       "InternetService_No                                    NaN       -0.763557   \n",
       "OnlineSecurity_No                                     NaN        0.360898   \n",
       "OnlineSecurity_No internet service                    NaN       -0.763557   \n",
       "OnlineSecurity_Yes                                    NaN        0.296594   \n",
       "OnlineBackup_No                                       NaN        0.210753   \n",
       "OnlineBackup_No internet service                      NaN       -0.763557   \n",
       "OnlineBackup_Yes                                      NaN        0.441780   \n",
       "DeviceProtection_No                                   NaN        0.171836   \n",
       "DeviceProtection_No internet service                  NaN       -0.763557   \n",
       "DeviceProtection_Yes                                  NaN        0.482692   \n",
       "TechSupport_No                                        NaN        0.322076   \n",
       "TechSupport_No internet service                       NaN       -0.763557   \n",
       "TechSupport_Yes                                       NaN        0.338304   \n",
       "StreamingTV_No                                        NaN        0.016951   \n",
       "StreamingTV_No internet service                       NaN       -0.763557   \n",
       "StreamingTV_Yes                                       NaN        0.629603   \n",
       "StreamingMovies_No                                    NaN        0.018075   \n",
       "StreamingMovies_No internet service                   NaN       -0.763557   \n",
       "StreamingMovies_Yes                                   NaN        0.627429   \n",
       "Contract_Month-to-month                               NaN        0.060165   \n",
       "Contract_One year                                     NaN        0.004904   \n",
       "Contract_Two year                                     NaN       -0.074681   \n",
       "PaymentMethod_Bank transfer (automatic)               NaN        0.042812   \n",
       "PaymentMethod_Credit card (automatic)                 NaN        0.030550   \n",
       "PaymentMethod_Electronic check                        NaN        0.271625   \n",
       "PaymentMethod_Mailed check                            NaN       -0.377437   \n",
       "AdditionalServices_0                                  NaN       -0.720625   \n",
       "AdditionalServices_1                                  NaN        0.010768   \n",
       "AdditionalServices_2                                  NaN        0.105490   \n",
       "AdditionalServices_3                                  NaN        0.221595   \n",
       "AdditionalServices_4                                  NaN        0.283701   \n",
       "AdditionalServices_5                                  NaN        0.270635   \n",
       "AdditionalServices_6                                  NaN        0.235748   \n",
       "\n",
       "                                         TotalCharges     Churn  \\\n",
       "gender                                       0.005291  0.008612   \n",
       "SeniorCitizen                                0.037653  0.150889   \n",
       "Partner                                           NaN       NaN   \n",
       "Dependents                                        NaN       NaN   \n",
       "tenure                                       0.158523 -0.352229   \n",
       "PhoneService                                      NaN       NaN   \n",
       "PaperlessBilling                                  NaN       NaN   \n",
       "MonthlyCharges                               0.279875  0.193356   \n",
       "TotalCharges                                 1.000000  0.014479   \n",
       "Churn                                        0.014479  1.000000   \n",
       "MultipleLines_No                            -0.084489 -0.032569   \n",
       "MultipleLines_No phone service              -0.083195 -0.011942   \n",
       "MultipleLines_Yes                            0.135300  0.040102   \n",
       "InternetService_DSL                         -0.062411 -0.124214   \n",
       "InternetService_Fiber optic                  0.202272  0.308020   \n",
       "InternetService_No                          -0.171740 -0.227890   \n",
       "OnlineSecurity_No                            0.034335  0.342637   \n",
       "OnlineSecurity_No internet service          -0.171740 -0.227890   \n",
       "OnlineSecurity_Yes                           0.118498 -0.171226   \n",
       "OnlineBackup_No                             -0.009192  0.268005   \n",
       "OnlineBackup_No internet service            -0.171740 -0.227890   \n",
       "OnlineBackup_Yes                             0.158445 -0.082255   \n",
       "DeviceProtection_No                         -0.022598  0.252481   \n",
       "DeviceProtection_No internet service        -0.171740 -0.227890   \n",
       "DeviceProtection_Yes                         0.172564 -0.066160   \n",
       "TechSupport_No                               0.021230  0.337281   \n",
       "TechSupport_No internet service             -0.171740 -0.227890   \n",
       "TechSupport_Yes                              0.132505 -0.164674   \n",
       "StreamingTV_No                              -0.052607  0.128916   \n",
       "StreamingTV_No internet service             -0.171740 -0.227890   \n",
       "StreamingTV_Yes                              0.198408  0.063228   \n",
       "StreamingMovies_No                          -0.059210  0.130845   \n",
       "StreamingMovies_No internet service         -0.171740 -0.227890   \n",
       "StreamingMovies_Yes                          0.204614  0.061382   \n",
       "Contract_Month-to-month                     -0.106009  0.405103   \n",
       "Contract_One year                            0.041687 -0.177820   \n",
       "Contract_Two year                            0.083705 -0.302253   \n",
       "PaymentMethod_Bank transfer (automatic)      0.025206 -0.117937   \n",
       "PaymentMethod_Credit card (automatic)        0.025894 -0.134302   \n",
       "PaymentMethod_Electronic check               0.041220  0.301919   \n",
       "PaymentMethod_Mailed check                  -0.096529 -0.091683   \n",
       "AdditionalServices_0                        -0.136388 -0.078816   \n",
       "AdditionalServices_1                        -0.023312  0.173543   \n",
       "AdditionalServices_2                        -0.080653  0.087146   \n",
       "AdditionalServices_3                        -0.032225  0.008198   \n",
       "AdditionalServices_4                         0.091158 -0.035595   \n",
       "AdditionalServices_5                         0.157659 -0.094872   \n",
       "AdditionalServices_6                         0.197890 -0.098679   \n",
       "\n",
       "                                         MultipleLines_No  \\\n",
       "gender                                          -0.004476   \n",
       "SeniorCitizen                                   -0.136213   \n",
       "Partner                                               NaN   \n",
       "Dependents                                            NaN   \n",
       "tenure                                          -0.323088   \n",
       "PhoneService                                          NaN   \n",
       "PaperlessBilling                                      NaN   \n",
       "MonthlyCharges                                  -0.338314   \n",
       "TotalCharges                                    -0.084489   \n",
       "Churn                                           -0.032569   \n",
       "MultipleLines_No                                 1.000000   \n",
       "MultipleLines_No phone service                  -0.315431   \n",
       "MultipleLines_Yes                               -0.822853   \n",
       "InternetService_DSL                             -0.070179   \n",
       "InternetService_Fiber optic                     -0.190192   \n",
       "InternetService_No                               0.310046   \n",
       "OnlineSecurity_No                               -0.118040   \n",
       "OnlineSecurity_No internet service               0.310046   \n",
       "OnlineSecurity_Yes                              -0.151950   \n",
       "OnlineBackup_No                                 -0.036277   \n",
       "OnlineBackup_No internet service                 0.310046   \n",
       "OnlineBackup_Yes                                -0.230852   \n",
       "DeviceProtection_No                             -0.026746   \n",
       "DeviceProtection_No internet service             0.310046   \n",
       "DeviceProtection_Yes                            -0.240960   \n",
       "TechSupport_No                                  -0.113482   \n",
       "TechSupport_No internet service                  0.310046   \n",
       "TechSupport_Yes                                 -0.156425   \n",
       "StreamingTV_No                                   0.004913   \n",
       "StreamingTV_No internet service                  0.310046   \n",
       "StreamingTV_Yes                                 -0.267528   \n",
       "StreamingMovies_No                               0.013076   \n",
       "StreamingMovies_No internet service              0.310046   \n",
       "StreamingMovies_Yes                             -0.275256   \n",
       "Contract_Month-to-month                          0.086740   \n",
       "Contract_One year                                0.002098   \n",
       "Contract_Two year                               -0.102937   \n",
       "PaymentMethod_Bank transfer (automatic)         -0.070178   \n",
       "PaymentMethod_Credit card (automatic)           -0.063921   \n",
       "PaymentMethod_Electronic check                  -0.080836   \n",
       "PaymentMethod_Mailed check                       0.222605   \n",
       "AdditionalServices_0                             0.317439   \n",
       "AdditionalServices_1                             0.022333   \n",
       "AdditionalServices_2                            -0.035514   \n",
       "AdditionalServices_3                            -0.115186   \n",
       "AdditionalServices_4                            -0.129924   \n",
       "AdditionalServices_5                            -0.123724   \n",
       "AdditionalServices_6                            -0.123794   \n",
       "\n",
       "                                         MultipleLines_No phone service  \\\n",
       "gender                                                        -0.006488   \n",
       "SeniorCitizen                                                 -0.008576   \n",
       "Partner                                                             NaN   \n",
       "Dependents                                                          NaN   \n",
       "tenure                                                        -0.008448   \n",
       "PhoneService                                                        NaN   \n",
       "PaperlessBilling                                                    NaN   \n",
       "MonthlyCharges                                                -0.247398   \n",
       "TotalCharges                                                  -0.083195   \n",
       "Churn                                                         -0.011942   \n",
       "MultipleLines_No                                              -0.315431   \n",
       "MultipleLines_No phone service                                 1.000000   \n",
       "MultipleLines_Yes                                             -0.279690   \n",
       "InternetService_DSL                                            0.452425   \n",
       "InternetService_Fiber optic                                   -0.289999   \n",
       "InternetService_No                                            -0.172209   \n",
       "OnlineSecurity_No                                              0.057880   \n",
       "OnlineSecurity_No internet service                            -0.172209   \n",
       "OnlineSecurity_Yes                                             0.092893   \n",
       "OnlineBackup_No                                                0.092867   \n",
       "OnlineBackup_No internet service                              -0.172209   \n",
       "OnlineBackup_Yes                                               0.052312   \n",
       "DeviceProtection_No                                            0.074776   \n",
       "DeviceProtection_No internet service                          -0.172209   \n",
       "DeviceProtection_Yes                                           0.071227   \n",
       "TechSupport_No                                                 0.054447   \n",
       "TechSupport_No internet service                               -0.172209   \n",
       "TechSupport_Yes                                                0.096340   \n",
       "StreamingTV_No                                                 0.122455   \n",
       "StreamingTV_No internet service                               -0.172209   \n",
       "StreamingTV_Yes                                                0.022574   \n",
       "StreamingMovies_No                                             0.112254   \n",
       "StreamingMovies_No internet service                           -0.172209   \n",
       "StreamingMovies_Yes                                            0.032959   \n",
       "Contract_Month-to-month                                        0.000742   \n",
       "Contract_One year                                              0.002791   \n",
       "Contract_Two year                                             -0.003519   \n",
       "PaymentMethod_Bank transfer (automatic)                       -0.007556   \n",
       "PaymentMethod_Credit card (automatic)                          0.007721   \n",
       "PaymentMethod_Electronic check                                -0.003062   \n",
       "PaymentMethod_Mailed check                                     0.003319   \n",
       "AdditionalServices_0                                          -0.139396   \n",
       "AdditionalServices_1                                           0.028553   \n",
       "AdditionalServices_2                                           0.059673   \n",
       "AdditionalServices_3                                           0.057467   \n",
       "AdditionalServices_4                                           0.019873   \n",
       "AdditionalServices_5                                           0.027630   \n",
       "AdditionalServices_6                                          -0.006103   \n",
       "\n",
       "                                         MultipleLines_Yes  \\\n",
       "gender                                            0.008414   \n",
       "SeniorCitizen                                     0.142948   \n",
       "Partner                                                NaN   \n",
       "Dependents                                             NaN   \n",
       "tenure                                            0.331941   \n",
       "PhoneService                                           NaN   \n",
       "PaperlessBilling                                       NaN   \n",
       "MonthlyCharges                                    0.490434   \n",
       "TotalCharges                                      0.135300   \n",
       "Churn                                             0.040102   \n",
       "MultipleLines_No                                 -0.822853   \n",
       "MultipleLines_No phone service                   -0.279690   \n",
       "MultipleLines_Yes                                 1.000000   \n",
       "InternetService_DSL                              -0.199920   \n",
       "InternetService_Fiber optic                       0.366083   \n",
       "InternetService_No                               -0.210564   \n",
       "OnlineSecurity_No                                 0.084766   \n",
       "OnlineSecurity_No internet service               -0.210564   \n",
       "OnlineSecurity_Yes                                0.098108   \n",
       "OnlineBackup_No                                  -0.018908   \n",
       "OnlineBackup_No internet service                 -0.210564   \n",
       "OnlineBackup_Yes                                  0.202237   \n",
       "DeviceProtection_No                              -0.017718   \n",
       "DeviceProtection_No internet service             -0.210564   \n",
       "DeviceProtection_Yes                              0.201137   \n",
       "TechSupport_No                                    0.082211   \n",
       "TechSupport_No internet service                  -0.210564   \n",
       "TechSupport_Yes                                   0.100571   \n",
       "StreamingTV_No                                   -0.078300   \n",
       "StreamingTV_No internet service                  -0.210564   \n",
       "StreamingTV_Yes                                   0.257152   \n",
       "StreamingMovies_No                               -0.080450   \n",
       "StreamingMovies_No internet service              -0.210564   \n",
       "StreamingMovies_Yes                               0.258751   \n",
       "Contract_Month-to-month                          -0.088203   \n",
       "Contract_One year                                -0.003794   \n",
       "Contract_Two year                                 0.106253   \n",
       "PaymentMethod_Bank transfer (automatic)           0.075527   \n",
       "PaymentMethod_Credit card (automatic)             0.060048   \n",
       "PaymentMethod_Electronic check                    0.083618   \n",
       "PaymentMethod_Mailed check                       -0.227206   \n",
       "AdditionalServices_0                             -0.237693   \n",
       "AdditionalServices_1                             -0.039693   \n",
       "AdditionalServices_2                              0.000197   \n",
       "AdditionalServices_3                              0.082126   \n",
       "AdditionalServices_4                              0.119549   \n",
       "AdditionalServices_5                              0.108631   \n",
       "AdditionalServices_6                              0.128903   \n",
       "\n",
       "                                         InternetService_DSL  \\\n",
       "gender                                             -0.006568   \n",
       "SeniorCitizen                                      -0.108322   \n",
       "Partner                                                  NaN   \n",
       "Dependents                                               NaN   \n",
       "tenure                                              0.013274   \n",
       "PhoneService                                             NaN   \n",
       "PaperlessBilling                                         NaN   \n",
       "MonthlyCharges                                     -0.160189   \n",
       "TotalCharges                                       -0.062411   \n",
       "Churn                                              -0.124214   \n",
       "MultipleLines_No                                   -0.070179   \n",
       "MultipleLines_No phone service                      0.452425   \n",
       "MultipleLines_Yes                                  -0.199920   \n",
       "InternetService_DSL                                 1.000000   \n",
       "InternetService_Fiber optic                        -0.640987   \n",
       "InternetService_No                                 -0.380635   \n",
       "OnlineSecurity_No                                   0.023066   \n",
       "OnlineSecurity_No internet service                 -0.380635   \n",
       "OnlineSecurity_Yes                                  0.321269   \n",
       "OnlineBackup_No                                     0.164783   \n",
       "OnlineBackup_No internet service                   -0.380635   \n",
       "OnlineBackup_Yes                                    0.157884   \n",
       "DeviceProtection_No                                 0.175942   \n",
       "DeviceProtection_No internet service               -0.380635   \n",
       "DeviceProtection_Yes                                0.146291   \n",
       "TechSupport_No                                      0.029402   \n",
       "TechSupport_No internet service                    -0.380635   \n",
       "TechSupport_Yes                                     0.313118   \n",
       "StreamingTV_No                                      0.304062   \n",
       "StreamingTV_No internet service                    -0.380635   \n",
       "StreamingTV_Yes                                     0.016274   \n",
       "StreamingMovies_No                                  0.295107   \n",
       "StreamingMovies_No internet service                -0.380635   \n",
       "StreamingMovies_Yes                                 0.025698   \n",
       "Contract_Month-to-month                            -0.065509   \n",
       "Contract_One year                                   0.046795   \n",
       "Contract_Two year                                   0.031714   \n",
       "PaymentMethod_Bank transfer (automatic)             0.025476   \n",
       "PaymentMethod_Credit card (automatic)               0.051438   \n",
       "PaymentMethod_Electronic check                     -0.104418   \n",
       "PaymentMethod_Mailed check                          0.041899   \n",
       "AdditionalServices_0                               -0.301664   \n",
       "AdditionalServices_1                                0.072075   \n",
       "AdditionalServices_2                                0.083580   \n",
       "AdditionalServices_3                                0.074191   \n",
       "AdditionalServices_4                                0.060623   \n",
       "AdditionalServices_5                                0.092790   \n",
       "AdditionalServices_6                                0.068956   \n",
       "\n",
       "                                         InternetService_Fiber optic  \\\n",
       "gender                                                      0.011286   \n",
       "SeniorCitizen                                               0.255338   \n",
       "Partner                                                          NaN   \n",
       "Dependents                                                       NaN   \n",
       "tenure                                                      0.019720   \n",
       "PhoneService                                                     NaN   \n",
       "PaperlessBilling                                                 NaN   \n",
       "MonthlyCharges                                              0.787066   \n",
       "TotalCharges                                                0.202272   \n",
       "Churn                                                       0.308020   \n",
       "MultipleLines_No                                           -0.190192   \n",
       "MultipleLines_No phone service                             -0.289999   \n",
       "MultipleLines_Yes                                           0.366083   \n",
       "InternetService_DSL                                        -0.640987   \n",
       "InternetService_Fiber optic                                 1.000000   \n",
       "InternetService_No                                         -0.465793   \n",
       "OnlineSecurity_No                                           0.411561   \n",
       "OnlineSecurity_No internet service                         -0.465793   \n",
       "OnlineSecurity_Yes                                         -0.030696   \n",
       "OnlineBackup_No                                             0.228047   \n",
       "OnlineBackup_No internet service                           -0.465793   \n",
       "OnlineBackup_Yes                                            0.165651   \n",
       "DeviceProtection_No                                         0.218148   \n",
       "DeviceProtection_No internet service                       -0.465793   \n",
       "DeviceProtection_Yes                                        0.176049   \n",
       "TechSupport_No                                              0.402430   \n",
       "TechSupport_No internet service                            -0.465793   \n",
       "TechSupport_Yes                                            -0.020492   \n",
       "StreamingTV_No                                              0.064707   \n",
       "StreamingTV_No internet service                            -0.465793   \n",
       "StreamingTV_Yes                                             0.329349   \n",
       "StreamingMovies_No                                          0.070650   \n",
       "StreamingMovies_No internet service                        -0.465793   \n",
       "StreamingMovies_Yes                                         0.322923   \n",
       "Contract_Month-to-month                                     0.244164   \n",
       "Contract_One year                                          -0.076324   \n",
       "Contract_Two year                                          -0.211526   \n",
       "PaymentMethod_Bank transfer (automatic)                    -0.022624   \n",
       "PaymentMethod_Credit card (automatic)                      -0.050077   \n",
       "PaymentMethod_Electronic check                              0.336410   \n",
       "PaymentMethod_Mailed check                                 -0.306834   \n",
       "AdditionalServices_0                                       -0.354973   \n",
       "AdditionalServices_1                                        0.105076   \n",
       "AdditionalServices_2                                        0.101001   \n",
       "AdditionalServices_3                                        0.118630   \n",
       "AdditionalServices_4                                        0.103931   \n",
       "AdditionalServices_5                                        0.040871   \n",
       "AdditionalServices_6                                        0.023497   \n",
       "\n",
       "                                         InternetService_No  \\\n",
       "gender                                            -0.006026   \n",
       "SeniorCitizen                                     -0.182742   \n",
       "Partner                                                 NaN   \n",
       "Dependents                                              NaN   \n",
       "tenure                                            -0.039062   \n",
       "PhoneService                                            NaN   \n",
       "PaperlessBilling                                        NaN   \n",
       "MonthlyCharges                                    -0.763557   \n",
       "TotalCharges                                      -0.171740   \n",
       "Churn                                             -0.227890   \n",
       "MultipleLines_No                                   0.310046   \n",
       "MultipleLines_No phone service                    -0.172209   \n",
       "MultipleLines_Yes                                 -0.210564   \n",
       "InternetService_DSL                               -0.380635   \n",
       "InternetService_Fiber optic                       -0.465793   \n",
       "InternetService_No                                 1.000000   \n",
       "OnlineSecurity_No                                 -0.522429   \n",
       "OnlineSecurity_No internet service                 1.000000   \n",
       "OnlineSecurity_Yes                                -0.333403   \n",
       "OnlineBackup_No                                   -0.464720   \n",
       "OnlineBackup_No internet service                   1.000000   \n",
       "OnlineBackup_Yes                                  -0.381593   \n",
       "DeviceProtection_No                               -0.465658   \n",
       "DeviceProtection_No internet service               1.000000   \n",
       "DeviceProtection_Yes                              -0.380754   \n",
       "TechSupport_No                                    -0.518733   \n",
       "TechSupport_No internet service                    1.000000   \n",
       "TechSupport_Yes                                   -0.336298   \n",
       "StreamingTV_No                                    -0.428504   \n",
       "StreamingTV_No internet service                    1.000000   \n",
       "StreamingTV_Yes                                   -0.415552   \n",
       "StreamingMovies_No                                -0.425339   \n",
       "StreamingMovies_No internet service                1.000000   \n",
       "StreamingMovies_Yes                               -0.418675   \n",
       "Contract_Month-to-month                           -0.218639   \n",
       "Contract_One year                                  0.038004   \n",
       "Contract_Two year                                  0.218278   \n",
       "PaymentMethod_Bank transfer (automatic)           -0.002113   \n",
       "PaymentMethod_Credit card (automatic)              0.001030   \n",
       "PaymentMethod_Electronic check                    -0.284917   \n",
       "PaymentMethod_Mailed check                         0.321361   \n",
       "AdditionalServices_0                               0.775445   \n",
       "AdditionalServices_1                              -0.209686   \n",
       "AdditionalServices_2                              -0.218041   \n",
       "AdditionalServices_3                              -0.228456   \n",
       "AdditionalServices_4                              -0.195104   \n",
       "AdditionalServices_5                              -0.156216   \n",
       "AdditionalServices_6                              -0.107806   \n",
       "\n",
       "                                         OnlineSecurity_No  \\\n",
       "gender                                           -0.010429   \n",
       "SeniorCitizen                                     0.185532   \n",
       "Partner                                                NaN   \n",
       "Dependents                                             NaN   \n",
       "tenure                                           -0.263746   \n",
       "PhoneService                                           NaN   \n",
       "PaperlessBilling                                       NaN   \n",
       "MonthlyCharges                                    0.360898   \n",
       "TotalCharges                                      0.034335   \n",
       "Churn                                             0.342637   \n",
       "MultipleLines_No                                 -0.118040   \n",
       "MultipleLines_No phone service                    0.057880   \n",
       "MultipleLines_Yes                                 0.084766   \n",
       "InternetService_DSL                               0.023066   \n",
       "InternetService_Fiber optic                       0.411561   \n",
       "InternetService_No                               -0.522429   \n",
       "OnlineSecurity_No                                 1.000000   \n",
       "OnlineSecurity_No internet service               -0.522429   \n",
       "OnlineSecurity_Yes                               -0.629717   \n",
       "OnlineBackup_No                                   0.378468   \n",
       "OnlineBackup_No internet service                 -0.522429   \n",
       "OnlineBackup_Yes                                  0.057715   \n",
       "DeviceProtection_No                               0.371808   \n",
       "DeviceProtection_No internet service             -0.522429   \n",
       "DeviceProtection_Yes                              0.064615   \n",
       "TechSupport_No                                    0.470359   \n",
       "TechSupport_No internet service                  -0.522429   \n",
       "TechSupport_Yes                                  -0.043911   \n",
       "StreamingTV_No                                    0.257699   \n",
       "StreamingTV_No internet service                  -0.522429   \n",
       "StreamingTV_Yes                                   0.183035   \n",
       "StreamingMovies_No                                0.265304   \n",
       "StreamingMovies_No internet service              -0.522429   \n",
       "StreamingMovies_Yes                               0.175487   \n",
       "Contract_Month-to-month                           0.403255   \n",
       "Contract_One year                                -0.121904   \n",
       "Contract_Two year                                -0.353300   \n",
       "PaymentMethod_Bank transfer (automatic)          -0.084322   \n",
       "PaymentMethod_Credit card (automatic)            -0.105510   \n",
       "PaymentMethod_Electronic check                    0.336364   \n",
       "PaymentMethod_Mailed check                       -0.191715   \n",
       "AdditionalServices_0                             -0.250082   \n",
       "AdditionalServices_1                              0.256908   \n",
       "AdditionalServices_2                              0.180564   \n",
       "AdditionalServices_3                              0.085271   \n",
       "AdditionalServices_4                              0.016409   \n",
       "AdditionalServices_5                             -0.119225   \n",
       "AdditionalServices_6                             -0.203620   \n",
       "\n",
       "                                         OnlineSecurity_No internet service  \\\n",
       "gender                                                            -0.006026   \n",
       "SeniorCitizen                                                     -0.182742   \n",
       "Partner                                                                 NaN   \n",
       "Dependents                                                              NaN   \n",
       "tenure                                                            -0.039062   \n",
       "PhoneService                                                            NaN   \n",
       "PaperlessBilling                                                        NaN   \n",
       "MonthlyCharges                                                    -0.763557   \n",
       "TotalCharges                                                      -0.171740   \n",
       "Churn                                                             -0.227890   \n",
       "MultipleLines_No                                                   0.310046   \n",
       "MultipleLines_No phone service                                    -0.172209   \n",
       "MultipleLines_Yes                                                 -0.210564   \n",
       "InternetService_DSL                                               -0.380635   \n",
       "InternetService_Fiber optic                                       -0.465793   \n",
       "InternetService_No                                                 1.000000   \n",
       "OnlineSecurity_No                                                 -0.522429   \n",
       "OnlineSecurity_No internet service                                 1.000000   \n",
       "OnlineSecurity_Yes                                                -0.333403   \n",
       "OnlineBackup_No                                                   -0.464720   \n",
       "OnlineBackup_No internet service                                   1.000000   \n",
       "OnlineBackup_Yes                                                  -0.381593   \n",
       "DeviceProtection_No                                               -0.465658   \n",
       "DeviceProtection_No internet service                               1.000000   \n",
       "DeviceProtection_Yes                                              -0.380754   \n",
       "TechSupport_No                                                    -0.518733   \n",
       "TechSupport_No internet service                                    1.000000   \n",
       "TechSupport_Yes                                                   -0.336298   \n",
       "StreamingTV_No                                                    -0.428504   \n",
       "StreamingTV_No internet service                                    1.000000   \n",
       "StreamingTV_Yes                                                   -0.415552   \n",
       "StreamingMovies_No                                                -0.425339   \n",
       "StreamingMovies_No internet service                                1.000000   \n",
       "StreamingMovies_Yes                                               -0.418675   \n",
       "Contract_Month-to-month                                           -0.218639   \n",
       "Contract_One year                                                  0.038004   \n",
       "Contract_Two year                                                  0.218278   \n",
       "PaymentMethod_Bank transfer (automatic)                           -0.002113   \n",
       "PaymentMethod_Credit card (automatic)                              0.001030   \n",
       "PaymentMethod_Electronic check                                    -0.284917   \n",
       "PaymentMethod_Mailed check                                         0.321361   \n",
       "AdditionalServices_0                                               0.775445   \n",
       "AdditionalServices_1                                              -0.209686   \n",
       "AdditionalServices_2                                              -0.218041   \n",
       "AdditionalServices_3                                              -0.228456   \n",
       "AdditionalServices_4                                              -0.195104   \n",
       "AdditionalServices_5                                              -0.156216   \n",
       "AdditionalServices_6                                              -0.107806   \n",
       "\n",
       "                                         OnlineSecurity_Yes  OnlineBackup_No  \\\n",
       "gender                                             0.017021        -0.008191   \n",
       "SeniorCitizen                                     -0.038653         0.087952   \n",
       "Partner                                                 NaN              NaN   \n",
       "Dependents                                              NaN              NaN   \n",
       "tenure                                             0.327203        -0.312694   \n",
       "PhoneService                                            NaN              NaN   \n",
       "PaperlessBilling                                        NaN              NaN   \n",
       "MonthlyCharges                                     0.296594         0.210753   \n",
       "TotalCharges                                       0.118498        -0.009192   \n",
       "Churn                                             -0.171226         0.268005   \n",
       "MultipleLines_No                                  -0.151950        -0.036277   \n",
       "MultipleLines_No phone service                     0.092893         0.092867   \n",
       "MultipleLines_Yes                                  0.098108        -0.018908   \n",
       "InternetService_DSL                                0.321269         0.164783   \n",
       "InternetService_Fiber optic                       -0.030696         0.228047   \n",
       "InternetService_No                                -0.333403        -0.464720   \n",
       "OnlineSecurity_No                                 -0.629717         0.378468   \n",
       "OnlineSecurity_No internet service                -0.333403        -0.464720   \n",
       "OnlineSecurity_Yes                                 1.000000         0.004917   \n",
       "OnlineBackup_No                                    0.004917         1.000000   \n",
       "OnlineBackup_No internet service                  -0.333403        -0.464720   \n",
       "OnlineBackup_Yes                                   0.283832        -0.641122   \n",
       "DeviceProtection_No                                0.013136         0.361488   \n",
       "DeviceProtection_No internet service              -0.333403        -0.464720   \n",
       "DeviceProtection_Yes                               0.275438         0.025346   \n",
       "TechSupport_No                                    -0.047477         0.385341   \n",
       "TechSupport_No internet service                   -0.333403        -0.464720   \n",
       "TechSupport_Yes                                    0.354931        -0.002642   \n",
       "StreamingTV_No                                     0.105453         0.316689   \n",
       "StreamingTV_No internet service                   -0.333403        -0.464720   \n",
       "StreamingTV_Yes                                    0.176207         0.074776   \n",
       "StreamingMovies_No                                 0.094162         0.307200   \n",
       "StreamingMovies_No internet service               -0.333403        -0.464720   \n",
       "StreamingMovies_Yes                                0.187398         0.084654   \n",
       "Contract_Month-to-month                           -0.246679         0.338796   \n",
       "Contract_One year                                  0.100162        -0.111755   \n",
       "Contract_Two year                                  0.191773        -0.287944   \n",
       "PaymentMethod_Bank transfer (automatic)            0.095158        -0.081590   \n",
       "PaymentMethod_Credit card (automatic)              0.115721        -0.087822   \n",
       "PaymentMethod_Electronic check                    -0.112338         0.236947   \n",
       "PaymentMethod_Mailed check                        -0.080798        -0.099975   \n",
       "AdditionalServices_0                              -0.429950        -0.172424   \n",
       "AdditionalServices_1                              -0.093024         0.277366   \n",
       "AdditionalServices_2                              -0.001001         0.183671   \n",
       "AdditionalServices_3                               0.113850         0.035090   \n",
       "AdditionalServices_4                               0.159603        -0.071568   \n",
       "AdditionalServices_5                               0.274141        -0.125126   \n",
       "AdditionalServices_6                               0.323351        -0.181127   \n",
       "\n",
       "                                         OnlineBackup_No internet service  \\\n",
       "gender                                                          -0.006026   \n",
       "SeniorCitizen                                                   -0.182742   \n",
       "Partner                                                               NaN   \n",
       "Dependents                                                            NaN   \n",
       "tenure                                                          -0.039062   \n",
       "PhoneService                                                          NaN   \n",
       "PaperlessBilling                                                      NaN   \n",
       "MonthlyCharges                                                  -0.763557   \n",
       "TotalCharges                                                    -0.171740   \n",
       "Churn                                                           -0.227890   \n",
       "MultipleLines_No                                                 0.310046   \n",
       "MultipleLines_No phone service                                  -0.172209   \n",
       "MultipleLines_Yes                                               -0.210564   \n",
       "InternetService_DSL                                             -0.380635   \n",
       "InternetService_Fiber optic                                     -0.465793   \n",
       "InternetService_No                                               1.000000   \n",
       "OnlineSecurity_No                                               -0.522429   \n",
       "OnlineSecurity_No internet service                               1.000000   \n",
       "OnlineSecurity_Yes                                              -0.333403   \n",
       "OnlineBackup_No                                                 -0.464720   \n",
       "OnlineBackup_No internet service                                 1.000000   \n",
       "OnlineBackup_Yes                                                -0.381593   \n",
       "DeviceProtection_No                                             -0.465658   \n",
       "DeviceProtection_No internet service                             1.000000   \n",
       "DeviceProtection_Yes                                            -0.380754   \n",
       "TechSupport_No                                                  -0.518733   \n",
       "TechSupport_No internet service                                  1.000000   \n",
       "TechSupport_Yes                                                 -0.336298   \n",
       "StreamingTV_No                                                  -0.428504   \n",
       "StreamingTV_No internet service                                  1.000000   \n",
       "StreamingTV_Yes                                                 -0.415552   \n",
       "StreamingMovies_No                                              -0.425339   \n",
       "StreamingMovies_No internet service                              1.000000   \n",
       "StreamingMovies_Yes                                             -0.418675   \n",
       "Contract_Month-to-month                                         -0.218639   \n",
       "Contract_One year                                                0.038004   \n",
       "Contract_Two year                                                0.218278   \n",
       "PaymentMethod_Bank transfer (automatic)                         -0.002113   \n",
       "PaymentMethod_Credit card (automatic)                            0.001030   \n",
       "PaymentMethod_Electronic check                                  -0.284917   \n",
       "PaymentMethod_Mailed check                                       0.321361   \n",
       "AdditionalServices_0                                             0.775445   \n",
       "AdditionalServices_1                                            -0.209686   \n",
       "AdditionalServices_2                                            -0.218041   \n",
       "AdditionalServices_3                                            -0.228456   \n",
       "AdditionalServices_4                                            -0.195104   \n",
       "AdditionalServices_5                                            -0.156216   \n",
       "AdditionalServices_6                                            -0.107806   \n",
       "\n",
       "                                         OnlineBackup_Yes  \\\n",
       "gender                                           0.013773   \n",
       "SeniorCitizen                                    0.066572   \n",
       "Partner                                               NaN   \n",
       "Dependents                                            NaN   \n",
       "tenure                                           0.360277   \n",
       "PhoneService                                          NaN   \n",
       "PaperlessBilling                                      NaN   \n",
       "MonthlyCharges                                   0.441780   \n",
       "TotalCharges                                     0.158445   \n",
       "Churn                                           -0.082255   \n",
       "MultipleLines_No                                -0.230852   \n",
       "MultipleLines_No phone service                   0.052312   \n",
       "MultipleLines_Yes                                0.202237   \n",
       "InternetService_DSL                              0.157884   \n",
       "InternetService_Fiber optic                      0.165651   \n",
       "InternetService_No                              -0.381593   \n",
       "OnlineSecurity_No                                0.057715   \n",
       "OnlineSecurity_No internet service              -0.381593   \n",
       "OnlineSecurity_Yes                               0.283832   \n",
       "OnlineBackup_No                                 -0.641122   \n",
       "OnlineBackup_No internet service                -0.381593   \n",
       "OnlineBackup_Yes                                 1.000000   \n",
       "DeviceProtection_No                              0.026236   \n",
       "DeviceProtection_No internet service            -0.381593   \n",
       "DeviceProtection_Yes                             0.303546   \n",
       "TechSupport_No                                   0.047336   \n",
       "TechSupport_No internet service                 -0.381593   \n",
       "TechSupport_Yes                                  0.294233   \n",
       "StreamingTV_No                                   0.040799   \n",
       "StreamingTV_No internet service                 -0.381593   \n",
       "StreamingTV_Yes                                  0.282106   \n",
       "StreamingMovies_No                               0.047961   \n",
       "StreamingMovies_No internet service             -0.381593   \n",
       "StreamingMovies_Yes                              0.274501   \n",
       "Contract_Month-to-month                         -0.164172   \n",
       "Contract_One year                                0.083722   \n",
       "Contract_Two year                                0.111400   \n",
       "PaymentMethod_Bank transfer (automatic)          0.087004   \n",
       "PaymentMethod_Credit card (automatic)            0.090785   \n",
       "PaymentMethod_Electronic check                  -0.000408   \n",
       "PaymentMethod_Mailed check                      -0.174164   \n",
       "AdditionalServices_0                            -0.492096   \n",
       "AdditionalServices_1                            -0.107805   \n",
       "AdditionalServices_2                            -0.002755   \n",
       "AdditionalServices_3                             0.161375   \n",
       "AdditionalServices_4                             0.243809   \n",
       "AdditionalServices_5                             0.266014   \n",
       "AdditionalServices_6                             0.282516   \n",
       "\n",
       "                                         DeviceProtection_No  \\\n",
       "gender                                              0.002988   \n",
       "SeniorCitizen                                       0.094810   \n",
       "Partner                                                  NaN   \n",
       "Dependents                                               NaN   \n",
       "tenure                                             -0.312740   \n",
       "PhoneService                                             NaN   \n",
       "PaperlessBilling                                         NaN   \n",
       "MonthlyCharges                                      0.171836   \n",
       "TotalCharges                                       -0.022598   \n",
       "Churn                                               0.252481   \n",
       "MultipleLines_No                                   -0.026746   \n",
       "MultipleLines_No phone service                      0.074776   \n",
       "MultipleLines_Yes                                  -0.017718   \n",
       "InternetService_DSL                                 0.175942   \n",
       "InternetService_Fiber optic                         0.218148   \n",
       "InternetService_No                                 -0.465658   \n",
       "OnlineSecurity_No                                   0.371808   \n",
       "OnlineSecurity_No internet service                 -0.465658   \n",
       "OnlineSecurity_Yes                                  0.013136   \n",
       "OnlineBackup_No                                     0.361488   \n",
       "OnlineBackup_No internet service                   -0.465658   \n",
       "OnlineBackup_Yes                                    0.026236   \n",
       "DeviceProtection_No                                 1.000000   \n",
       "DeviceProtection_No internet service               -0.465658   \n",
       "DeviceProtection_Yes                               -0.641004   \n",
       "TechSupport_No                                      0.419892   \n",
       "TechSupport_No internet service                    -0.465658   \n",
       "TechSupport_Yes                                    -0.039850   \n",
       "StreamingTV_No                                      0.420720   \n",
       "StreamingTV_No internet service                    -0.465658   \n",
       "StreamingTV_Yes                                    -0.029154   \n",
       "StreamingMovies_No                                  0.429545   \n",
       "StreamingMovies_No internet service                -0.465658   \n",
       "StreamingMovies_Yes                                -0.037316   \n",
       "Contract_Month-to-month                             0.397454   \n",
       "Contract_One year                                  -0.129639   \n",
       "Contract_Two year                                  -0.339190   \n",
       "PaymentMethod_Bank transfer (automatic)            -0.077791   \n",
       "PaymentMethod_Credit card (automatic)              -0.107618   \n",
       "PaymentMethod_Electronic check                      0.239705   \n",
       "PaymentMethod_Mailed check                         -0.087422   \n",
       "AdditionalServices_0                               -0.173739   \n",
       "AdditionalServices_1                                0.347184   \n",
       "AdditionalServices_2                                0.221610   \n",
       "AdditionalServices_3                                0.049086   \n",
       "AdditionalServices_4                               -0.136335   \n",
       "AdditionalServices_5                               -0.201153   \n",
       "AdditionalServices_6                               -0.181493   \n",
       "\n",
       "                                         DeviceProtection_No internet service  \\\n",
       "gender                                                              -0.006026   \n",
       "SeniorCitizen                                                       -0.182742   \n",
       "Partner                                                                   NaN   \n",
       "Dependents                                                                NaN   \n",
       "tenure                                                              -0.039062   \n",
       "PhoneService                                                              NaN   \n",
       "PaperlessBilling                                                          NaN   \n",
       "MonthlyCharges                                                      -0.763557   \n",
       "TotalCharges                                                        -0.171740   \n",
       "Churn                                                               -0.227890   \n",
       "MultipleLines_No                                                     0.310046   \n",
       "MultipleLines_No phone service                                      -0.172209   \n",
       "MultipleLines_Yes                                                   -0.210564   \n",
       "InternetService_DSL                                                 -0.380635   \n",
       "InternetService_Fiber optic                                         -0.465793   \n",
       "InternetService_No                                                   1.000000   \n",
       "OnlineSecurity_No                                                   -0.522429   \n",
       "OnlineSecurity_No internet service                                   1.000000   \n",
       "OnlineSecurity_Yes                                                  -0.333403   \n",
       "OnlineBackup_No                                                     -0.464720   \n",
       "OnlineBackup_No internet service                                     1.000000   \n",
       "OnlineBackup_Yes                                                    -0.381593   \n",
       "DeviceProtection_No                                                 -0.465658   \n",
       "DeviceProtection_No internet service                                 1.000000   \n",
       "DeviceProtection_Yes                                                -0.380754   \n",
       "TechSupport_No                                                      -0.518733   \n",
       "TechSupport_No internet service                                      1.000000   \n",
       "TechSupport_Yes                                                     -0.336298   \n",
       "StreamingTV_No                                                      -0.428504   \n",
       "StreamingTV_No internet service                                      1.000000   \n",
       "StreamingTV_Yes                                                     -0.415552   \n",
       "StreamingMovies_No                                                  -0.425339   \n",
       "StreamingMovies_No internet service                                  1.000000   \n",
       "StreamingMovies_Yes                                                 -0.418675   \n",
       "Contract_Month-to-month                                             -0.218639   \n",
       "Contract_One year                                                    0.038004   \n",
       "Contract_Two year                                                    0.218278   \n",
       "PaymentMethod_Bank transfer (automatic)                             -0.002113   \n",
       "PaymentMethod_Credit card (automatic)                                0.001030   \n",
       "PaymentMethod_Electronic check                                      -0.284917   \n",
       "PaymentMethod_Mailed check                                           0.321361   \n",
       "AdditionalServices_0                                                 0.775445   \n",
       "AdditionalServices_1                                                -0.209686   \n",
       "AdditionalServices_2                                                -0.218041   \n",
       "AdditionalServices_3                                                -0.228456   \n",
       "AdditionalServices_4                                                -0.195104   \n",
       "AdditionalServices_5                                                -0.156216   \n",
       "AdditionalServices_6                                                -0.107806   \n",
       "\n",
       "                                         DeviceProtection_Yes  TechSupport_No  \\\n",
       "gender                                               0.002105       -0.003397   \n",
       "SeniorCitizen                                        0.059428        0.205620   \n",
       "Partner                                                   NaN             NaN   \n",
       "Dependents                                                NaN             NaN   \n",
       "tenure                                               0.360653       -0.262143   \n",
       "PhoneService                                              NaN             NaN   \n",
       "PaperlessBilling                                          NaN             NaN   \n",
       "MonthlyCharges                                       0.482692        0.322076   \n",
       "TotalCharges                                         0.172564        0.021230   \n",
       "Churn                                               -0.066160        0.337281   \n",
       "MultipleLines_No                                    -0.240960       -0.113482   \n",
       "MultipleLines_No phone service                       0.071227        0.054447   \n",
       "MultipleLines_Yes                                    0.201137        0.082211   \n",
       "InternetService_DSL                                  0.146291        0.029402   \n",
       "InternetService_Fiber optic                          0.176049        0.402430   \n",
       "InternetService_No                                  -0.380754       -0.518733   \n",
       "OnlineSecurity_No                                    0.064615        0.470359   \n",
       "OnlineSecurity_No internet service                  -0.380754       -0.518733   \n",
       "OnlineSecurity_Yes                                   0.275438       -0.047477   \n",
       "OnlineBackup_No                                      0.025346        0.385341   \n",
       "OnlineBackup_No internet service                    -0.380754       -0.518733   \n",
       "OnlineBackup_Yes                                     0.303546        0.047336   \n",
       "DeviceProtection_No                                 -0.641004        0.419892   \n",
       "DeviceProtection_No internet service                -0.380754       -0.518733   \n",
       "DeviceProtection_Yes                                 1.000000        0.011168   \n",
       "TechSupport_No                                       0.011168        1.000000   \n",
       "TechSupport_No internet service                     -0.380754       -0.518733   \n",
       "TechSupport_Yes                                      0.333313       -0.630692   \n",
       "StreamingTV_No                                      -0.067954        0.347016   \n",
       "StreamingTV_No internet service                     -0.380754       -0.518733   \n",
       "StreamingTV_Yes                                      0.390874        0.089991   \n",
       "StreamingMovies_No                                  -0.079919        0.345993   \n",
       "StreamingMovies_No internet service                 -0.380754       -0.518733   \n",
       "StreamingMovies_Yes                                  0.402111        0.091395   \n",
       "Contract_Month-to-month                             -0.225662        0.439110   \n",
       "Contract_One year                                    0.102495       -0.118262   \n",
       "Contract_Two year                                    0.165096       -0.398490   \n",
       "PaymentMethod_Bank transfer (automatic)              0.083115       -0.090177   \n",
       "PaymentMethod_Credit card (automatic)                0.111554       -0.107310   \n",
       "PaymentMethod_Electronic check                      -0.003351        0.339031   \n",
       "PaymentMethod_Mailed check                          -0.187373       -0.187185   \n",
       "AdditionalServices_0                                -0.491014       -0.245285   \n",
       "AdditionalServices_1                                -0.180901        0.320022   \n",
       "AdditionalServices_2                                -0.042445        0.207604   \n",
       "AdditionalServices_3                                 0.146853        0.100796   \n",
       "AdditionalServices_4                                 0.311667       -0.039306   \n",
       "AdditionalServices_5                                 0.345667       -0.197242   \n",
       "AdditionalServices_6                                 0.283138       -0.202179   \n",
       "\n",
       "                                         TechSupport_No internet service  \\\n",
       "gender                                                         -0.006026   \n",
       "SeniorCitizen                                                  -0.182742   \n",
       "Partner                                                              NaN   \n",
       "Dependents                                                           NaN   \n",
       "tenure                                                         -0.039062   \n",
       "PhoneService                                                         NaN   \n",
       "PaperlessBilling                                                     NaN   \n",
       "MonthlyCharges                                                 -0.763557   \n",
       "TotalCharges                                                   -0.171740   \n",
       "Churn                                                          -0.227890   \n",
       "MultipleLines_No                                                0.310046   \n",
       "MultipleLines_No phone service                                 -0.172209   \n",
       "MultipleLines_Yes                                              -0.210564   \n",
       "InternetService_DSL                                            -0.380635   \n",
       "InternetService_Fiber optic                                    -0.465793   \n",
       "InternetService_No                                              1.000000   \n",
       "OnlineSecurity_No                                              -0.522429   \n",
       "OnlineSecurity_No internet service                              1.000000   \n",
       "OnlineSecurity_Yes                                             -0.333403   \n",
       "OnlineBackup_No                                                -0.464720   \n",
       "OnlineBackup_No internet service                                1.000000   \n",
       "OnlineBackup_Yes                                               -0.381593   \n",
       "DeviceProtection_No                                            -0.465658   \n",
       "DeviceProtection_No internet service                            1.000000   \n",
       "DeviceProtection_Yes                                           -0.380754   \n",
       "TechSupport_No                                                 -0.518733   \n",
       "TechSupport_No internet service                                 1.000000   \n",
       "TechSupport_Yes                                                -0.336298   \n",
       "StreamingTV_No                                                 -0.428504   \n",
       "StreamingTV_No internet service                                 1.000000   \n",
       "StreamingTV_Yes                                                -0.415552   \n",
       "StreamingMovies_No                                             -0.425339   \n",
       "StreamingMovies_No internet service                             1.000000   \n",
       "StreamingMovies_Yes                                            -0.418675   \n",
       "Contract_Month-to-month                                        -0.218639   \n",
       "Contract_One year                                               0.038004   \n",
       "Contract_Two year                                               0.218278   \n",
       "PaymentMethod_Bank transfer (automatic)                        -0.002113   \n",
       "PaymentMethod_Credit card (automatic)                           0.001030   \n",
       "PaymentMethod_Electronic check                                 -0.284917   \n",
       "PaymentMethod_Mailed check                                      0.321361   \n",
       "AdditionalServices_0                                            0.775445   \n",
       "AdditionalServices_1                                           -0.209686   \n",
       "AdditionalServices_2                                           -0.218041   \n",
       "AdditionalServices_3                                           -0.228456   \n",
       "AdditionalServices_4                                           -0.195104   \n",
       "AdditionalServices_5                                           -0.156216   \n",
       "AdditionalServices_6                                           -0.107806   \n",
       "\n",
       "                                         TechSupport_Yes  StreamingTV_No  \\\n",
       "gender                                          0.009212       -0.003267   \n",
       "SeniorCitizen                                  -0.060625        0.049062   \n",
       "Partner                                              NaN             NaN   \n",
       "Dependents                                           NaN             NaN   \n",
       "tenure                                          0.324221       -0.245039   \n",
       "PhoneService                                         NaN             NaN   \n",
       "PaperlessBilling                                     NaN             NaN   \n",
       "MonthlyCharges                                  0.338304        0.016951   \n",
       "TotalCharges                                    0.132505       -0.052607   \n",
       "Churn                                          -0.164674        0.128916   \n",
       "MultipleLines_No                               -0.156425        0.004913   \n",
       "MultipleLines_No phone service                  0.096340        0.122455   \n",
       "MultipleLines_Yes                               0.100571       -0.078300   \n",
       "InternetService_DSL                             0.313118        0.304062   \n",
       "InternetService_Fiber optic                    -0.020492        0.064707   \n",
       "InternetService_No                             -0.336298       -0.428504   \n",
       "OnlineSecurity_No                              -0.043911        0.257699   \n",
       "OnlineSecurity_No internet service             -0.336298       -0.428504   \n",
       "OnlineSecurity_Yes                              0.354931        0.105453   \n",
       "OnlineBackup_No                                -0.002642        0.316689   \n",
       "OnlineBackup_No internet service               -0.336298       -0.428504   \n",
       "OnlineBackup_Yes                                0.294233        0.040799   \n",
       "DeviceProtection_No                            -0.039850        0.420720   \n",
       "DeviceProtection_No internet service           -0.336298       -0.428504   \n",
       "DeviceProtection_Yes                            0.333313       -0.067954   \n",
       "TechSupport_No                                 -0.630692        0.347016   \n",
       "TechSupport_No internet service                -0.336298       -0.428504   \n",
       "TechSupport_Yes                                 1.000000        0.006701   \n",
       "StreamingTV_No                                  0.006701        1.000000   \n",
       "StreamingTV_No internet service                -0.336298       -0.428504   \n",
       "StreamingTV_Yes                                 0.278070       -0.643767   \n",
       "StreamingMovies_No                              0.004955        0.537773   \n",
       "StreamingMovies_No internet service            -0.336298       -0.428504   \n",
       "StreamingMovies_Yes                             0.279358       -0.177328   \n",
       "Contract_Month-to-month                        -0.285241        0.295479   \n",
       "Contract_One year                               0.095775       -0.093177   \n",
       "Contract_Two year                               0.240824       -0.255209   \n",
       "PaymentMethod_Bank transfer (automatic)         0.101252       -0.044168   \n",
       "PaymentMethod_Credit card (automatic)           0.117272       -0.041031   \n",
       "PaymentMethod_Electronic check                 -0.114839        0.096033   \n",
       "PaymentMethod_Mailed check                     -0.085509       -0.024261   \n",
       "AdditionalServices_0                           -0.433684       -0.120046   \n",
       "AdditionalServices_1                           -0.162187        0.345218   \n",
       "AdditionalServices_2                           -0.030768        0.152324   \n",
       "AdditionalServices_3                            0.096340        0.019791   \n",
       "AdditionalServices_4                            0.220395       -0.133311   \n",
       "AdditionalServices_5                            0.359070       -0.175083   \n",
       "AdditionalServices_6                            0.320567       -0.167012   \n",
       "\n",
       "                                         StreamingTV_No internet service  \\\n",
       "gender                                                         -0.006026   \n",
       "SeniorCitizen                                                  -0.182742   \n",
       "Partner                                                              NaN   \n",
       "Dependents                                                           NaN   \n",
       "tenure                                                         -0.039062   \n",
       "PhoneService                                                         NaN   \n",
       "PaperlessBilling                                                     NaN   \n",
       "MonthlyCharges                                                 -0.763557   \n",
       "TotalCharges                                                   -0.171740   \n",
       "Churn                                                          -0.227890   \n",
       "MultipleLines_No                                                0.310046   \n",
       "MultipleLines_No phone service                                 -0.172209   \n",
       "MultipleLines_Yes                                              -0.210564   \n",
       "InternetService_DSL                                            -0.380635   \n",
       "InternetService_Fiber optic                                    -0.465793   \n",
       "InternetService_No                                              1.000000   \n",
       "OnlineSecurity_No                                              -0.522429   \n",
       "OnlineSecurity_No internet service                              1.000000   \n",
       "OnlineSecurity_Yes                                             -0.333403   \n",
       "OnlineBackup_No                                                -0.464720   \n",
       "OnlineBackup_No internet service                                1.000000   \n",
       "OnlineBackup_Yes                                               -0.381593   \n",
       "DeviceProtection_No                                            -0.465658   \n",
       "DeviceProtection_No internet service                            1.000000   \n",
       "DeviceProtection_Yes                                           -0.380754   \n",
       "TechSupport_No                                                 -0.518733   \n",
       "TechSupport_No internet service                                 1.000000   \n",
       "TechSupport_Yes                                                -0.336298   \n",
       "StreamingTV_No                                                 -0.428504   \n",
       "StreamingTV_No internet service                                 1.000000   \n",
       "StreamingTV_Yes                                                -0.415552   \n",
       "StreamingMovies_No                                             -0.425339   \n",
       "StreamingMovies_No internet service                             1.000000   \n",
       "StreamingMovies_Yes                                            -0.418675   \n",
       "Contract_Month-to-month                                        -0.218639   \n",
       "Contract_One year                                               0.038004   \n",
       "Contract_Two year                                               0.218278   \n",
       "PaymentMethod_Bank transfer (automatic)                        -0.002113   \n",
       "PaymentMethod_Credit card (automatic)                           0.001030   \n",
       "PaymentMethod_Electronic check                                 -0.284917   \n",
       "PaymentMethod_Mailed check                                      0.321361   \n",
       "AdditionalServices_0                                            0.775445   \n",
       "AdditionalServices_1                                           -0.209686   \n",
       "AdditionalServices_2                                           -0.218041   \n",
       "AdditionalServices_3                                           -0.228456   \n",
       "AdditionalServices_4                                           -0.195104   \n",
       "AdditionalServices_5                                           -0.156216   \n",
       "AdditionalServices_6                                           -0.107806   \n",
       "\n",
       "                                         StreamingTV_Yes  StreamingMovies_No  \\\n",
       "gender                                          0.008393           -0.005374   \n",
       "SeniorCitizen                                   0.105378            0.034210   \n",
       "Partner                                              NaN                 NaN   \n",
       "Dependents                                           NaN                 NaN   \n",
       "tenure                                          0.279756           -0.252220   \n",
       "PhoneService                                         NaN                 NaN   \n",
       "PaperlessBilling                                     NaN                 NaN   \n",
       "MonthlyCharges                                  0.629603            0.018075   \n",
       "TotalCharges                                    0.198408           -0.059210   \n",
       "Churn                                           0.063228            0.130845   \n",
       "MultipleLines_No                               -0.267528            0.013076   \n",
       "MultipleLines_No phone service                  0.022574            0.112254   \n",
       "MultipleLines_Yes                               0.257152           -0.080450   \n",
       "InternetService_DSL                             0.016274            0.295107   \n",
       "InternetService_Fiber optic                     0.329349            0.070650   \n",
       "InternetService_No                             -0.415552           -0.425339   \n",
       "OnlineSecurity_No                               0.183035            0.265304   \n",
       "OnlineSecurity_No internet service             -0.415552           -0.425339   \n",
       "OnlineSecurity_Yes                              0.176207            0.094162   \n",
       "OnlineBackup_No                                 0.074776            0.307200   \n",
       "OnlineBackup_No internet service               -0.415552           -0.425339   \n",
       "OnlineBackup_Yes                                0.282106            0.047961   \n",
       "DeviceProtection_No                            -0.029154            0.429545   \n",
       "DeviceProtection_No internet service           -0.415552           -0.425339   \n",
       "DeviceProtection_Yes                            0.390874           -0.079919   \n",
       "TechSupport_No                                  0.089991            0.345993   \n",
       "TechSupport_No internet service                -0.415552           -0.425339   \n",
       "TechSupport_Yes                                 0.278070            0.004955   \n",
       "StreamingTV_No                                 -0.643767            0.537773   \n",
       "StreamingTV_No internet service                -0.415552           -0.425339   \n",
       "StreamingTV_Yes                                 1.000000           -0.181135   \n",
       "StreamingMovies_No                             -0.181135            1.000000   \n",
       "StreamingMovies_No internet service            -0.415552           -0.425339   \n",
       "StreamingMovies_Yes                             0.533094           -0.643815   \n",
       "Contract_Month-to-month                        -0.112282            0.300457   \n",
       "Contract_One year                               0.061612           -0.096726   \n",
       "Contract_Two year                               0.072049           -0.257625   \n",
       "PaymentMethod_Bank transfer (automatic)         0.046252           -0.046705   \n",
       "PaymentMethod_Credit card (automatic)           0.040433           -0.049277   \n",
       "PaymentMethod_Electronic check                  0.144626            0.102571   \n",
       "PaymentMethod_Mailed check                     -0.247742           -0.021034   \n",
       "AdditionalServices_0                           -0.535889           -0.115306   \n",
       "AdditionalServices_1                           -0.169936            0.336822   \n",
       "AdditionalServices_2                            0.031322            0.173625   \n",
       "AdditionalServices_3                            0.173560            0.004698   \n",
       "AdditionalServices_4                            0.299437           -0.134383   \n",
       "AdditionalServices_5                            0.308552           -0.179577   \n",
       "AdditionalServices_6                            0.259429           -0.165778   \n",
       "\n",
       "                                         StreamingMovies_No internet service  \\\n",
       "gender                                                             -0.006026   \n",
       "SeniorCitizen                                                      -0.182742   \n",
       "Partner                                                                  NaN   \n",
       "Dependents                                                               NaN   \n",
       "tenure                                                             -0.039062   \n",
       "PhoneService                                                             NaN   \n",
       "PaperlessBilling                                                         NaN   \n",
       "MonthlyCharges                                                     -0.763557   \n",
       "TotalCharges                                                       -0.171740   \n",
       "Churn                                                              -0.227890   \n",
       "MultipleLines_No                                                    0.310046   \n",
       "MultipleLines_No phone service                                     -0.172209   \n",
       "MultipleLines_Yes                                                  -0.210564   \n",
       "InternetService_DSL                                                -0.380635   \n",
       "InternetService_Fiber optic                                        -0.465793   \n",
       "InternetService_No                                                  1.000000   \n",
       "OnlineSecurity_No                                                  -0.522429   \n",
       "OnlineSecurity_No internet service                                  1.000000   \n",
       "OnlineSecurity_Yes                                                 -0.333403   \n",
       "OnlineBackup_No                                                    -0.464720   \n",
       "OnlineBackup_No internet service                                    1.000000   \n",
       "OnlineBackup_Yes                                                   -0.381593   \n",
       "DeviceProtection_No                                                -0.465658   \n",
       "DeviceProtection_No internet service                                1.000000   \n",
       "DeviceProtection_Yes                                               -0.380754   \n",
       "TechSupport_No                                                     -0.518733   \n",
       "TechSupport_No internet service                                     1.000000   \n",
       "TechSupport_Yes                                                    -0.336298   \n",
       "StreamingTV_No                                                     -0.428504   \n",
       "StreamingTV_No internet service                                     1.000000   \n",
       "StreamingTV_Yes                                                    -0.415552   \n",
       "StreamingMovies_No                                                 -0.425339   \n",
       "StreamingMovies_No internet service                                 1.000000   \n",
       "StreamingMovies_Yes                                                -0.418675   \n",
       "Contract_Month-to-month                                            -0.218639   \n",
       "Contract_One year                                                   0.038004   \n",
       "Contract_Two year                                                   0.218278   \n",
       "PaymentMethod_Bank transfer (automatic)                            -0.002113   \n",
       "PaymentMethod_Credit card (automatic)                               0.001030   \n",
       "PaymentMethod_Electronic check                                     -0.284917   \n",
       "PaymentMethod_Mailed check                                          0.321361   \n",
       "AdditionalServices_0                                                0.775445   \n",
       "AdditionalServices_1                                               -0.209686   \n",
       "AdditionalServices_2                                               -0.218041   \n",
       "AdditionalServices_3                                               -0.228456   \n",
       "AdditionalServices_4                                               -0.195104   \n",
       "AdditionalServices_5                                               -0.156216   \n",
       "AdditionalServices_6                                               -0.107806   \n",
       "\n",
       "                                         StreamingMovies_Yes  \\\n",
       "gender                                              0.010487   \n",
       "SeniorCitizen                                       0.120176   \n",
       "Partner                                                  NaN   \n",
       "Dependents                                               NaN   \n",
       "tenure                                              0.286111   \n",
       "PhoneService                                             NaN   \n",
       "PaperlessBilling                                         NaN   \n",
       "MonthlyCharges                                      0.627429   \n",
       "TotalCharges                                        0.204614   \n",
       "Churn                                               0.061382   \n",
       "MultipleLines_No                                   -0.275256   \n",
       "MultipleLines_No phone service                      0.032959   \n",
       "MultipleLines_Yes                                   0.258751   \n",
       "InternetService_DSL                                 0.025698   \n",
       "InternetService_Fiber optic                         0.322923   \n",
       "InternetService_No                                 -0.418675   \n",
       "OnlineSecurity_No                                   0.175487   \n",
       "OnlineSecurity_No internet service                 -0.418675   \n",
       "OnlineSecurity_Yes                                  0.187398   \n",
       "OnlineBackup_No                                     0.084654   \n",
       "OnlineBackup_No internet service                   -0.418675   \n",
       "OnlineBackup_Yes                                    0.274501   \n",
       "DeviceProtection_No                                -0.037316   \n",
       "DeviceProtection_No internet service               -0.418675   \n",
       "DeviceProtection_Yes                                0.402111   \n",
       "TechSupport_No                                      0.091395   \n",
       "TechSupport_No internet service                    -0.418675   \n",
       "TechSupport_Yes                                     0.279358   \n",
       "StreamingTV_No                                     -0.177328   \n",
       "StreamingTV_No internet service                    -0.418675   \n",
       "StreamingTV_Yes                                     0.533094   \n",
       "StreamingMovies_No                                 -0.643815   \n",
       "StreamingMovies_No internet service                -0.418675   \n",
       "StreamingMovies_Yes                                 1.000000   \n",
       "Contract_Month-to-month                            -0.116633   \n",
       "Contract_One year                                   0.064926   \n",
       "Contract_Two year                                   0.073960   \n",
       "PaymentMethod_Bank transfer (automatic)             0.048652   \n",
       "PaymentMethod_Credit card (automatic)               0.048575   \n",
       "PaymentMethod_Electronic check                      0.137966   \n",
       "PaymentMethod_Mailed check                         -0.250595   \n",
       "AdditionalServices_0                               -0.539916   \n",
       "AdditionalServices_1                               -0.160692   \n",
       "AdditionalServices_2                                0.010128   \n",
       "AdditionalServices_3                                0.188440   \n",
       "AdditionalServices_4                                0.299798   \n",
       "AdditionalServices_5                                0.312268   \n",
       "AdditionalServices_6                                0.257494   \n",
       "\n",
       "                                         Contract_Month-to-month  \\\n",
       "gender                                                  0.003386   \n",
       "SeniorCitizen                                           0.138360   \n",
       "Partner                                                      NaN   \n",
       "Dependents                                                   NaN   \n",
       "tenure                                                 -0.645561   \n",
       "PhoneService                                                 NaN   \n",
       "PaperlessBilling                                             NaN   \n",
       "MonthlyCharges                                          0.060165   \n",
       "TotalCharges                                           -0.106009   \n",
       "Churn                                                   0.405103   \n",
       "MultipleLines_No                                        0.086740   \n",
       "MultipleLines_No phone service                          0.000742   \n",
       "MultipleLines_Yes                                      -0.088203   \n",
       "InternetService_DSL                                    -0.065509   \n",
       "InternetService_Fiber optic                             0.244164   \n",
       "InternetService_No                                     -0.218639   \n",
       "OnlineSecurity_No                                       0.403255   \n",
       "OnlineSecurity_No internet service                     -0.218639   \n",
       "OnlineSecurity_Yes                                     -0.246679   \n",
       "OnlineBackup_No                                         0.338796   \n",
       "OnlineBackup_No internet service                       -0.218639   \n",
       "OnlineBackup_Yes                                       -0.164172   \n",
       "DeviceProtection_No                                     0.397454   \n",
       "DeviceProtection_No internet service                   -0.218639   \n",
       "DeviceProtection_Yes                                   -0.225662   \n",
       "TechSupport_No                                          0.439110   \n",
       "TechSupport_No internet service                        -0.218639   \n",
       "TechSupport_Yes                                        -0.285241   \n",
       "StreamingTV_No                                          0.295479   \n",
       "StreamingTV_No internet service                        -0.218639   \n",
       "StreamingTV_Yes                                        -0.112282   \n",
       "StreamingMovies_No                                      0.300457   \n",
       "StreamingMovies_No internet service                    -0.218639   \n",
       "StreamingMovies_Yes                                    -0.116633   \n",
       "Contract_Month-to-month                                 1.000000   \n",
       "Contract_One year                                      -0.568744   \n",
       "Contract_Two year                                      -0.622633   \n",
       "PaymentMethod_Bank transfer (automatic)                -0.179707   \n",
       "PaymentMethod_Credit card (automatic)                  -0.204145   \n",
       "PaymentMethod_Electronic check                          0.331661   \n",
       "PaymentMethod_Mailed check                              0.004138   \n",
       "AdditionalServices_0                                   -0.016512   \n",
       "AdditionalServices_1                                    0.286657   \n",
       "AdditionalServices_2                                    0.173978   \n",
       "AdditionalServices_3                                    0.009283   \n",
       "AdditionalServices_4                                   -0.159087   \n",
       "AdditionalServices_5                                   -0.227076   \n",
       "AdditionalServices_6                                   -0.213647   \n",
       "\n",
       "                                         Contract_One year  Contract_Two year  \\\n",
       "gender                                           -0.008026           0.003695   \n",
       "SeniorCitizen                                    -0.046262          -0.117000   \n",
       "Partner                                                NaN                NaN   \n",
       "Dependents                                             NaN                NaN   \n",
       "tenure                                            0.202570           0.558533   \n",
       "PhoneService                                           NaN                NaN   \n",
       "PaperlessBilling                                       NaN                NaN   \n",
       "MonthlyCharges                                    0.004904          -0.074681   \n",
       "TotalCharges                                      0.041687           0.083705   \n",
       "Churn                                            -0.177820          -0.302253   \n",
       "MultipleLines_No                                  0.002098          -0.102937   \n",
       "MultipleLines_No phone service                    0.002791          -0.003519   \n",
       "MultipleLines_Yes                                -0.003794           0.106253   \n",
       "InternetService_DSL                               0.046795           0.031714   \n",
       "InternetService_Fiber optic                      -0.076324          -0.211526   \n",
       "InternetService_No                                0.038004           0.218278   \n",
       "OnlineSecurity_No                                -0.121904          -0.353300   \n",
       "OnlineSecurity_No internet service                0.038004           0.218278   \n",
       "OnlineSecurity_Yes                                0.100162           0.191773   \n",
       "OnlineBackup_No                                  -0.111755          -0.287944   \n",
       "OnlineBackup_No internet service                  0.038004           0.218278   \n",
       "OnlineBackup_Yes                                  0.083722           0.111400   \n",
       "DeviceProtection_No                              -0.129639          -0.339190   \n",
       "DeviceProtection_No internet service              0.038004           0.218278   \n",
       "DeviceProtection_Yes                              0.102495           0.165096   \n",
       "TechSupport_No                                   -0.118262          -0.398490   \n",
       "TechSupport_No internet service                   0.038004           0.218278   \n",
       "TechSupport_Yes                                   0.095775           0.240824   \n",
       "StreamingTV_No                                   -0.093177          -0.255209   \n",
       "StreamingTV_No internet service                   0.038004           0.218278   \n",
       "StreamingTV_Yes                                   0.061612           0.072049   \n",
       "StreamingMovies_No                               -0.096726          -0.257625   \n",
       "StreamingMovies_No internet service               0.038004           0.218278   \n",
       "StreamingMovies_Yes                               0.064926           0.073960   \n",
       "Contract_Month-to-month                          -0.568744          -0.622633   \n",
       "Contract_One year                                 1.000000          -0.289510   \n",
       "Contract_Two year                                -0.289510           1.000000   \n",
       "PaymentMethod_Bank transfer (automatic)           0.057451           0.154471   \n",
       "PaymentMethod_Credit card (automatic)             0.067589           0.173265   \n",
       "PaymentMethod_Electronic check                   -0.109130          -0.282138   \n",
       "PaymentMethod_Mailed check                       -0.000116          -0.004705   \n",
       "AdditionalServices_0                             -0.060190           0.076478   \n",
       "AdditionalServices_1                             -0.135007          -0.205147   \n",
       "AdditionalServices_2                             -0.022742          -0.180826   \n",
       "AdditionalServices_3                              0.082330          -0.089129   \n",
       "AdditionalServices_4                              0.131480           0.060047   \n",
       "AdditionalServices_5                              0.063414           0.203922   \n",
       "AdditionalServices_6                             -0.039748           0.286440   \n",
       "\n",
       "                                         PaymentMethod_Bank transfer (automatic)  \\\n",
       "gender                                                                  0.016024   \n",
       "SeniorCitizen                                                          -0.016159   \n",
       "Partner                                                                      NaN   \n",
       "Dependents                                                                   NaN   \n",
       "tenure                                                                  0.243510   \n",
       "PhoneService                                                                 NaN   \n",
       "PaperlessBilling                                                             NaN   \n",
       "MonthlyCharges                                                          0.042812   \n",
       "TotalCharges                                                            0.025206   \n",
       "Churn                                                                  -0.117937   \n",
       "MultipleLines_No                                                       -0.070178   \n",
       "MultipleLines_No phone service                                         -0.007556   \n",
       "MultipleLines_Yes                                                       0.075527   \n",
       "InternetService_DSL                                                     0.025476   \n",
       "InternetService_Fiber optic                                            -0.022624   \n",
       "InternetService_No                                                     -0.002113   \n",
       "OnlineSecurity_No                                                      -0.084322   \n",
       "OnlineSecurity_No internet service                                     -0.002113   \n",
       "OnlineSecurity_Yes                                                      0.095158   \n",
       "OnlineBackup_No                                                        -0.081590   \n",
       "OnlineBackup_No internet service                                       -0.002113   \n",
       "OnlineBackup_Yes                                                        0.087004   \n",
       "DeviceProtection_No                                                    -0.077791   \n",
       "DeviceProtection_No internet service                                   -0.002113   \n",
       "DeviceProtection_Yes                                                    0.083115   \n",
       "TechSupport_No                                                         -0.090177   \n",
       "TechSupport_No internet service                                        -0.002113   \n",
       "TechSupport_Yes                                                         0.101252   \n",
       "StreamingTV_No                                                         -0.044168   \n",
       "StreamingTV_No internet service                                        -0.002113   \n",
       "StreamingTV_Yes                                                         0.046252   \n",
       "StreamingMovies_No                                                     -0.046705   \n",
       "StreamingMovies_No internet service                                    -0.002113   \n",
       "StreamingMovies_Yes                                                     0.048652   \n",
       "Contract_Month-to-month                                                -0.179707   \n",
       "Contract_One year                                                       0.057451   \n",
       "Contract_Two year                                                       0.154471   \n",
       "PaymentMethod_Bank transfer (automatic)                                 1.000000   \n",
       "PaymentMethod_Credit card (automatic)                                  -0.278215   \n",
       "PaymentMethod_Electronic check                                         -0.376762   \n",
       "PaymentMethod_Mailed check                                             -0.288685   \n",
       "AdditionalServices_0                                                   -0.047621   \n",
       "AdditionalServices_1                                                   -0.058630   \n",
       "AdditionalServices_2                                                   -0.036338   \n",
       "AdditionalServices_3                                                    0.010243   \n",
       "AdditionalServices_4                                                    0.064430   \n",
       "AdditionalServices_5                                                    0.057615   \n",
       "AdditionalServices_6                                                    0.074564   \n",
       "\n",
       "                                         PaymentMethod_Credit card (automatic)  \\\n",
       "gender                                                               -0.001215   \n",
       "SeniorCitizen                                                        -0.024135   \n",
       "Partner                                                                    NaN   \n",
       "Dependents                                                                 NaN   \n",
       "tenure                                                                0.233006   \n",
       "PhoneService                                                               NaN   \n",
       "PaperlessBilling                                                           NaN   \n",
       "MonthlyCharges                                                        0.030550   \n",
       "TotalCharges                                                          0.025894   \n",
       "Churn                                                                -0.134302   \n",
       "MultipleLines_No                                                     -0.063921   \n",
       "MultipleLines_No phone service                                        0.007721   \n",
       "MultipleLines_Yes                                                     0.060048   \n",
       "InternetService_DSL                                                   0.051438   \n",
       "InternetService_Fiber optic                                          -0.050077   \n",
       "InternetService_No                                                    0.001030   \n",
       "OnlineSecurity_No                                                    -0.105510   \n",
       "OnlineSecurity_No internet service                                    0.001030   \n",
       "OnlineSecurity_Yes                                                    0.115721   \n",
       "OnlineBackup_No                                                      -0.087822   \n",
       "OnlineBackup_No internet service                                      0.001030   \n",
       "OnlineBackup_Yes                                                      0.090785   \n",
       "DeviceProtection_No                                                  -0.107618   \n",
       "DeviceProtection_No internet service                                  0.001030   \n",
       "DeviceProtection_Yes                                                  0.111554   \n",
       "TechSupport_No                                                       -0.107310   \n",
       "TechSupport_No internet service                                       0.001030   \n",
       "TechSupport_Yes                                                       0.117272   \n",
       "StreamingTV_No                                                       -0.041031   \n",
       "StreamingTV_No internet service                                       0.001030   \n",
       "StreamingTV_Yes                                                       0.040433   \n",
       "StreamingMovies_No                                                   -0.049277   \n",
       "StreamingMovies_No internet service                                   0.001030   \n",
       "StreamingMovies_Yes                                                   0.048575   \n",
       "Contract_Month-to-month                                              -0.204145   \n",
       "Contract_One year                                                     0.067589   \n",
       "Contract_Two year                                                     0.173265   \n",
       "PaymentMethod_Bank transfer (automatic)                              -0.278215   \n",
       "PaymentMethod_Credit card (automatic)                                 1.000000   \n",
       "PaymentMethod_Electronic check                                       -0.373322   \n",
       "PaymentMethod_Mailed check                                           -0.286049   \n",
       "AdditionalServices_0                                                 -0.052375   \n",
       "AdditionalServices_1                                                 -0.062928   \n",
       "AdditionalServices_2                                                 -0.033380   \n",
       "AdditionalServices_3                                                  0.006041   \n",
       "AdditionalServices_4                                                  0.036901   \n",
       "AdditionalServices_5                                                  0.094293   \n",
       "AdditionalServices_6                                                  0.090536   \n",
       "\n",
       "                                         PaymentMethod_Electronic check  \\\n",
       "gender                                                        -0.000752   \n",
       "SeniorCitizen                                                  0.171718   \n",
       "Partner                                                             NaN   \n",
       "Dependents                                                          NaN   \n",
       "tenure                                                        -0.208363   \n",
       "PhoneService                                                        NaN   \n",
       "PaperlessBilling                                                    NaN   \n",
       "MonthlyCharges                                                 0.271625   \n",
       "TotalCharges                                                   0.041220   \n",
       "Churn                                                          0.301919   \n",
       "MultipleLines_No                                              -0.080836   \n",
       "MultipleLines_No phone service                                -0.003062   \n",
       "MultipleLines_Yes                                              0.083618   \n",
       "InternetService_DSL                                           -0.104418   \n",
       "InternetService_Fiber optic                                    0.336410   \n",
       "InternetService_No                                            -0.284917   \n",
       "OnlineSecurity_No                                              0.336364   \n",
       "OnlineSecurity_No internet service                            -0.284917   \n",
       "OnlineSecurity_Yes                                            -0.112338   \n",
       "OnlineBackup_No                                                0.236947   \n",
       "OnlineBackup_No internet service                              -0.284917   \n",
       "OnlineBackup_Yes                                              -0.000408   \n",
       "DeviceProtection_No                                            0.239705   \n",
       "DeviceProtection_No internet service                          -0.284917   \n",
       "DeviceProtection_Yes                                          -0.003351   \n",
       "TechSupport_No                                                 0.339031   \n",
       "TechSupport_No internet service                               -0.284917   \n",
       "TechSupport_Yes                                               -0.114839   \n",
       "StreamingTV_No                                                 0.096033   \n",
       "StreamingTV_No internet service                               -0.284917   \n",
       "StreamingTV_Yes                                                0.144626   \n",
       "StreamingMovies_No                                             0.102571   \n",
       "StreamingMovies_No internet service                           -0.284917   \n",
       "StreamingMovies_Yes                                            0.137966   \n",
       "Contract_Month-to-month                                        0.331661   \n",
       "Contract_One year                                             -0.109130   \n",
       "Contract_Two year                                             -0.282138   \n",
       "PaymentMethod_Bank transfer (automatic)                       -0.376762   \n",
       "PaymentMethod_Credit card (automatic)                         -0.373322   \n",
       "PaymentMethod_Electronic check                                 1.000000   \n",
       "PaymentMethod_Mailed check                                    -0.387372   \n",
       "AdditionalServices_0                                          -0.177412   \n",
       "AdditionalServices_1                                           0.142121   \n",
       "AdditionalServices_2                                           0.107182   \n",
       "AdditionalServices_3                                           0.071232   \n",
       "AdditionalServices_4                                           0.000833   \n",
       "AdditionalServices_5                                          -0.048177   \n",
       "AdditionalServices_6                                          -0.089201   \n",
       "\n",
       "                                         PaymentMethod_Mailed check  \\\n",
       "gender                                                    -0.013744   \n",
       "SeniorCitizen                                             -0.153477   \n",
       "Partner                                                         NaN   \n",
       "Dependents                                                      NaN   \n",
       "tenure                                                    -0.233852   \n",
       "PhoneService                                                    NaN   \n",
       "PaperlessBilling                                                NaN   \n",
       "MonthlyCharges                                            -0.377437   \n",
       "TotalCharges                                              -0.096529   \n",
       "Churn                                                     -0.091683   \n",
       "MultipleLines_No                                           0.222605   \n",
       "MultipleLines_No phone service                             0.003319   \n",
       "MultipleLines_Yes                                         -0.227206   \n",
       "InternetService_DSL                                        0.041899   \n",
       "InternetService_Fiber optic                               -0.306834   \n",
       "InternetService_No                                         0.321361   \n",
       "OnlineSecurity_No                                         -0.191715   \n",
       "OnlineSecurity_No internet service                         0.321361   \n",
       "OnlineSecurity_Yes                                        -0.080798   \n",
       "OnlineBackup_No                                           -0.099975   \n",
       "OnlineBackup_No internet service                           0.321361   \n",
       "OnlineBackup_Yes                                          -0.174164   \n",
       "DeviceProtection_No                                       -0.087422   \n",
       "DeviceProtection_No internet service                       0.321361   \n",
       "DeviceProtection_Yes                                      -0.187373   \n",
       "TechSupport_No                                            -0.187185   \n",
       "TechSupport_No internet service                            0.321361   \n",
       "TechSupport_Yes                                           -0.085509   \n",
       "StreamingTV_No                                            -0.024261   \n",
       "StreamingTV_No internet service                            0.321361   \n",
       "StreamingTV_Yes                                           -0.247742   \n",
       "StreamingMovies_No                                        -0.021034   \n",
       "StreamingMovies_No internet service                        0.321361   \n",
       "StreamingMovies_Yes                                       -0.250595   \n",
       "Contract_Month-to-month                                    0.004138   \n",
       "Contract_One year                                         -0.000116   \n",
       "Contract_Two year                                         -0.004705   \n",
       "PaymentMethod_Bank transfer (automatic)                   -0.288685   \n",
       "PaymentMethod_Credit card (automatic)                     -0.286049   \n",
       "PaymentMethod_Electronic check                            -0.387372   \n",
       "PaymentMethod_Mailed check                                 1.000000   \n",
       "AdditionalServices_0                                       0.297645   \n",
       "AdditionalServices_1                                      -0.040376   \n",
       "AdditionalServices_2                                      -0.052001   \n",
       "AdditionalServices_3                                      -0.096080   \n",
       "AdditionalServices_4                                      -0.100538   \n",
       "AdditionalServices_5                                      -0.094960   \n",
       "AdditionalServices_6                                      -0.061853   \n",
       "\n",
       "                                         AdditionalServices_0  \\\n",
       "gender                                              -0.012193   \n",
       "SeniorCitizen                                       -0.125052   \n",
       "Partner                                                   NaN   \n",
       "Dependents                                                NaN   \n",
       "tenure                                              -0.227570   \n",
       "PhoneService                                              NaN   \n",
       "PaperlessBilling                                          NaN   \n",
       "MonthlyCharges                                      -0.720625   \n",
       "TotalCharges                                        -0.136388   \n",
       "Churn                                               -0.078816   \n",
       "MultipleLines_No                                     0.317439   \n",
       "MultipleLines_No phone service                      -0.139396   \n",
       "MultipleLines_Yes                                   -0.237693   \n",
       "InternetService_DSL                                 -0.301664   \n",
       "InternetService_Fiber optic                         -0.354973   \n",
       "InternetService_No                                   0.775445   \n",
       "OnlineSecurity_No                                   -0.250082   \n",
       "OnlineSecurity_No internet service                   0.775445   \n",
       "OnlineSecurity_Yes                                  -0.429950   \n",
       "OnlineBackup_No                                     -0.172424   \n",
       "OnlineBackup_No internet service                     0.775445   \n",
       "OnlineBackup_Yes                                    -0.492096   \n",
       "DeviceProtection_No                                 -0.173739   \n",
       "DeviceProtection_No internet service                 0.775445   \n",
       "DeviceProtection_Yes                                -0.491014   \n",
       "TechSupport_No                                      -0.245285   \n",
       "TechSupport_No internet service                      0.775445   \n",
       "TechSupport_Yes                                     -0.433684   \n",
       "StreamingTV_No                                      -0.120046   \n",
       "StreamingTV_No internet service                      0.775445   \n",
       "StreamingTV_Yes                                     -0.535889   \n",
       "StreamingMovies_No                                  -0.115306   \n",
       "StreamingMovies_No internet service                  0.775445   \n",
       "StreamingMovies_Yes                                 -0.539916   \n",
       "Contract_Month-to-month                             -0.016512   \n",
       "Contract_One year                                   -0.060190   \n",
       "Contract_Two year                                    0.076478   \n",
       "PaymentMethod_Bank transfer (automatic)             -0.047621   \n",
       "PaymentMethod_Credit card (automatic)               -0.052375   \n",
       "PaymentMethod_Electronic check                      -0.177412   \n",
       "PaymentMethod_Mailed check                           0.297645   \n",
       "AdditionalServices_0                                 1.000000   \n",
       "AdditionalServices_1                                -0.270408   \n",
       "AdditionalServices_2                                -0.281182   \n",
       "AdditionalServices_3                                -0.294613   \n",
       "AdditionalServices_4                                -0.251602   \n",
       "AdditionalServices_5                                -0.201453   \n",
       "AdditionalServices_6                                -0.139025   \n",
       "\n",
       "                                         AdditionalServices_1  \\\n",
       "gender                                               0.006269   \n",
       "SeniorCitizen                                        0.045201   \n",
       "Partner                                                   NaN   \n",
       "Dependents                                                NaN   \n",
       "tenure                                              -0.251687   \n",
       "PhoneService                                              NaN   \n",
       "PaperlessBilling                                          NaN   \n",
       "MonthlyCharges                                       0.010768   \n",
       "TotalCharges                                        -0.023312   \n",
       "Churn                                                0.173543   \n",
       "MultipleLines_No                                     0.022333   \n",
       "MultipleLines_No phone service                       0.028553   \n",
       "MultipleLines_Yes                                   -0.039693   \n",
       "InternetService_DSL                                  0.072075   \n",
       "InternetService_Fiber optic                          0.105076   \n",
       "InternetService_No                                  -0.209686   \n",
       "OnlineSecurity_No                                    0.256908   \n",
       "OnlineSecurity_No internet service                  -0.209686   \n",
       "OnlineSecurity_Yes                                  -0.093024   \n",
       "OnlineBackup_No                                      0.277366   \n",
       "OnlineBackup_No internet service                    -0.209686   \n",
       "OnlineBackup_Yes                                    -0.107805   \n",
       "DeviceProtection_No                                  0.347184   \n",
       "DeviceProtection_No internet service                -0.209686   \n",
       "DeviceProtection_Yes                                -0.180901   \n",
       "TechSupport_No                                       0.320022   \n",
       "TechSupport_No internet service                     -0.209686   \n",
       "TechSupport_Yes                                     -0.162187   \n",
       "StreamingTV_No                                       0.345218   \n",
       "StreamingTV_No internet service                     -0.209686   \n",
       "StreamingTV_Yes                                     -0.169936   \n",
       "StreamingMovies_No                                   0.336822   \n",
       "StreamingMovies_No internet service                 -0.209686   \n",
       "StreamingMovies_Yes                                 -0.160692   \n",
       "Contract_Month-to-month                              0.286657   \n",
       "Contract_One year                                   -0.135007   \n",
       "Contract_Two year                                   -0.205147   \n",
       "PaymentMethod_Bank transfer (automatic)             -0.058630   \n",
       "PaymentMethod_Credit card (automatic)               -0.062928   \n",
       "PaymentMethod_Electronic check                       0.142121   \n",
       "PaymentMethod_Mailed check                          -0.040376   \n",
       "AdditionalServices_0                                -0.270408   \n",
       "AdditionalServices_1                                 1.000000   \n",
       "AdditionalServices_2                                -0.165294   \n",
       "AdditionalServices_3                                -0.173189   \n",
       "AdditionalServices_4                                -0.147905   \n",
       "AdditionalServices_5                                -0.118425   \n",
       "AdditionalServices_6                                -0.081726   \n",
       "\n",
       "                                         AdditionalServices_2  \\\n",
       "gender                                               0.002740   \n",
       "SeniorCitizen                                        0.052813   \n",
       "Partner                                                   NaN   \n",
       "Dependents                                                NaN   \n",
       "tenure                                              -0.106839   \n",
       "PhoneService                                              NaN   \n",
       "PaperlessBilling                                          NaN   \n",
       "MonthlyCharges                                       0.105490   \n",
       "TotalCharges                                        -0.080653   \n",
       "Churn                                                0.087146   \n",
       "MultipleLines_No                                    -0.035514   \n",
       "MultipleLines_No phone service                       0.059673   \n",
       "MultipleLines_Yes                                    0.000197   \n",
       "InternetService_DSL                                  0.083580   \n",
       "InternetService_Fiber optic                          0.101001   \n",
       "InternetService_No                                  -0.218041   \n",
       "OnlineSecurity_No                                    0.180564   \n",
       "OnlineSecurity_No internet service                  -0.218041   \n",
       "OnlineSecurity_Yes                                  -0.001001   \n",
       "OnlineBackup_No                                      0.183671   \n",
       "OnlineBackup_No internet service                    -0.218041   \n",
       "OnlineBackup_Yes                                    -0.002755   \n",
       "DeviceProtection_No                                  0.221610   \n",
       "DeviceProtection_No internet service                -0.218041   \n",
       "DeviceProtection_Yes                                -0.042445   \n",
       "TechSupport_No                                       0.207604   \n",
       "TechSupport_No internet service                     -0.218041   \n",
       "TechSupport_Yes                                     -0.030768   \n",
       "StreamingTV_No                                       0.152324   \n",
       "StreamingTV_No internet service                     -0.218041   \n",
       "StreamingTV_Yes                                      0.031322   \n",
       "StreamingMovies_No                                   0.173625   \n",
       "StreamingMovies_No internet service                 -0.218041   \n",
       "StreamingMovies_Yes                                  0.010128   \n",
       "Contract_Month-to-month                              0.173978   \n",
       "Contract_One year                                   -0.022742   \n",
       "Contract_Two year                                   -0.180826   \n",
       "PaymentMethod_Bank transfer (automatic)             -0.036338   \n",
       "PaymentMethod_Credit card (automatic)               -0.033380   \n",
       "PaymentMethod_Electronic check                       0.107182   \n",
       "PaymentMethod_Mailed check                          -0.052001   \n",
       "AdditionalServices_0                                -0.281182   \n",
       "AdditionalServices_1                                -0.165294   \n",
       "AdditionalServices_2                                 1.000000   \n",
       "AdditionalServices_3                                -0.180090   \n",
       "AdditionalServices_4                                -0.153799   \n",
       "AdditionalServices_5                                -0.123144   \n",
       "AdditionalServices_6                                -0.084983   \n",
       "\n",
       "                                         AdditionalServices_3  \\\n",
       "gender                                              -0.012187   \n",
       "SeniorCitizen                                        0.042924   \n",
       "Partner                                                   NaN   \n",
       "Dependents                                                NaN   \n",
       "tenure                                               0.076070   \n",
       "PhoneService                                              NaN   \n",
       "PaperlessBilling                                          NaN   \n",
       "MonthlyCharges                                       0.221595   \n",
       "TotalCharges                                        -0.032225   \n",
       "Churn                                                0.008198   \n",
       "MultipleLines_No                                    -0.115186   \n",
       "MultipleLines_No phone service                       0.057467   \n",
       "MultipleLines_Yes                                    0.082126   \n",
       "InternetService_DSL                                  0.074191   \n",
       "InternetService_Fiber optic                          0.118630   \n",
       "InternetService_No                                  -0.228456   \n",
       "OnlineSecurity_No                                    0.085271   \n",
       "OnlineSecurity_No internet service                  -0.228456   \n",
       "OnlineSecurity_Yes                                   0.113850   \n",
       "OnlineBackup_No                                      0.035090   \n",
       "OnlineBackup_No internet service                    -0.228456   \n",
       "OnlineBackup_Yes                                     0.161375   \n",
       "DeviceProtection_No                                  0.049086   \n",
       "DeviceProtection_No internet service                -0.228456   \n",
       "DeviceProtection_Yes                                 0.146853   \n",
       "TechSupport_No                                       0.100796   \n",
       "TechSupport_No internet service                     -0.228456   \n",
       "TechSupport_Yes                                      0.096340   \n",
       "StreamingTV_No                                       0.019791   \n",
       "StreamingTV_No internet service                     -0.228456   \n",
       "StreamingTV_Yes                                      0.173560   \n",
       "StreamingMovies_No                                   0.004698   \n",
       "StreamingMovies_No internet service                 -0.228456   \n",
       "StreamingMovies_Yes                                  0.188440   \n",
       "Contract_Month-to-month                              0.009283   \n",
       "Contract_One year                                    0.082330   \n",
       "Contract_Two year                                   -0.089129   \n",
       "PaymentMethod_Bank transfer (automatic)              0.010243   \n",
       "PaymentMethod_Credit card (automatic)                0.006041   \n",
       "PaymentMethod_Electronic check                       0.071232   \n",
       "PaymentMethod_Mailed check                          -0.096080   \n",
       "AdditionalServices_0                                -0.294613   \n",
       "AdditionalServices_1                                -0.173189   \n",
       "AdditionalServices_2                                -0.180090   \n",
       "AdditionalServices_3                                 1.000000   \n",
       "AdditionalServices_4                                -0.161145   \n",
       "AdditionalServices_5                                -0.129025   \n",
       "AdditionalServices_6                                -0.089042   \n",
       "\n",
       "                                         AdditionalServices_4  \\\n",
       "gender                                              -0.002567   \n",
       "SeniorCitizen                                        0.041170   \n",
       "Partner                                                   NaN   \n",
       "Dependents                                                NaN   \n",
       "tenure                                               0.224247   \n",
       "PhoneService                                              NaN   \n",
       "PaperlessBilling                                          NaN   \n",
       "MonthlyCharges                                       0.283701   \n",
       "TotalCharges                                         0.091158   \n",
       "Churn                                               -0.035595   \n",
       "MultipleLines_No                                    -0.129924   \n",
       "MultipleLines_No phone service                       0.019873   \n",
       "MultipleLines_Yes                                    0.119549   \n",
       "InternetService_DSL                                  0.060623   \n",
       "InternetService_Fiber optic                          0.103931   \n",
       "InternetService_No                                  -0.195104   \n",
       "OnlineSecurity_No                                    0.016409   \n",
       "OnlineSecurity_No internet service                  -0.195104   \n",
       "OnlineSecurity_Yes                                   0.159603   \n",
       "OnlineBackup_No                                     -0.071568   \n",
       "OnlineBackup_No internet service                    -0.195104   \n",
       "OnlineBackup_Yes                                     0.243809   \n",
       "DeviceProtection_No                                 -0.136335   \n",
       "DeviceProtection_No internet service                -0.195104   \n",
       "DeviceProtection_Yes                                 0.311667   \n",
       "TechSupport_No                                      -0.039306   \n",
       "TechSupport_No internet service                     -0.195104   \n",
       "TechSupport_Yes                                      0.220395   \n",
       "StreamingTV_No                                      -0.133311   \n",
       "StreamingTV_No internet service                     -0.195104   \n",
       "StreamingTV_Yes                                      0.299437   \n",
       "StreamingMovies_No                                  -0.134383   \n",
       "StreamingMovies_No internet service                 -0.195104   \n",
       "StreamingMovies_Yes                                  0.299798   \n",
       "Contract_Month-to-month                             -0.159087   \n",
       "Contract_One year                                    0.131480   \n",
       "Contract_Two year                                    0.060047   \n",
       "PaymentMethod_Bank transfer (automatic)              0.064430   \n",
       "PaymentMethod_Credit card (automatic)                0.036901   \n",
       "PaymentMethod_Electronic check                       0.000833   \n",
       "PaymentMethod_Mailed check                          -0.100538   \n",
       "AdditionalServices_0                                -0.251602   \n",
       "AdditionalServices_1                                -0.147905   \n",
       "AdditionalServices_2                                -0.153799   \n",
       "AdditionalServices_3                                -0.161145   \n",
       "AdditionalServices_4                                 1.000000   \n",
       "AdditionalServices_5                                -0.110189   \n",
       "AdditionalServices_6                                -0.076043   \n",
       "\n",
       "                                         AdditionalServices_5  \\\n",
       "gender                                               0.021033   \n",
       "SeniorCitizen                                       -0.009295   \n",
       "Partner                                                   NaN   \n",
       "Dependents                                                NaN   \n",
       "tenure                                               0.276897   \n",
       "PhoneService                                              NaN   \n",
       "PaperlessBilling                                          NaN   \n",
       "MonthlyCharges                                       0.270635   \n",
       "TotalCharges                                         0.157659   \n",
       "Churn                                               -0.094872   \n",
       "MultipleLines_No                                    -0.123724   \n",
       "MultipleLines_No phone service                       0.027630   \n",
       "MultipleLines_Yes                                    0.108631   \n",
       "InternetService_DSL                                  0.092790   \n",
       "InternetService_Fiber optic                          0.040871   \n",
       "InternetService_No                                  -0.156216   \n",
       "OnlineSecurity_No                                   -0.119225   \n",
       "OnlineSecurity_No internet service                  -0.156216   \n",
       "OnlineSecurity_Yes                                   0.274141   \n",
       "OnlineBackup_No                                     -0.125126   \n",
       "OnlineBackup_No internet service                    -0.156216   \n",
       "OnlineBackup_Yes                                     0.266014   \n",
       "DeviceProtection_No                                 -0.201153   \n",
       "DeviceProtection_No internet service                -0.156216   \n",
       "DeviceProtection_Yes                                 0.345667   \n",
       "TechSupport_No                                      -0.197242   \n",
       "TechSupport_No internet service                     -0.156216   \n",
       "TechSupport_Yes                                      0.359070   \n",
       "StreamingTV_No                                      -0.175083   \n",
       "StreamingTV_No internet service                     -0.156216   \n",
       "StreamingTV_Yes                                      0.308552   \n",
       "StreamingMovies_No                                  -0.179577   \n",
       "StreamingMovies_No internet service                 -0.156216   \n",
       "StreamingMovies_Yes                                  0.312268   \n",
       "Contract_Month-to-month                             -0.227076   \n",
       "Contract_One year                                    0.063414   \n",
       "Contract_Two year                                    0.203922   \n",
       "PaymentMethod_Bank transfer (automatic)              0.057615   \n",
       "PaymentMethod_Credit card (automatic)                0.094293   \n",
       "PaymentMethod_Electronic check                      -0.048177   \n",
       "PaymentMethod_Mailed check                          -0.094960   \n",
       "AdditionalServices_0                                -0.201453   \n",
       "AdditionalServices_1                                -0.118425   \n",
       "AdditionalServices_2                                -0.123144   \n",
       "AdditionalServices_3                                -0.129025   \n",
       "AdditionalServices_4                                -0.110189   \n",
       "AdditionalServices_5                                 1.000000   \n",
       "AdditionalServices_6                                -0.060886   \n",
       "\n",
       "                                         AdditionalServices_6  \n",
       "gender                                               0.010612  \n",
       "SeniorCitizen                                       -0.013805  \n",
       "Partner                                                   NaN  \n",
       "Dependents                                                NaN  \n",
       "tenure                                               0.272441  \n",
       "PhoneService                                              NaN  \n",
       "PaperlessBilling                                          NaN  \n",
       "MonthlyCharges                                       0.235748  \n",
       "TotalCharges                                         0.197890  \n",
       "Churn                                               -0.098679  \n",
       "MultipleLines_No                                    -0.123794  \n",
       "MultipleLines_No phone service                      -0.006103  \n",
       "MultipleLines_Yes                                    0.128903  \n",
       "InternetService_DSL                                  0.068956  \n",
       "InternetService_Fiber optic                          0.023497  \n",
       "InternetService_No                                  -0.107806  \n",
       "OnlineSecurity_No                                   -0.203620  \n",
       "OnlineSecurity_No internet service                  -0.107806  \n",
       "OnlineSecurity_Yes                                   0.323351  \n",
       "OnlineBackup_No                                     -0.181127  \n",
       "OnlineBackup_No internet service                    -0.107806  \n",
       "OnlineBackup_Yes                                     0.282516  \n",
       "DeviceProtection_No                                 -0.181493  \n",
       "DeviceProtection_No internet service                -0.107806  \n",
       "DeviceProtection_Yes                                 0.283138  \n",
       "TechSupport_No                                      -0.202179  \n",
       "TechSupport_No internet service                     -0.107806  \n",
       "TechSupport_Yes                                      0.320567  \n",
       "StreamingTV_No                                      -0.167012  \n",
       "StreamingTV_No internet service                     -0.107806  \n",
       "StreamingTV_Yes                                      0.259429  \n",
       "StreamingMovies_No                                  -0.165778  \n",
       "StreamingMovies_No internet service                 -0.107806  \n",
       "StreamingMovies_Yes                                  0.257494  \n",
       "Contract_Month-to-month                             -0.213647  \n",
       "Contract_One year                                   -0.039748  \n",
       "Contract_Two year                                    0.286440  \n",
       "PaymentMethod_Bank transfer (automatic)              0.074564  \n",
       "PaymentMethod_Credit card (automatic)                0.090536  \n",
       "PaymentMethod_Electronic check                      -0.089201  \n",
       "PaymentMethod_Mailed check                          -0.061853  \n",
       "AdditionalServices_0                                -0.139025  \n",
       "AdditionalServices_1                                -0.081726  \n",
       "AdditionalServices_2                                -0.084983  \n",
       "AdditionalServices_3                                -0.089042  \n",
       "AdditionalServices_4                                -0.076043  \n",
       "AdditionalServices_5                                -0.060886  \n",
       "AdditionalServices_6                                 1.000000  "
      ]
     },
     "execution_count": 95,
     "metadata": {},
     "output_type": "execute_result"
    }
   ],
   "source": [
    "# Checking Correlation\n",
    "df.corr()"
   ]
  },
  {
   "cell_type": "code",
   "execution_count": 96,
   "metadata": {},
   "outputs": [],
   "source": [
    "df = df.dropna()"
   ]
  },
  {
   "cell_type": "code",
   "execution_count": 97,
   "metadata": {
    "scrolled": true
   },
   "outputs": [
    {
     "data": {
      "text/plain": [
       "<AxesSubplot:>"
      ]
     },
     "execution_count": 97,
     "metadata": {},
     "output_type": "execute_result"
    },
    {
     "data": {
      "image/png": "[encoded data removed]",
      "text/plain": [
       "<Figure size 1440x360 with 1 Axes>"
      ]
     },
     "metadata": {
      "needs_background": "light"
     },
     "output_type": "display_data"
    }
   ],
   "source": [
    "plt.figure(figsize=(15,10))\n",
    "df.corr()['Churn'].sort_values(ascending=False).plot(kind='bar',figsize=(20,5))"
   ]
  },
  {
   "cell_type": "markdown",
   "metadata": {},
   "source": [
    "##### Balancing the data"
   ]
  },
  {
   "cell_type": "code",
   "execution_count": 98,
   "metadata": {},
   "outputs": [],
   "source": [
    "## Splitting target and feature variable into x and y\n",
    "x = df.drop(columns=['Churn'])\n",
    "y= df['Churn']"
   ]
  },
  {
   "cell_type": "code",
   "execution_count": 99,
   "metadata": {},
   "outputs": [
    {
     "data": {
      "text/plain": [
       "(7043, 47)"
      ]
     },
     "execution_count": 99,
     "metadata": {},
     "output_type": "execute_result"
    }
   ],
   "source": [
    "x.shape"
   ]
  },
  {
   "cell_type": "code",
   "execution_count": 100,
   "metadata": {},
   "outputs": [
    {
     "data": {
      "text/plain": [
       "(7043,)"
      ]
     },
     "execution_count": 100,
     "metadata": {},
     "output_type": "execute_result"
    }
   ],
   "source": [
    "y.shape"
   ]
  },
  {
   "cell_type": "code",
   "execution_count": 101,
   "metadata": {},
   "outputs": [],
   "source": [
    "from imblearn.over_sampling import SMOTE\n",
    "sm = SMOTE()"
   ]
  },
  {
   "cell_type": "code",
   "execution_count": 103,
   "metadata": {
    "scrolled": true
   },
   "outputs": [],
   "source": [
    "x1,y1 = sm.fit_resample(x,y)"
   ]
  },
  {
   "cell_type": "code",
   "execution_count": 104,
   "metadata": {},
   "outputs": [
    {
     "data": {
      "text/plain": [
       "1    5174\n",
       "0    5174\n",
       "Name: Churn, dtype: int64"
      ]
     },
     "execution_count": 104,
     "metadata": {},
     "output_type": "execute_result"
    }
   ],
   "source": [
    "y1.value_counts()"
   ]
  },
  {
   "cell_type": "code",
   "execution_count": 105,
   "metadata": {},
   "outputs": [
    {
     "data": {
      "text/plain": [
       "array([[ 1.18525687, -0.39309561,  0.        , ..., -0.31479705,\n",
       "        -0.24345249, -0.16950071],\n",
       "       [-0.84369897, -0.39309561,  0.        , ..., -0.31479705,\n",
       "        -0.24345249, -0.16950071],\n",
       "       [-0.84369897, -0.39309561,  0.        , ..., -0.31479705,\n",
       "        -0.24345249, -0.16950071],\n",
       "       ...,\n",
       "       [-0.84369897, -0.39309561,  0.        , ..., -0.31479705,\n",
       "        -0.24345249, -0.16950071],\n",
       "       [ 1.18525687, -0.39309561,  0.        , ..., -0.31479705,\n",
       "        -0.24345249, -0.16950071],\n",
       "       [-0.84369897, -0.39309561,  0.        , ...,  3.1766498 ,\n",
       "        -0.24345249, -0.16950071]])"
      ]
     },
     "execution_count": 105,
     "metadata": {},
     "output_type": "execute_result"
    }
   ],
   "source": [
    "scaler = StandardScaler()\n",
    "x_scaler = scaler.fit_transform(x1)\n",
    "x_scaler"
   ]
  },
  {
   "cell_type": "markdown",
   "metadata": {},
   "source": [
    "## Finding Best Random State"
   ]
  },
  {
   "cell_type": "code",
   "execution_count": 134,
   "metadata": {},
   "outputs": [],
   "source": [
    "from sklearn.tree import DecisionTreeClassifier\n",
    "from sklearn.model_selection import train_test_split,GridSearchCV\n",
    "from sklearn.metrics import accuracy_score,confusion_matrix,roc_curve,roc_auc_score\n",
    "from sklearn.model_selection import cross_val_score\n",
    "from sklearn.ensemble import RandomForestClassifier\n",
    "from sklearn.svm import SVC\n",
    "from sklearn.metrics import classification_report\n",
    "from sklearn.metrics import plot_roc_curve"
   ]
  },
  {
   "cell_type": "code",
   "execution_count": 108,
   "metadata": {},
   "outputs": [
    {
     "name": "stdout",
     "output_type": "stream",
     "text": [
      "Best Accuracy score is: 0.8238325281803542 On Random state:  437\n"
     ]
    }
   ],
   "source": [
    "maxaccu = 0\n",
    "maxrs = 0\n",
    "\n",
    "for i in range(1,500):\n",
    "    x1_train,x1_test,y1_train,y1_test = train_test_split(x_scaler,y1,test_size = 0.30,random_state = i)\n",
    "    dt = DecisionTreeClassifier()\n",
    "    dt.fit(x1_train,y1_train)\n",
    "    pred = dt.predict(x1_test)\n",
    "    acc = accuracy_score(y1_test,pred)\n",
    "    if acc>maxaccu:\n",
    "        maxaccu=acc\n",
    "        maxrs=i\n",
    "print(\"Best Accuracy score is:\",maxaccu,\"On Random state: \",maxrs)\n",
    "        "
   ]
  },
  {
   "cell_type": "code",
   "execution_count": 109,
   "metadata": {},
   "outputs": [],
   "source": [
    "x1_train,x1_test,y1_train,y1_test=train_test_split(x_scaler,y1,random_state=i,test_size=0.30)"
   ]
  },
  {
   "cell_type": "code",
   "execution_count": 111,
   "metadata": {
    "scrolled": true
   },
   "outputs": [
    {
     "name": "stdout",
     "output_type": "stream",
     "text": [
      "              precision    recall  f1-score   support\n",
      "\n",
      "           0       0.80      0.82      0.81      1513\n",
      "           1       0.83      0.80      0.81      1592\n",
      "\n",
      "    accuracy                           0.81      3105\n",
      "   macro avg       0.81      0.81      0.81      3105\n",
      "weighted avg       0.81      0.81      0.81      3105\n",
      "\n"
     ]
    }
   ],
   "source": [
    "DTC = DecisionTreeClassifier()\n",
    "DTC.fit(x1_train,y1_train)\n",
    "pred = DTC.predict(x1_test)\n",
    "acc = classification_report(y1_test,pred)\n",
    "print(acc)"
   ]
  },
  {
   "cell_type": "code",
   "execution_count": 112,
   "metadata": {},
   "outputs": [
    {
     "name": "stdout",
     "output_type": "stream",
     "text": [
      "0.7969803611163646\n"
     ]
    }
   ],
   "source": [
    "print(cross_val_score(DTC,x_scaler,y1,cv=5).mean())"
   ]
  },
  {
   "cell_type": "code",
   "execution_count": 113,
   "metadata": {
    "scrolled": true
   },
   "outputs": [
    {
     "name": "stdout",
     "output_type": "stream",
     "text": [
      "              precision    recall  f1-score   support\n",
      "\n",
      "           0       0.82      0.87      0.84      1513\n",
      "           1       0.87      0.82      0.84      1592\n",
      "\n",
      "    accuracy                           0.84      3105\n",
      "   macro avg       0.84      0.84      0.84      3105\n",
      "weighted avg       0.85      0.84      0.84      3105\n",
      "\n"
     ]
    }
   ],
   "source": [
    "RFC = RandomForestClassifier()\n",
    "RFC.fit(x1_train,y1_train)\n",
    "pred =RFC.predict(x1_test)\n",
    "acc = classification_report(y1_test,pred)\n",
    "print(acc)\n"
   ]
  },
  {
   "cell_type": "code",
   "execution_count": 115,
   "metadata": {},
   "outputs": [
    {
     "name": "stdout",
     "output_type": "stream",
     "text": [
      "0.8324482176504787\n"
     ]
    }
   ],
   "source": [
    "print(cross_val_score(RFC,x_scaler,y1,cv=5).mean())"
   ]
  },
  {
   "cell_type": "code",
   "execution_count": 116,
   "metadata": {
    "scrolled": true
   },
   "outputs": [
    {
     "name": "stdout",
     "output_type": "stream",
     "text": [
      "              precision    recall  f1-score   support\n",
      "\n",
      "           0       0.83      0.87      0.85      1513\n",
      "           1       0.87      0.82      0.85      1592\n",
      "\n",
      "    accuracy                           0.85      3105\n",
      "   macro avg       0.85      0.85      0.85      3105\n",
      "weighted avg       0.85      0.85      0.85      3105\n",
      "\n"
     ]
    }
   ],
   "source": [
    "SV = SVC()\n",
    "SV.fit(x1_train,y1_train)\n",
    "pred = SV.predict(x1_test)\n",
    "acc = classification_report(y1_test,pred)\n",
    "print(acc)"
   ]
  },
  {
   "cell_type": "code",
   "execution_count": 117,
   "metadata": {
    "scrolled": false
   },
   "outputs": [
    {
     "name": "stdout",
     "output_type": "stream",
     "text": [
      "0.8260704720943861\n"
     ]
    }
   ],
   "source": [
    "print(cross_val_score(SV,x_scaler,y1,cv=5).mean())"
   ]
  },
  {
   "cell_type": "markdown",
   "metadata": {},
   "source": [
    "Though we can see that score for SVC are higher compare to other model but as the differnce between cv score and accuracy score are less for Random Forest Classifier so will do hyperparameter tuning for the same"
   ]
  },
  {
   "cell_type": "markdown",
   "metadata": {},
   "source": [
    "### ROC AUC curve"
   ]
  },
  {
   "cell_type": "code",
   "execution_count": 135,
   "metadata": {},
   "outputs": [
    {
     "data": {
      "image/png": "[encoded data removed]",
      "text/plain": [
       "<Figure size 432x288 with 1 Axes>"
      ]
     },
     "metadata": {
      "needs_background": "light"
     },
     "output_type": "display_data"
    }
   ],
   "source": [
    "disp = plot_roc_curve(DTC,x1_test,y1_test)\n",
    "\n",
    "plot_roc_curve(RFC,x1_test,y1_test,ax = disp.ax_) # ax = axes with confusion mtrix\n",
    "\n",
    "plot_roc_curve(SV,x1_test,y1_test,ax = disp.ax_)\n",
    "\n",
    "plt.legend(prop={'size':11}, loc = 'lower right')\n",
    "\n",
    "plt.show()"
   ]
  },
  {
   "cell_type": "markdown",
   "metadata": {},
   "source": [
    "Though the difference between SVC and Random Forest are very less and both performing well but the differnce between RFC and cv score are less compare to SVC so choosing SVC for hypertuning"
   ]
  },
  {
   "cell_type": "markdown",
   "metadata": {},
   "source": [
    "# Hyperparameter Tuning"
   ]
  },
  {
   "cell_type": "code",
   "execution_count": 121,
   "metadata": {},
   "outputs": [],
   "source": [
    "# RandomForestClassifier\n",
    "param = {'n_estimators':[100,500,700,900],\n",
    "        'criterion':['gini','entropy'],\n",
    "        'max_depth':[10,20,30,40,50],\n",
    "        'max_features':['auto','sqrt','log2'],\n",
    "        'class_weight':['balanced','balanced_subsample']}"
   ]
  },
  {
   "cell_type": "code",
   "execution_count": 122,
   "metadata": {},
   "outputs": [],
   "source": [
    "GC = GridSearchCV(RFC,param,cv=5)"
   ]
  },
  {
   "cell_type": "code",
   "execution_count": 125,
   "metadata": {},
   "outputs": [
    {
     "data": {
      "text/plain": [
       "GridSearchCV(cv=5, estimator=RandomForestClassifier(),\n",
       "             param_grid={'class_weight': ['balanced', 'balanced_subsample'],\n",
       "                         'criterion': ['gini', 'entropy'],\n",
       "                         'max_depth': [10, 20, 30, 40, 50],\n",
       "                         'max_features': ['auto', 'sqrt', 'log2'],\n",
       "                         'n_estimators': [100, 500, 700, 900]})"
      ]
     },
     "execution_count": 125,
     "metadata": {},
     "output_type": "execute_result"
    }
   ],
   "source": [
    "GC.fit(x1_train,y1_train)"
   ]
  },
  {
   "cell_type": "code",
   "execution_count": 126,
   "metadata": {},
   "outputs": [
    {
     "data": {
      "text/plain": [
       "{'class_weight': 'balanced',\n",
       " 'criterion': 'entropy',\n",
       " 'max_depth': 20,\n",
       " 'max_features': 'sqrt',\n",
       " 'n_estimators': 700}"
      ]
     },
     "execution_count": 126,
     "metadata": {},
     "output_type": "execute_result"
    }
   ],
   "source": [
    "GC.best_params_"
   ]
  },
  {
   "cell_type": "code",
   "execution_count": 130,
   "metadata": {},
   "outputs": [
    {
     "name": "stdout",
     "output_type": "stream",
     "text": [
      "85.1207729468599\n"
     ]
    }
   ],
   "source": [
    "final_rfc = RandomForestClassifier(class_weight='balanced',criterion= 'entropy',max_depth = 20, max_features = 'sqrt',n_estimators = 700)\n",
    "final_rfc.fit(x1_train,y1_train)\n",
    "pred = final_rfc.predict(x1_test)\n",
    "acc = accuracy_score(y1_test,pred)\n",
    "print(acc*100)"
   ]
  },
  {
   "cell_type": "markdown",
   "metadata": {},
   "source": [
    "Not much but 1% increase is there in our model performance"
   ]
  },
  {
   "cell_type": "markdown",
   "metadata": {},
   "source": [
    "# Save the Model"
   ]
  },
  {
   "cell_type": "code",
   "execution_count": 132,
   "metadata": {},
   "outputs": [
    {
     "data": {
      "text/plain": [
       "['Finalmodel Telecom Customer Churn']"
      ]
     },
     "execution_count": 132,
     "metadata": {},
     "output_type": "execute_result"
    }
   ],
   "source": [
    "import joblib\n",
    "joblib.dump(final_rfc,'Finalmodel Telecom Customer Churn')"
   ]
  },
  {
   "cell_type": "code",
   "execution_count": null,
   "metadata": {},
   "outputs": [],
   "source": []
  }
 ],
 "metadata": {
  "kernelspec": {
   "display_name": "Python 3",
   "language": "python",
   "name": "python3"
  },
  "language_info": {
   "codemirror_mode": {
    "name": "ipython",
    "version": 3
   },
   "file_extension": ".py",
   "mimetype": "text/x-python",
   "name": "python",
   "nbconvert_exporter": "python",
   "pygments_lexer": "ipython3",
   "version": "3.8.5"
  }
 },
 "nbformat": 4,
 "nbformat_minor": 4
}
